{
 "cells": [
  {
   "cell_type": "markdown",
   "metadata": {},
   "source": [
    "## Importing the libraries"
   ]
  },
  {
   "cell_type": "code",
   "execution_count": 1,
   "metadata": {},
   "outputs": [],
   "source": [
    "# TODO-LATER: \n",
    "# 1. Check if adding simple imputer or other kind of values in the domain age column has any difference on the accuracy"
   ]
  },
  {
   "cell_type": "code",
   "execution_count": 2,
   "metadata": {},
   "outputs": [],
   "source": [
    "import pandas as pd\n",
    "import numpy as np"
   ]
  },
  {
   "cell_type": "markdown",
   "metadata": {},
   "source": [
    "## Importing the dataset"
   ]
  },
  {
   "cell_type": "code",
   "execution_count": 3,
   "metadata": {},
   "outputs": [],
   "source": [
    "df = pd.read_csv('final_dataset.csv')"
   ]
  },
  {
   "cell_type": "markdown",
   "metadata": {},
   "source": [
    "## Preview"
   ]
  },
  {
   "cell_type": "code",
   "execution_count": 4,
   "metadata": {},
   "outputs": [
    {
     "data": {
      "text/html": [
       "<div>\n",
       "<style scoped>\n",
       "    .dataframe tbody tr th:only-of-type {\n",
       "        vertical-align: middle;\n",
       "    }\n",
       "\n",
       "    .dataframe tbody tr th {\n",
       "        vertical-align: top;\n",
       "    }\n",
       "\n",
       "    .dataframe thead th {\n",
       "        text-align: right;\n",
       "    }\n",
       "</style>\n",
       "<table border=\"1\" class=\"dataframe\">\n",
       "  <thead>\n",
       "    <tr style=\"text-align: right;\">\n",
       "      <th></th>\n",
       "      <th>tld</th>\n",
       "      <th>country_code</th>\n",
       "      <th>url_length</th>\n",
       "      <th>path_rest_length</th>\n",
       "      <th>num_spcs_chars</th>\n",
       "      <th>domain_entropy</th>\n",
       "      <th>domain_age</th>\n",
       "      <th>created_year</th>\n",
       "      <th>updated_year</th>\n",
       "      <th>expires_year</th>\n",
       "      <th>word_count</th>\n",
       "      <th>tld_in_path_rest</th>\n",
       "      <th>Label</th>\n",
       "    </tr>\n",
       "  </thead>\n",
       "  <tbody>\n",
       "    <tr>\n",
       "      <th>0</th>\n",
       "      <td>org</td>\n",
       "      <td>-1</td>\n",
       "      <td>98</td>\n",
       "      <td>84</td>\n",
       "      <td>0</td>\n",
       "      <td>3.03</td>\n",
       "      <td>-1</td>\n",
       "      <td>-1</td>\n",
       "      <td>-1</td>\n",
       "      <td>-1</td>\n",
       "      <td>6</td>\n",
       "      <td>0</td>\n",
       "      <td>bad</td>\n",
       "    </tr>\n",
       "    <tr>\n",
       "      <th>1</th>\n",
       "      <td>com</td>\n",
       "      <td>-1</td>\n",
       "      <td>70</td>\n",
       "      <td>57</td>\n",
       "      <td>0</td>\n",
       "      <td>3.19</td>\n",
       "      <td>-1</td>\n",
       "      <td>-1</td>\n",
       "      <td>-1</td>\n",
       "      <td>-1</td>\n",
       "      <td>1</td>\n",
       "      <td>0</td>\n",
       "      <td>bad</td>\n",
       "    </tr>\n",
       "    <tr>\n",
       "      <th>2</th>\n",
       "      <td>ru</td>\n",
       "      <td>-1</td>\n",
       "      <td>77</td>\n",
       "      <td>60</td>\n",
       "      <td>0</td>\n",
       "      <td>3.20</td>\n",
       "      <td>-1</td>\n",
       "      <td>-1</td>\n",
       "      <td>-1</td>\n",
       "      <td>-1</td>\n",
       "      <td>4</td>\n",
       "      <td>3</td>\n",
       "      <td>bad</td>\n",
       "    </tr>\n",
       "    <tr>\n",
       "      <th>3</th>\n",
       "      <td>com</td>\n",
       "      <td>-1</td>\n",
       "      <td>70</td>\n",
       "      <td>57</td>\n",
       "      <td>0</td>\n",
       "      <td>3.19</td>\n",
       "      <td>-1</td>\n",
       "      <td>-1</td>\n",
       "      <td>-1</td>\n",
       "      <td>-1</td>\n",
       "      <td>1</td>\n",
       "      <td>0</td>\n",
       "      <td>bad</td>\n",
       "    </tr>\n",
       "    <tr>\n",
       "      <th>4</th>\n",
       "      <td>net</td>\n",
       "      <td>-1</td>\n",
       "      <td>203</td>\n",
       "      <td>163</td>\n",
       "      <td>0</td>\n",
       "      <td>4.38</td>\n",
       "      <td>-1</td>\n",
       "      <td>-1</td>\n",
       "      <td>-1</td>\n",
       "      <td>-1</td>\n",
       "      <td>4</td>\n",
       "      <td>0</td>\n",
       "      <td>bad</td>\n",
       "    </tr>\n",
       "  </tbody>\n",
       "</table>\n",
       "</div>"
      ],
      "text/plain": [
       "   tld country_code  url_length  path_rest_length  num_spcs_chars  \\\n",
       "0  org           -1          98                84               0   \n",
       "1  com           -1          70                57               0   \n",
       "2   ru           -1          77                60               0   \n",
       "3  com           -1          70                57               0   \n",
       "4  net           -1         203               163               0   \n",
       "\n",
       "   domain_entropy  domain_age  created_year  updated_year  expires_year  \\\n",
       "0            3.03          -1            -1            -1            -1   \n",
       "1            3.19          -1            -1            -1            -1   \n",
       "2            3.20          -1            -1            -1            -1   \n",
       "3            3.19          -1            -1            -1            -1   \n",
       "4            4.38          -1            -1            -1            -1   \n",
       "\n",
       "   word_count  tld_in_path_rest Label  \n",
       "0           6                 0   bad  \n",
       "1           1                 0   bad  \n",
       "2           4                 3   bad  \n",
       "3           1                 0   bad  \n",
       "4           4                 0   bad  "
      ]
     },
     "execution_count": 4,
     "metadata": {},
     "output_type": "execute_result"
    }
   ],
   "source": [
    "df.head()"
   ]
  },
  {
   "cell_type": "code",
   "execution_count": 5,
   "metadata": {},
   "outputs": [
    {
     "data": {
      "text/plain": [
       "(667, 13)"
      ]
     },
     "execution_count": 5,
     "metadata": {},
     "output_type": "execute_result"
    }
   ],
   "source": [
    "df.shape"
   ]
  },
  {
   "cell_type": "code",
   "execution_count": 6,
   "metadata": {},
   "outputs": [],
   "source": [
    "df[['tld', 'country_code']] = df[['tld', 'country_code']].astype(\"string\")"
   ]
  },
  {
   "cell_type": "code",
   "execution_count": 7,
   "metadata": {},
   "outputs": [
    {
     "name": "stdout",
     "output_type": "stream",
     "text": [
      "<class 'pandas.core.frame.DataFrame'>\n",
      "RangeIndex: 667 entries, 0 to 666\n",
      "Data columns (total 13 columns):\n",
      " #   Column            Non-Null Count  Dtype  \n",
      "---  ------            --------------  -----  \n",
      " 0   tld               667 non-null    string \n",
      " 1   country_code      667 non-null    string \n",
      " 2   url_length        667 non-null    int64  \n",
      " 3   path_rest_length  667 non-null    int64  \n",
      " 4   num_spcs_chars    667 non-null    int64  \n",
      " 5   domain_entropy    667 non-null    float64\n",
      " 6   domain_age        667 non-null    int64  \n",
      " 7   created_year      667 non-null    int64  \n",
      " 8   updated_year      667 non-null    int64  \n",
      " 9   expires_year      667 non-null    int64  \n",
      " 10  word_count        667 non-null    int64  \n",
      " 11  tld_in_path_rest  667 non-null    int64  \n",
      " 12  Label             667 non-null    object \n",
      "dtypes: float64(1), int64(9), object(1), string(2)\n",
      "memory usage: 67.9+ KB\n"
     ]
    }
   ],
   "source": [
    "df.info()"
   ]
  },
  {
   "cell_type": "code",
   "execution_count": 8,
   "metadata": {},
   "outputs": [
    {
     "data": {
      "text/plain": [
       "tld                 0\n",
       "country_code        0\n",
       "url_length          0\n",
       "path_rest_length    0\n",
       "num_spcs_chars      0\n",
       "domain_entropy      0\n",
       "domain_age          0\n",
       "created_year        0\n",
       "updated_year        0\n",
       "expires_year        0\n",
       "word_count          0\n",
       "tld_in_path_rest    0\n",
       "Label               0\n",
       "dtype: int64"
      ]
     },
     "execution_count": 8,
     "metadata": {},
     "output_type": "execute_result"
    }
   ],
   "source": [
    "df.isnull().sum()"
   ]
  },
  {
   "cell_type": "markdown",
   "metadata": {},
   "source": [
    "## Encoding Categorical Data"
   ]
  },
  {
   "cell_type": "markdown",
   "metadata": {},
   "source": [
    "### Label Encoding - Label Column"
   ]
  },
  {
   "cell_type": "code",
   "execution_count": 9,
   "metadata": {},
   "outputs": [],
   "source": [
    "from sklearn.preprocessing import LabelEncoder\n",
    "\n",
    "# Step 1: Label Encoding for the 'Label' column\n",
    "le = LabelEncoder()\n",
    "df['Label'] = le.fit_transform(df['Label'])"
   ]
  },
  {
   "cell_type": "markdown",
   "metadata": {},
   "source": [
    "### One Hot Encoding - tld & country_code Column"
   ]
  },
  {
   "cell_type": "markdown",
   "metadata": {},
   "source": [
    "#### Replacing Values in tld Column Having Frequency Less Than 15 with 'other'"
   ]
  },
  {
   "cell_type": "code",
   "execution_count": 10,
   "metadata": {},
   "outputs": [
    {
     "data": {
      "text/plain": [
       "tld\n",
       "com     333\n",
       "org      49\n",
       "net      49\n",
       "ru       34\n",
       "biz      27\n",
       "cl       14\n",
       "au       14\n",
       "uk       12\n",
       "br       12\n",
       "ir       10\n",
       "pl        9\n",
       "co        7\n",
       "tk        7\n",
       "ly        6\n",
       "in        6\n",
       "info      5\n",
       "de        4\n",
       "ro        4\n",
       "ca        4\n",
       "se        3\n",
       "it        3\n",
       "ua        3\n",
       "nl        3\n",
       "np        3\n",
       "hu        3\n",
       "kz        3\n",
       "jp        2\n",
       "mx        2\n",
       "su        2\n",
       "nz        2\n",
       "fr        2\n",
       "me        2\n",
       "eu        2\n",
       "tr        2\n",
       "es        2\n",
       "ng        2\n",
       "vn        2\n",
       "zw        1\n",
       "gl        1\n",
       "js?       1\n",
       "il        1\n",
       "cc        1\n",
       "ie        1\n",
       "pt        1\n",
       "at        1\n",
       "my        1\n",
       "gr        1\n",
       "tw        1\n",
       "ch        1\n",
       "name      1\n",
       "lk        1\n",
       "cd        1\n",
       "hk        1\n",
       "bi        1\n",
       "ms        1\n",
       "Name: count, dtype: Int64"
      ]
     },
     "execution_count": 10,
     "metadata": {},
     "output_type": "execute_result"
    }
   ],
   "source": [
    "df['tld'].value_counts()"
   ]
  },
  {
   "cell_type": "code",
   "execution_count": 11,
   "metadata": {},
   "outputs": [
    {
     "data": {
      "text/plain": [
       "55"
      ]
     },
     "execution_count": 11,
     "metadata": {},
     "output_type": "execute_result"
    }
   ],
   "source": [
    "df['tld'].nunique()"
   ]
  },
  {
   "cell_type": "code",
   "execution_count": 12,
   "metadata": {},
   "outputs": [],
   "source": [
    "tld_counts = df['tld'].value_counts()\n",
    "threshold = 15"
   ]
  },
  {
   "cell_type": "code",
   "execution_count": 13,
   "metadata": {},
   "outputs": [],
   "source": [
    "repl = tld_counts[tld_counts <= threshold].index"
   ]
  },
  {
   "cell_type": "code",
   "execution_count": 14,
   "metadata": {},
   "outputs": [],
   "source": [
    "df['tld'] = df['tld'].replace(repl, 'other')"
   ]
  },
  {
   "cell_type": "markdown",
   "metadata": {},
   "source": [
    "#### Replacing Values in country_code Column Having Frequency Less Than 8 with 'XX'"
   ]
  },
  {
   "cell_type": "code",
   "execution_count": 15,
   "metadata": {},
   "outputs": [
    {
     "data": {
      "text/plain": [
       "country_code\n",
       "-1    379\n",
       "US    179\n",
       "CA     16\n",
       "IS     12\n",
       "FR      9\n",
       "GB      9\n",
       "NL      8\n",
       "CN      5\n",
       "AU      5\n",
       "DE      5\n",
       "BG      4\n",
       "RU      3\n",
       "LT      2\n",
       "MY      2\n",
       "JP      2\n",
       "KZ      2\n",
       "CZ      2\n",
       "AT      2\n",
       "IN      2\n",
       "BR      2\n",
       "DK      1\n",
       "UA      1\n",
       "PK      1\n",
       "GE      1\n",
       "ES      1\n",
       "GL      1\n",
       "TW      1\n",
       "CW      1\n",
       "CH      1\n",
       "FI      1\n",
       "LV      1\n",
       "PY      1\n",
       "IT      1\n",
       "NG      1\n",
       "CG      1\n",
       "RE      1\n",
       "NP      1\n",
       "Name: count, dtype: Int64"
      ]
     },
     "execution_count": 15,
     "metadata": {},
     "output_type": "execute_result"
    }
   ],
   "source": [
    "df['country_code'].value_counts()"
   ]
  },
  {
   "cell_type": "code",
   "execution_count": 16,
   "metadata": {},
   "outputs": [
    {
     "data": {
      "text/plain": [
       "37"
      ]
     },
     "execution_count": 16,
     "metadata": {},
     "output_type": "execute_result"
    }
   ],
   "source": [
    "df['country_code'].nunique()"
   ]
  },
  {
   "cell_type": "code",
   "execution_count": 17,
   "metadata": {},
   "outputs": [],
   "source": [
    "country_counts = df['country_code'].value_counts()\n",
    "threshold = 8"
   ]
  },
  {
   "cell_type": "code",
   "execution_count": 18,
   "metadata": {},
   "outputs": [],
   "source": [
    "repl = country_counts[country_counts <= threshold].index"
   ]
  },
  {
   "cell_type": "code",
   "execution_count": 19,
   "metadata": {},
   "outputs": [],
   "source": [
    "df['country_code'] = df['country_code'].replace(repl, 'XX')"
   ]
  },
  {
   "cell_type": "markdown",
   "metadata": {},
   "source": [
    "## Splitting the dataset into the Training set and Test set"
   ]
  },
  {
   "cell_type": "code",
   "execution_count": 20,
   "metadata": {},
   "outputs": [],
   "source": [
    "from sklearn.model_selection import train_test_split\n",
    "\n",
    "X = df.drop('Label', axis=1)\n",
    "y = df['Label']\n",
    "\n",
    "X_train, X_test, y_train, y_test = train_test_split(X, y, test_size=0.2, random_state=42)"
   ]
  },
  {
   "cell_type": "markdown",
   "metadata": {},
   "source": [
    "#### Implementing One Hot Encoder"
   ]
  },
  {
   "cell_type": "code",
   "execution_count": 21,
   "metadata": {},
   "outputs": [],
   "source": [
    "from sklearn.preprocessing import LabelEncoder\n",
    "\n",
    "# Perform Label Encoding on y_train\n",
    "label_encoder = LabelEncoder()\n",
    "y_train_encoded = label_encoder.fit_transform(y_train)\n",
    "\n",
    "# Use the same encoder to encode y_test\n",
    "y_test_encoded = label_encoder.transform(y_test)"
   ]
  },
  {
   "cell_type": "code",
   "execution_count": 22,
   "metadata": {},
   "outputs": [
    {
     "name": "stderr",
     "output_type": "stream",
     "text": [
      "d:\\Github\\SecureSurf\\venv\\Lib\\site-packages\\sklearn\\preprocessing\\_encoders.py:972: FutureWarning: `sparse` was renamed to `sparse_output` in version 1.2 and will be removed in 1.4. `sparse_output` is ignored unless you leave `sparse` to its default value.\n",
      "  warnings.warn(\n"
     ]
    },
    {
     "data": {
      "text/plain": [
       "(533, 13)"
      ]
     },
     "execution_count": 22,
     "metadata": {},
     "output_type": "execute_result"
    }
   ],
   "source": [
    "from sklearn.preprocessing import OneHotEncoder\n",
    "\n",
    "ohe = OneHotEncoder(sparse=False)\n",
    "X_train_tld_country_code = ohe.fit_transform(X_train[['tld', 'country_code']])\n",
    "\n",
    "X_test_tld_country_code = ohe.transform(X_test[['tld', 'country_code']])\n",
    "\n",
    "X_train_tld_country_code.shape"
   ]
  },
  {
   "cell_type": "code",
   "execution_count": 23,
   "metadata": {},
   "outputs": [],
   "source": [
    "X_train = X_train.drop(columns=['tld', 'country_code'])"
   ]
  },
  {
   "cell_type": "code",
   "execution_count": 24,
   "metadata": {},
   "outputs": [],
   "source": [
    "X_test = X_test.drop(columns=['tld', 'country_code'])"
   ]
  },
  {
   "cell_type": "code",
   "execution_count": 25,
   "metadata": {},
   "outputs": [
    {
     "data": {
      "text/html": [
       "<div>\n",
       "<style scoped>\n",
       "    .dataframe tbody tr th:only-of-type {\n",
       "        vertical-align: middle;\n",
       "    }\n",
       "\n",
       "    .dataframe tbody tr th {\n",
       "        vertical-align: top;\n",
       "    }\n",
       "\n",
       "    .dataframe thead th {\n",
       "        text-align: right;\n",
       "    }\n",
       "</style>\n",
       "<table border=\"1\" class=\"dataframe\">\n",
       "  <thead>\n",
       "    <tr style=\"text-align: right;\">\n",
       "      <th></th>\n",
       "      <th>url_length</th>\n",
       "      <th>path_rest_length</th>\n",
       "      <th>num_spcs_chars</th>\n",
       "      <th>domain_entropy</th>\n",
       "      <th>domain_age</th>\n",
       "      <th>created_year</th>\n",
       "      <th>updated_year</th>\n",
       "      <th>expires_year</th>\n",
       "      <th>word_count</th>\n",
       "      <th>tld_in_path_rest</th>\n",
       "    </tr>\n",
       "  </thead>\n",
       "  <tbody>\n",
       "    <tr>\n",
       "      <th>660</th>\n",
       "      <td>40</td>\n",
       "      <td>22</td>\n",
       "      <td>0</td>\n",
       "      <td>3.57</td>\n",
       "      <td>-1</td>\n",
       "      <td>-1</td>\n",
       "      <td>-1</td>\n",
       "      <td>-1</td>\n",
       "      <td>3</td>\n",
       "      <td>0</td>\n",
       "    </tr>\n",
       "    <tr>\n",
       "      <th>158</th>\n",
       "      <td>78</td>\n",
       "      <td>61</td>\n",
       "      <td>7</td>\n",
       "      <td>3.45</td>\n",
       "      <td>-1</td>\n",
       "      <td>-1</td>\n",
       "      <td>-1</td>\n",
       "      <td>-1</td>\n",
       "      <td>0</td>\n",
       "      <td>0</td>\n",
       "    </tr>\n",
       "    <tr>\n",
       "      <th>634</th>\n",
       "      <td>230</td>\n",
       "      <td>217</td>\n",
       "      <td>0</td>\n",
       "      <td>3.25</td>\n",
       "      <td>3915</td>\n",
       "      <td>2012</td>\n",
       "      <td>2020</td>\n",
       "      <td>2024</td>\n",
       "      <td>7</td>\n",
       "      <td>1</td>\n",
       "    </tr>\n",
       "    <tr>\n",
       "      <th>235</th>\n",
       "      <td>32</td>\n",
       "      <td>18</td>\n",
       "      <td>0</td>\n",
       "      <td>3.03</td>\n",
       "      <td>13401</td>\n",
       "      <td>1986</td>\n",
       "      <td>2023</td>\n",
       "      <td>2024</td>\n",
       "      <td>1</td>\n",
       "      <td>0</td>\n",
       "    </tr>\n",
       "    <tr>\n",
       "      <th>635</th>\n",
       "      <td>91</td>\n",
       "      <td>67</td>\n",
       "      <td>0</td>\n",
       "      <td>3.41</td>\n",
       "      <td>38</td>\n",
       "      <td>2023</td>\n",
       "      <td>2023</td>\n",
       "      <td>2024</td>\n",
       "      <td>3</td>\n",
       "      <td>1</td>\n",
       "    </tr>\n",
       "    <tr>\n",
       "      <th>...</th>\n",
       "      <td>...</td>\n",
       "      <td>...</td>\n",
       "      <td>...</td>\n",
       "      <td>...</td>\n",
       "      <td>...</td>\n",
       "      <td>...</td>\n",
       "      <td>...</td>\n",
       "      <td>...</td>\n",
       "      <td>...</td>\n",
       "      <td>...</td>\n",
       "    </tr>\n",
       "    <tr>\n",
       "      <th>536</th>\n",
       "      <td>90</td>\n",
       "      <td>76</td>\n",
       "      <td>0</td>\n",
       "      <td>3.39</td>\n",
       "      <td>-1</td>\n",
       "      <td>-1</td>\n",
       "      <td>-1</td>\n",
       "      <td>-1</td>\n",
       "      <td>5</td>\n",
       "      <td>0</td>\n",
       "    </tr>\n",
       "    <tr>\n",
       "      <th>417</th>\n",
       "      <td>68</td>\n",
       "      <td>39</td>\n",
       "      <td>0</td>\n",
       "      <td>3.78</td>\n",
       "      <td>-1</td>\n",
       "      <td>-1</td>\n",
       "      <td>-1</td>\n",
       "      <td>-1</td>\n",
       "      <td>1</td>\n",
       "      <td>1</td>\n",
       "    </tr>\n",
       "    <tr>\n",
       "      <th>465</th>\n",
       "      <td>30</td>\n",
       "      <td>8</td>\n",
       "      <td>0</td>\n",
       "      <td>3.59</td>\n",
       "      <td>-1</td>\n",
       "      <td>-1</td>\n",
       "      <td>-1</td>\n",
       "      <td>-1</td>\n",
       "      <td>0</td>\n",
       "      <td>0</td>\n",
       "    </tr>\n",
       "    <tr>\n",
       "      <th>211</th>\n",
       "      <td>77</td>\n",
       "      <td>55</td>\n",
       "      <td>0</td>\n",
       "      <td>3.40</td>\n",
       "      <td>8473</td>\n",
       "      <td>2000</td>\n",
       "      <td>2023</td>\n",
       "      <td>2025</td>\n",
       "      <td>3</td>\n",
       "      <td>1</td>\n",
       "    </tr>\n",
       "    <tr>\n",
       "      <th>18</th>\n",
       "      <td>24</td>\n",
       "      <td>8</td>\n",
       "      <td>0</td>\n",
       "      <td>3.32</td>\n",
       "      <td>10094</td>\n",
       "      <td>1995</td>\n",
       "      <td>2021</td>\n",
       "      <td>2026</td>\n",
       "      <td>0</td>\n",
       "      <td>0</td>\n",
       "    </tr>\n",
       "  </tbody>\n",
       "</table>\n",
       "<p>134 rows × 10 columns</p>\n",
       "</div>"
      ],
      "text/plain": [
       "     url_length  path_rest_length  num_spcs_chars  domain_entropy  domain_age  \\\n",
       "660          40                22               0            3.57          -1   \n",
       "158          78                61               7            3.45          -1   \n",
       "634         230               217               0            3.25        3915   \n",
       "235          32                18               0            3.03       13401   \n",
       "635          91                67               0            3.41          38   \n",
       "..          ...               ...             ...             ...         ...   \n",
       "536          90                76               0            3.39          -1   \n",
       "417          68                39               0            3.78          -1   \n",
       "465          30                 8               0            3.59          -1   \n",
       "211          77                55               0            3.40        8473   \n",
       "18           24                 8               0            3.32       10094   \n",
       "\n",
       "     created_year  updated_year  expires_year  word_count  tld_in_path_rest  \n",
       "660            -1            -1            -1           3                 0  \n",
       "158            -1            -1            -1           0                 0  \n",
       "634          2012          2020          2024           7                 1  \n",
       "235          1986          2023          2024           1                 0  \n",
       "635          2023          2023          2024           3                 1  \n",
       "..            ...           ...           ...         ...               ...  \n",
       "536            -1            -1            -1           5                 0  \n",
       "417            -1            -1            -1           1                 1  \n",
       "465            -1            -1            -1           0                 0  \n",
       "211          2000          2023          2025           3                 1  \n",
       "18           1995          2021          2026           0                 0  \n",
       "\n",
       "[134 rows x 10 columns]"
      ]
     },
     "execution_count": 25,
     "metadata": {},
     "output_type": "execute_result"
    }
   ],
   "source": [
    "X_test"
   ]
  },
  {
   "cell_type": "code",
   "execution_count": 26,
   "metadata": {},
   "outputs": [],
   "source": [
    "X_train_transformed = np.concatenate((X_train_tld_country_code, X_train), axis=1)"
   ]
  },
  {
   "cell_type": "code",
   "execution_count": 27,
   "metadata": {},
   "outputs": [],
   "source": [
    "X_test_transformed = np.concatenate((X_test_tld_country_code, X_test), axis=1)"
   ]
  },
  {
   "cell_type": "code",
   "execution_count": 28,
   "metadata": {},
   "outputs": [
    {
     "data": {
      "text/plain": [
       "(533, 23)"
      ]
     },
     "execution_count": 28,
     "metadata": {},
     "output_type": "execute_result"
    }
   ],
   "source": [
    "X_train_transformed.shape"
   ]
  },
  {
   "cell_type": "code",
   "execution_count": 31,
   "metadata": {},
   "outputs": [
    {
     "name": "stdout",
     "output_type": "stream",
     "text": [
      "Accuracy: 89.55%\n"
     ]
    }
   ],
   "source": [
    "from sklearn.tree import DecisionTreeClassifier\n",
    "from sklearn.metrics import accuracy_score\n",
    "\n",
    "# Create a Decision Tree Classifier instance\n",
    "clf = DecisionTreeClassifier(random_state=42)\n",
    "\n",
    "# Train the classifier on the training data\n",
    "clf.fit(X_train, y_train)\n",
    "\n",
    "# Make predictions on the test data\n",
    "y_pred = clf.predict(X_test)\n",
    "\n",
    "# Calculate the accuracy of the model\n",
    "accuracy = accuracy_score(y_test, y_pred)\n",
    "print(\"Accuracy: {:.2f}%\".format(accuracy * 100))"
   ]
  }
 ],
 "metadata": {
  "kernelspec": {
   "display_name": "venv",
   "language": "python",
   "name": "python3"
  },
  "language_info": {
   "codemirror_mode": {
    "name": "ipython",
    "version": 3
   },
   "file_extension": ".py",
   "mimetype": "text/x-python",
   "name": "python",
   "nbconvert_exporter": "python",
   "pygments_lexer": "ipython3",
   "version": "3.11.0"
  },
  "orig_nbformat": 4
 },
 "nbformat": 4,
 "nbformat_minor": 2
}
