{
 "cells": [
  {
   "cell_type": "markdown",
   "metadata": {},
   "source": [
    "#### This File Adds New Columns in the Dataset\n",
    "---\n",
    "COLUMNS ADDED: subdomain,domain,tld,path_rest,url_length,path_rest_length,num_spcs_chars,domain_entropy,domain_age,created_year,updated_year,expires_year,country_code"
   ]
  },
  {
   "cell_type": "markdown",
   "metadata": {},
   "source": [
    "## Importing the libraries"
   ]
  },
  {
   "cell_type": "code",
   "execution_count": 1,
   "metadata": {},
   "outputs": [],
   "source": [
    "import pandas as pd\n",
    "import re\n",
    "import math\n",
    "import requests\n",
    "import json"
   ]
  },
  {
   "cell_type": "markdown",
   "metadata": {},
   "source": [
    "## Importing the Dataset"
   ]
  },
  {
   "cell_type": "code",
   "execution_count": null,
   "metadata": {},
   "outputs": [
    {
     "data": {
      "text/html": [
       "<div>\n",
       "<style scoped>\n",
       "    .dataframe tbody tr th:only-of-type {\n",
       "        vertical-align: middle;\n",
       "    }\n",
       "\n",
       "    .dataframe tbody tr th {\n",
       "        vertical-align: top;\n",
       "    }\n",
       "\n",
       "    .dataframe thead th {\n",
       "        text-align: right;\n",
       "    }\n",
       "</style>\n",
       "<table border=\"1\" class=\"dataframe\">\n",
       "  <thead>\n",
       "    <tr style=\"text-align: right;\">\n",
       "      <th></th>\n",
       "      <th>URL</th>\n",
       "      <th>Label</th>\n",
       "    </tr>\n",
       "  </thead>\n",
       "  <tbody>\n",
       "    <tr>\n",
       "      <th>0</th>\n",
       "      <td>nobell.it/70ffb52d079109dca5664cce6f317373782/...</td>\n",
       "      <td>bad</td>\n",
       "    </tr>\n",
       "    <tr>\n",
       "      <th>1</th>\n",
       "      <td>www.dghjdgf.com/paypal.co.uk/cycgi-bin/webscrc...</td>\n",
       "      <td>bad</td>\n",
       "    </tr>\n",
       "    <tr>\n",
       "      <th>2</th>\n",
       "      <td>serviciosbys.com/paypal.cgi.bin.get-into.herf....</td>\n",
       "      <td>bad</td>\n",
       "    </tr>\n",
       "    <tr>\n",
       "      <th>3</th>\n",
       "      <td>mail.printakid.com/www.online.americanexpress....</td>\n",
       "      <td>bad</td>\n",
       "    </tr>\n",
       "    <tr>\n",
       "      <th>4</th>\n",
       "      <td>thewhiskeydregs.com/wp-content/themes/widescre...</td>\n",
       "      <td>bad</td>\n",
       "    </tr>\n",
       "  </tbody>\n",
       "</table>\n",
       "</div>"
      ],
      "text/plain": [
       "                                                 URL Label\n",
       "0  nobell.it/70ffb52d079109dca5664cce6f317373782/...   bad\n",
       "1  www.dghjdgf.com/paypal.co.uk/cycgi-bin/webscrc...   bad\n",
       "2  serviciosbys.com/paypal.cgi.bin.get-into.herf....   bad\n",
       "3  mail.printakid.com/www.online.americanexpress....   bad\n",
       "4  thewhiskeydregs.com/wp-content/themes/widescre...   bad"
      ]
     },
     "metadata": {},
     "output_type": "display_data"
    }
   ],
   "source": [
    "df = pd.read_csv('../phishing_site_urls.csv')\n",
    "df.head()"
   ]
  },
  {
   "cell_type": "markdown",
   "metadata": {},
   "source": [
    "## Helper Functions"
   ]
  },
  {
   "cell_type": "code",
   "execution_count": null,
   "metadata": {},
   "outputs": [],
   "source": [
    "def count_digits(word):\n",
    "  return len(re.findall('[0-9]', word))\n",
    "\n",
    "def count_alphabets(word):\n",
    "  return len(re.findall('[A-z]', word))\n",
    "\n",
    "def count_special_characters(input_string):\n",
    "  special_characters = \"!@#$%^&*()-_=+[]{}|;:',.<>/?\"\n",
    "  count = 0\n",
    "\n",
    "  for char in input_string:\n",
    "    if char not in special_characters and not char.isalnum():\n",
    "      count += 1\n",
    "\n",
    "  return count\n",
    "\n",
    "def remove_special_characters(input_string):\n",
    "  # Pattern to match any non-alphanumeric and non-space character\n",
    "  pattern = r'[^a-zA-Z0-9\\s]'  \n",
    "  return re.sub(pattern, '', input_string)\n",
    "\n",
    "def calculate_entropy(word):\n",
    "  if len(word) == 0:\n",
    "    return 0\n",
    "\n",
    "  entropy = 0\n",
    "  word_length = len(word)\n",
    "  char_count = {}\n",
    "\n",
    "  for char in word:\n",
    "    if char in char_count:\n",
    "      char_count[char] += 1\n",
    "    else:\n",
    "      char_count[char] = 1\n",
    "\n",
    "  for char in char_count:\n",
    "    probability = char_count[char] / word_length\n",
    "    entropy += -probability * math.log2(probability)\n",
    "\n",
    "  return entropy\n",
    "\n",
    "# https://www.whoisxmlapi.com/whoisserver/WhoisService?apiKey=at_BGLU4RpM0fcKHpqsqHAYRWFl4bIt2&domainName=facebook.com\n",
    "# Rapid API Key: d2592fe48dmsh190428470dadf9cp1bf762jsnf40816e6115e (Shauryansingh23102001@gmail.com)\n",
    "\n",
    "# FUNCTION TO MAKE REQUEST TO WHOISAPI THROUGH RAPIDAPI (Not in use currently)\n",
    "def whois_api_request(api_key, domain_url):\n",
    "    url = \"https://whoisapi-whois-v2-v1.p.rapidapi.com/whoisserver/WhoisService\"\n",
    "\n",
    "    headers = {\n",
    "\t    \"X-RapidAPI-Key\": \"d2592fe48dmsh190428470dadf9cp1bf762jsnf40816e6115e\",\n",
    "\t    \"X-RapidAPI-Host\": \"whoisapi-whois-v2-v1.p.rapidapi.com\"\n",
    "    }\n",
    "\n",
    "    querystring = {\n",
    "        \"domainName\":domain_url,\n",
    "        \"apiKey\":api_key,\n",
    "        \"outputFormat\":\"JSON\",\n",
    "        \"da\":\"0\",\n",
    "        \"ipwhois\":\"1\",\n",
    "        \"thinWhois\":\"0\",\n",
    "        \"_parse\":\"0\",\n",
    "        \"preferfresh\":\"1\",\n",
    "        \"checkproxydata\":\"0\",\n",
    "        \"ip\":\"1\"\n",
    "    }\n",
    "    \n",
    "    response = requests.get(url, headers=headers, params=querystring)\n",
    "    \n",
    "    return response\n",
    "\n",
    "# FUNCTION TO MAKE REQUEST TO WHOISAPI DIRECTLY (Not in use currently)\n",
    "def get_whois_data(api_key, domain_name):\n",
    "  base_url = \"https://www.whoisxmlapi.com/whoisserver/WhoisService\"\n",
    "  params = {\n",
    "    \"apiKey\": api_key,\n",
    "    \"domainName\": domain_name,\n",
    "    \"outputFormat\":\"JSON\",\n",
    "    \"preferfresh\":\"1\",\n",
    "  }\n",
    "\n",
    "  response = requests.get(base_url, params=params)\n",
    "  return response"
   ]
  },
  {
   "cell_type": "markdown",
   "metadata": {},
   "source": [
    "## Selecting Dataframe Rows for Whois API Call"
   ]
  },
  {
   "cell_type": "code",
   "execution_count": null,
   "metadata": {},
   "outputs": [],
   "source": [
    "#LAST\n",
    "start_row_idx = 4003\n",
    "end_row_idx = 4483\n",
    "\n",
    "# TO DO\n",
    "start_row_idx = 4003\n",
    "end_row_idx = 4483\n",
    "\n",
    "df = df.iloc[start_row_idx : end_row_idx]\n",
    "print(df.shape[0])\n",
    "print(df.head())"
   ]
  },
  {
   "cell_type": "code",
   "execution_count": null,
   "metadata": {},
   "outputs": [],
   "source": [
    "print(df.tail())"
   ]
  },
  {
   "cell_type": "code",
   "execution_count": null,
   "metadata": {},
   "outputs": [],
   "source": [
    "df = df.reset_index(drop=True)"
   ]
  },
  {
   "cell_type": "code",
   "execution_count": null,
   "metadata": {},
   "outputs": [],
   "source": [
    "print(df.head())"
   ]
  },
  {
   "cell_type": "markdown",
   "metadata": {},
   "source": [
    "## Making Whois API Calls AND Creating Dataframe"
   ]
  },
  {
   "cell_type": "code",
   "execution_count": null,
   "metadata": {},
   "outputs": [],
   "source": [
    "# THIS CODE BLOACK IS FOR MAKING WHOIS API DATA CALL AND CREATING DATAFRAME \n",
    "# Index Starts from 1\n",
    "DATA = []\n",
    "\n",
    "# START = start_row_idx - 1\n",
    "cnt = 0\n",
    "for index, row in df.iterrows():\n",
    "  if(cnt > 480):\n",
    "    break\n",
    "    \n",
    "  URL = row[\"URL\"]\n",
    "  label = row[\"Label\"]\n",
    "\n",
    "  domain = URL.split(\"/\")[0]\n",
    "  url_length = len(URL)\n",
    "  domain_entropy = calculate_entropy(domain)\n",
    "\n",
    "  temp = URL.split(\"/\")\n",
    "  subdomain = temp[0].split(\".\")[-1]\n",
    "  path_rest = \"/\".join(temp[1:])\n",
    "  path_rest_length = len(path_rest)\n",
    "\n",
    "  words_list = re.split(\"[/,.,?,-,+,=,&,~,!,@,#,$,%,_,;]\", path_rest)\n",
    "\n",
    "  tld = domain.split(\".\")[-1]\n",
    "  tld_length = len(tld)\n",
    "  tld = tld.split(\":\")[0]\n",
    "  tld = tld.split(\"-\")[0]\n",
    "\n",
    "  num_spcs_chars = count_special_characters(path_rest)\n",
    "\n",
    "  url = \"https://whoisapi-whois-v2-v1.p.rapidapi.com/whoisserver/WhoisService\"\n",
    "\n",
    "  querystring = {\n",
    "    \"domainName\":domain,\n",
    "    \"apiKey\":\"at_u6XSMmxG3lpSkcRJFsHzt60WqQQUc\",\n",
    "    \"outputFormat\":\"JSON\",\n",
    "    \"da\":\"0\",\n",
    "    \"ipwhois\":\"1\",\n",
    "    \"thinWhois\":\"0\",\n",
    "    \"_parse\":\"0\",\n",
    "    \"preferfresh\":\"1\",\n",
    "    \"checkproxydata\":\"0\",\n",
    "    \"ip\":\"1\"\n",
    "  }\n",
    "\n",
    "  headers = {\n",
    "    \"X-RapidAPI-Key\": \"d2592fe48dmsh190428470dadf9cp1bf762jsnf40816e6115e\",\n",
    "    \"X-RapidAPI-Host\": \"whoisapi-whois-v2-v1.p.rapidapi.com\"\n",
    "  }\n",
    "  \n",
    "  response = requests.get(url, headers=headers, params=querystring)\n",
    "  \n",
    "  response_data = response.json()\n",
    "  \n",
    "  if \"ErrorMessage\" in response_data:\n",
    "    continue\n",
    "\n",
    "  if \"WhoisRecord\" in response_data:\n",
    "    if \"createdDate\" in response_data[\"WhoisRecord\"]:\n",
    "      created_year = response_data[\"WhoisRecord\"][\"createdDate\"][0:4]\n",
    "    elif \"registryData\" in response_data[\"WhoisRecord\"] and \"createdDate\" in response_data[\"WhoisRecord\"][\"registryData\"]:\n",
    "      created_year = response_data[\"WhoisRecord\"][\"registryData\"][\"createdDate\"][0:4]\n",
    "    else:\n",
    "      created_year = None\n",
    "\n",
    "  if \"WhoisRecord\" in response_data:\n",
    "    if \"updatedDate\" in response_data[\"WhoisRecord\"]:\n",
    "      updated_year = response_data[\"WhoisRecord\"][\"updatedDate\"][0:4]\n",
    "    elif \"registryData\" in response_data[\"WhoisRecord\"] and \"updatedDate\" in response_data[\"WhoisRecord\"][\"registryData\"]:\n",
    "      updated_year = response_data[\"WhoisRecord\"][\"registryData\"][\"updatedDate\"][0:4]\n",
    "    else:\n",
    "      updated_year = None\n",
    "\n",
    "  if \"WhoisRecord\" in response_data:\n",
    "    if \"expiresDate\" in response_data[\"WhoisRecord\"]:\n",
    "      expires_year = response_data[\"WhoisRecord\"][\"expiresDate\"][0:4]\n",
    "    elif \"registryData\" in response_data[\"WhoisRecord\"] and \"expiresDate\" in response_data[\"WhoisRecord\"][\"registryData\"]:\n",
    "      expires_year = response_data[\"WhoisRecord\"][\"registryData\"][\"expiresDate\"][0:4]\n",
    "    else:\n",
    "      expires_year = None\n",
    "\n",
    "  if \"WhoisRecord\" in response_data:\n",
    "    if (\"registrant\" in response_data[\"WhoisRecord\"] and \n",
    "      \"countryCode\" in response_data[\"WhoisRecord\"][\"registrant\"]):\n",
    "      country_code = response_data[\"WhoisRecord\"][\"registrant\"][\"countryCode\"]\n",
    "    elif (\n",
    "      \"registryData\" in response_data[\"WhoisRecord\"] and\n",
    "      \"registrant\" in response_data[\"WhoisRecord\"][\"registryData\"] and\n",
    "      \"countryCode\" in response_data[\"WhoisRecord\"][\"registryData\"][\"registrant\"]):\n",
    "      country_code = response_data[\"WhoisRecord\"][\"registryData\"][\"registrant\"][\"countryCode\"]\n",
    "    else:\n",
    "      country_code = None\n",
    "      \n",
    "  if \"WhoisRecord\" in response_data and \"estimatedDomainAge\" in response_data[\"WhoisRecord\"]:\n",
    "    domain_age = response_data[\"WhoisRecord\"][\"estimatedDomainAge\"]\n",
    "  else:\n",
    "    domain_age = None\n",
    "\n",
    "  df2_data = [subdomain, domain, tld, path_rest, url_length, path_rest_length, num_spcs_chars, domain_entropy, domain_age, created_year, updated_year, expires_year, country_code]\n",
    "\n",
    "  cnt += 1\n",
    "  DATA.append(df2_data)"
   ]
  },
  {
   "cell_type": "code",
   "execution_count": null,
   "metadata": {},
   "outputs": [],
   "source": [
    "df2 = pd.DataFrame(DATA, columns=[\"subdomain\", \"domain\", \"tld\", \"path_rest\", \"url_length\", \"path_rest_length\", \"num_spcs_chars\", \"domain_entropy\", \"domain_age\", \"created_year\", \"updated_year\", \"expires_year\", \"country_code\"])"
   ]
  },
  {
   "cell_type": "code",
   "execution_count": null,
   "metadata": {},
   "outputs": [],
   "source": [
    "print(DATA)"
   ]
  },
  {
   "cell_type": "code",
   "execution_count": null,
   "metadata": {},
   "outputs": [],
   "source": [
    "df2.to_csv('df2.csv', index=False)"
   ]
  },
  {
   "cell_type": "markdown",
   "metadata": {},
   "source": [
    "## Combining Dataframe(df) and second Dataframe(df2)"
   ]
  },
  {
   "cell_type": "code",
   "execution_count": null,
   "metadata": {},
   "outputs": [],
   "source": [
    "# INSERT COLUMNS IN BETWEEN THE DATAFRAME\n",
    "insert_position = df.columns.get_loc('URL') + 1\n",
    "\n",
    "for col_name in df2.columns[::-1]:\n",
    "  df.insert(insert_position, col_name, df2[col_name])"
   ]
  },
  {
   "cell_type": "code",
   "execution_count": null,
   "metadata": {},
   "outputs": [],
   "source": [
    "df.to_csv('../newData/url_4003_to_4483.csv', index=False)"
   ]
  }
 ],
 "metadata": {
  "kernelspec": {
   "display_name": "venv",
   "language": "python",
   "name": "python3"
  },
  "language_info": {
   "codemirror_mode": {
    "name": "ipython",
    "version": 3
   },
   "file_extension": ".py",
   "mimetype": "text/x-python",
   "name": "python",
   "nbconvert_exporter": "python",
   "pygments_lexer": "ipython3",
   "version": "3.11.0"
  },
  "orig_nbformat": 4
 },
 "nbformat": 4,
 "nbformat_minor": 2
}
