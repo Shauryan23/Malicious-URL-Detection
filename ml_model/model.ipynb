{
 "cells": [
  {
   "cell_type": "markdown",
   "metadata": {},
   "source": [
    "## Importing the libraries"
   ]
  },
  {
   "cell_type": "code",
   "execution_count": 1,
   "metadata": {},
   "outputs": [],
   "source": [
    "import pandas as pd\n",
    "import numpy as np"
   ]
  },
  {
   "cell_type": "markdown",
   "metadata": {},
   "source": [
    "## Importing the dataset"
   ]
  },
  {
   "cell_type": "code",
   "execution_count": 2,
   "metadata": {},
   "outputs": [],
   "source": [
    "dataset = pd.read_csv('combined_csv.csv')"
   ]
  },
  {
   "cell_type": "markdown",
   "metadata": {},
   "source": [
    "## Preview"
   ]
  },
  {
   "cell_type": "code",
   "execution_count": 3,
   "metadata": {},
   "outputs": [
    {
     "data": {
      "text/html": [
       "<div>\n",
       "<style scoped>\n",
       "    .dataframe tbody tr th:only-of-type {\n",
       "        vertical-align: middle;\n",
       "    }\n",
       "\n",
       "    .dataframe tbody tr th {\n",
       "        vertical-align: top;\n",
       "    }\n",
       "\n",
       "    .dataframe thead th {\n",
       "        text-align: right;\n",
       "    }\n",
       "</style>\n",
       "<table border=\"1\" class=\"dataframe\">\n",
       "  <thead>\n",
       "    <tr style=\"text-align: right;\">\n",
       "      <th></th>\n",
       "      <th>URL</th>\n",
       "      <th>domain</th>\n",
       "      <th>tld</th>\n",
       "      <th>path_rest</th>\n",
       "      <th>url_length</th>\n",
       "      <th>path_rest_length</th>\n",
       "      <th>num_spcs_chars</th>\n",
       "      <th>domain_entropy</th>\n",
       "      <th>domain_age</th>\n",
       "      <th>created_year</th>\n",
       "      <th>updated_year</th>\n",
       "      <th>expires_year</th>\n",
       "      <th>country_code</th>\n",
       "      <th>Label</th>\n",
       "    </tr>\n",
       "  </thead>\n",
       "  <tbody>\n",
       "    <tr>\n",
       "      <th>0</th>\n",
       "      <td>ztipptops.org/pCntrlde/webscr.php?cmd_=session...</td>\n",
       "      <td>ztipptops.org</td>\n",
       "      <td>org</td>\n",
       "      <td>pCntrlde/webscr.php?cmd_=session.start&amp;amp;sdr...</td>\n",
       "      <td>98</td>\n",
       "      <td>84</td>\n",
       "      <td>0</td>\n",
       "      <td>3.026987</td>\n",
       "      <td>NaN</td>\n",
       "      <td>NaN</td>\n",
       "      <td>NaN</td>\n",
       "      <td>NaN</td>\n",
       "      <td>NaN</td>\n",
       "      <td>bad</td>\n",
       "    </tr>\n",
       "    <tr>\n",
       "      <th>1</th>\n",
       "      <td>krotzons.com/aG9tb3RoLmhub0B0LW9ubGluZS5kZQ==/...</td>\n",
       "      <td>krotzons.com</td>\n",
       "      <td>com</td>\n",
       "      <td>aG9tb3RoLmhub0B0LW9ubGluZS5kZQ==/DEsdR/cgi1unp...</td>\n",
       "      <td>70</td>\n",
       "      <td>57</td>\n",
       "      <td>0</td>\n",
       "      <td>3.188722</td>\n",
       "      <td>NaN</td>\n",
       "      <td>NaN</td>\n",
       "      <td>NaN</td>\n",
       "      <td>NaN</td>\n",
       "      <td>NaN</td>\n",
       "      <td>bad</td>\n",
       "    </tr>\n",
       "    <tr>\n",
       "      <th>2</th>\n",
       "      <td>www.gorconsul.ru/plugins/paypal.com/webscr/m/e...</td>\n",
       "      <td>www.gorconsul.ru</td>\n",
       "      <td>ru</td>\n",
       "      <td>plugins/paypal.com/webscr/m/e/q/p/z/x/j/id=102...</td>\n",
       "      <td>77</td>\n",
       "      <td>60</td>\n",
       "      <td>0</td>\n",
       "      <td>3.202820</td>\n",
       "      <td>NaN</td>\n",
       "      <td>NaN</td>\n",
       "      <td>NaN</td>\n",
       "      <td>NaN</td>\n",
       "      <td>NaN</td>\n",
       "      <td>bad</td>\n",
       "    </tr>\n",
       "    <tr>\n",
       "      <th>3</th>\n",
       "      <td>krotzons.com/am9iYWJlcm5lckB0LW9ubGluZS5kZQ==/...</td>\n",
       "      <td>krotzons.com</td>\n",
       "      <td>com</td>\n",
       "      <td>am9iYWJlcm5lckB0LW9ubGluZS5kZQ==/DEsdR/cgiq5pd...</td>\n",
       "      <td>70</td>\n",
       "      <td>57</td>\n",
       "      <td>0</td>\n",
       "      <td>3.188722</td>\n",
       "      <td>NaN</td>\n",
       "      <td>NaN</td>\n",
       "      <td>NaN</td>\n",
       "      <td>NaN</td>\n",
       "      <td>NaN</td>\n",
       "      <td>bad</td>\n",
       "    </tr>\n",
       "    <tr>\n",
       "      <th>4</th>\n",
       "      <td>paypal.us.xn-----vldfgifeq7dua2hckj.net/webscr...</td>\n",
       "      <td>paypal.us.xn-----vldfgifeq7dua2hckj.net</td>\n",
       "      <td>net</td>\n",
       "      <td>webscr.php?cmd=_login-run&amp;dispatch=5885d80a13c...</td>\n",
       "      <td>203</td>\n",
       "      <td>163</td>\n",
       "      <td>0</td>\n",
       "      <td>4.384904</td>\n",
       "      <td>NaN</td>\n",
       "      <td>NaN</td>\n",
       "      <td>NaN</td>\n",
       "      <td>NaN</td>\n",
       "      <td>NaN</td>\n",
       "      <td>bad</td>\n",
       "    </tr>\n",
       "  </tbody>\n",
       "</table>\n",
       "</div>"
      ],
      "text/plain": [
       "                                                 URL  \\\n",
       "0  ztipptops.org/pCntrlde/webscr.php?cmd_=session...   \n",
       "1  krotzons.com/aG9tb3RoLmhub0B0LW9ubGluZS5kZQ==/...   \n",
       "2  www.gorconsul.ru/plugins/paypal.com/webscr/m/e...   \n",
       "3  krotzons.com/am9iYWJlcm5lckB0LW9ubGluZS5kZQ==/...   \n",
       "4  paypal.us.xn-----vldfgifeq7dua2hckj.net/webscr...   \n",
       "\n",
       "                                    domain  tld  \\\n",
       "0                            ztipptops.org  org   \n",
       "1                             krotzons.com  com   \n",
       "2                         www.gorconsul.ru   ru   \n",
       "3                             krotzons.com  com   \n",
       "4  paypal.us.xn-----vldfgifeq7dua2hckj.net  net   \n",
       "\n",
       "                                           path_rest  url_length  \\\n",
       "0  pCntrlde/webscr.php?cmd_=session.start&amp;sdr...          98   \n",
       "1  aG9tb3RoLmhub0B0LW9ubGluZS5kZQ==/DEsdR/cgi1unp...          70   \n",
       "2  plugins/paypal.com/webscr/m/e/q/p/z/x/j/id=102...          77   \n",
       "3  am9iYWJlcm5lckB0LW9ubGluZS5kZQ==/DEsdR/cgiq5pd...          70   \n",
       "4  webscr.php?cmd=_login-run&dispatch=5885d80a13c...         203   \n",
       "\n",
       "   path_rest_length  num_spcs_chars  domain_entropy  domain_age created_year  \\\n",
       "0                84               0        3.026987         NaN          NaN   \n",
       "1                57               0        3.188722         NaN          NaN   \n",
       "2                60               0        3.202820         NaN          NaN   \n",
       "3                57               0        3.188722         NaN          NaN   \n",
       "4               163               0        4.384904         NaN          NaN   \n",
       "\n",
       "  updated_year expires_year country_code Label  \n",
       "0          NaN          NaN          NaN   bad  \n",
       "1          NaN          NaN          NaN   bad  \n",
       "2          NaN          NaN          NaN   bad  \n",
       "3          NaN          NaN          NaN   bad  \n",
       "4          NaN          NaN          NaN   bad  "
      ]
     },
     "execution_count": 3,
     "metadata": {},
     "output_type": "execute_result"
    }
   ],
   "source": [
    "dataset.head()"
   ]
  },
  {
   "cell_type": "code",
   "execution_count": 4,
   "metadata": {},
   "outputs": [
    {
     "data": {
      "text/plain": [
       "(2433, 14)"
      ]
     },
     "execution_count": 4,
     "metadata": {},
     "output_type": "execute_result"
    }
   ],
   "source": [
    "dataset.shape"
   ]
  },
  {
   "cell_type": "code",
   "execution_count": 5,
   "metadata": {},
   "outputs": [],
   "source": [
    "dataset[['URL', 'domain', 'tld', 'path_rest', 'created_year', 'updated_year', 'expires_year', 'country_code', 'Label']] = dataset[['URL', 'domain', 'tld', 'path_rest', 'created_year', 'updated_year', 'expires_year', 'country_code', 'Label']].astype(\"string\")"
   ]
  },
  {
   "cell_type": "code",
   "execution_count": 6,
   "metadata": {},
   "outputs": [
    {
     "name": "stdout",
     "output_type": "stream",
     "text": [
      "<class 'pandas.core.frame.DataFrame'>\n",
      "RangeIndex: 2433 entries, 0 to 2432\n",
      "Data columns (total 14 columns):\n",
      " #   Column            Non-Null Count  Dtype  \n",
      "---  ------            --------------  -----  \n",
      " 0   URL               2433 non-null   string \n",
      " 1   domain            2433 non-null   string \n",
      " 2   tld               2433 non-null   string \n",
      " 3   path_rest         2235 non-null   string \n",
      " 4   url_length        2433 non-null   int64  \n",
      " 5   path_rest_length  2433 non-null   int64  \n",
      " 6   num_spcs_chars    2433 non-null   int64  \n",
      " 7   domain_entropy    2433 non-null   float64\n",
      " 8   domain_age        967 non-null    float64\n",
      " 9   created_year      1006 non-null   string \n",
      " 10  updated_year      936 non-null    string \n",
      " 11  expires_year      966 non-null    string \n",
      " 12  country_code      781 non-null    string \n",
      " 13  Label             2433 non-null   string \n",
      "dtypes: float64(2), int64(3), string(9)\n",
      "memory usage: 266.2 KB\n"
     ]
    }
   ],
   "source": [
    "dataset.info()"
   ]
  },
  {
   "cell_type": "code",
   "execution_count": 7,
   "metadata": {},
   "outputs": [
    {
     "data": {
      "text/plain": [
       "URL                 string[python]\n",
       "domain              string[python]\n",
       "tld                 string[python]\n",
       "path_rest           string[python]\n",
       "url_length                   int64\n",
       "path_rest_length             int64\n",
       "num_spcs_chars               int64\n",
       "domain_entropy             float64\n",
       "domain_age                 float64\n",
       "created_year        string[python]\n",
       "updated_year        string[python]\n",
       "expires_year        string[python]\n",
       "country_code        string[python]\n",
       "Label               string[python]\n",
       "dtype: object"
      ]
     },
     "execution_count": 7,
     "metadata": {},
     "output_type": "execute_result"
    }
   ],
   "source": [
    "dataset.dtypes"
   ]
  },
  {
   "cell_type": "code",
   "execution_count": 10,
   "metadata": {},
   "outputs": [
    {
     "data": {
      "text/plain": [
       "created_year\n",
       "2009    75\n",
       "2005    67\n",
       "1997    66\n",
       "2010    63\n",
       "2022    58\n",
       "2008    58\n",
       "2007    54\n",
       "2011    53\n",
       "2004    48\n",
       "2020    45\n",
       "2023    42\n",
       "2021    38\n",
       "2003    26\n",
       "2006    25\n",
       "2000    24\n",
       "2001    23\n",
       "1998    23\n",
       "1999    23\n",
       "2015    21\n",
       "2012    20\n",
       "2002    20\n",
       "2018    19\n",
       "2019    18\n",
       "2017    17\n",
       "1970    17\n",
       "2016    13\n",
       "2013    10\n",
       "1995     6\n",
       "2014     5\n",
       "1996     5\n",
       "Name: count, dtype: int64"
      ]
     },
     "execution_count": 10,
     "metadata": {},
     "output_type": "execute_result"
    }
   ],
   "source": [
    "dataset['created_year'].value_counts()"
   ]
  },
  {
   "cell_type": "code",
   "execution_count": 14,
   "metadata": {},
   "outputs": [
    {
     "data": {
      "text/plain": [
       "tld\n",
       "com    1081\n",
       "net     177\n",
       "uk      125\n",
       "org     111\n",
       "ru       94\n",
       "       ... \n",
       "cat       1\n",
       "gh        1\n",
       "ve        1\n",
       "bd        1\n",
       "tl        1\n",
       "Name: count, Length: 99, dtype: int64"
      ]
     },
     "execution_count": 14,
     "metadata": {},
     "output_type": "execute_result"
    }
   ],
   "source": [
    "dataset['tld'].value_counts()"
   ]
  },
  {
   "cell_type": "code",
   "execution_count": 15,
   "metadata": {},
   "outputs": [
    {
     "data": {
      "text/plain": [
       "tld\n",
       "com    1081\n",
       "net     177\n",
       "uk      125\n",
       "org     111\n",
       "ru       94\n",
       "       ... \n",
       "cat       1\n",
       "gh        1\n",
       "ve        1\n",
       "bd        1\n",
       "tl        1\n",
       "Name: count, Length: 99, dtype: int64"
      ]
     },
     "execution_count": 15,
     "metadata": {},
     "output_type": "execute_result"
    }
   ],
   "source": [
    "dataset['tld'].value_counts()"
   ]
  },
  {
   "cell_type": "code",
   "execution_count": 16,
   "metadata": {},
   "outputs": [
    {
     "data": {
      "text/plain": [
       "URL                   0\n",
       "domain                0\n",
       "tld                   0\n",
       "path_rest           197\n",
       "url_length            0\n",
       "path_rest_length      0\n",
       "num_spcs_chars        0\n",
       "domain_entropy        0\n",
       "domain_age            0\n",
       "created_year          0\n",
       "updated_year          0\n",
       "expires_year          0\n",
       "country_code          0\n",
       "Label                 0\n",
       "dtype: int64"
      ]
     },
     "execution_count": 16,
     "metadata": {},
     "output_type": "execute_result"
    }
   ],
   "source": [
    "dataset.isnull().sum()"
   ]
  },
  {
   "cell_type": "markdown",
   "metadata": {},
   "source": [
    "## Data Cleaning"
   ]
  },
  {
   "cell_type": "code",
   "execution_count": 8,
   "metadata": {},
   "outputs": [],
   "source": [
    "columns_to_strip = ['URL', 'domain', 'tld', 'path_rest', 'created_year', 'updated_year', 'expires_year', 'country_code', 'Label']\n",
    "dataset[columns_to_strip] = dataset[columns_to_strip].applymap(lambda x: x.strip() if isinstance(x, str) else x)"
   ]
  },
  {
   "cell_type": "code",
   "execution_count": 9,
   "metadata": {},
   "outputs": [],
   "source": [
    "# Assuming 'dataset' is your DataFrame\n",
    "values_to_remove = ['Mon', 'Wed', 'Thu', '01 S', '28-A', '06-J', '03-D', '31-J', '18-O', '19-J', '12.1', 'Wed', 'Mon', '19/0', '17-M', '12-A', '18-A', '21-F', '24', '18-S', '6']\n",
    "dataset = dataset[~dataset['created_year'].isin(values_to_remove)]"
   ]
  },
  {
   "cell_type": "code",
   "execution_count": 11,
   "metadata": {},
   "outputs": [],
   "source": [
    "dataset = dataset[dataset['expires_year'] != 'spon']"
   ]
  },
  {
   "cell_type": "code",
   "execution_count": 12,
   "metadata": {},
   "outputs": [],
   "source": [
    "columns_to_fillna = ['created_year', 'updated_year', 'expires_year', 'country_code']\n",
    "dataset[columns_to_fillna] = dataset[columns_to_fillna].fillna(-1)\n",
    "dataset['domain_age'] = dataset['domain_age'].fillna(-1)\n",
    "# dataset['domain_age'] = dataset['domain_age'].fillna(0) #Check later if keeping this as zero has any impact on accuracy"
   ]
  },
  {
   "cell_type": "code",
   "execution_count": 20,
   "metadata": {},
   "outputs": [],
   "source": [
    "dataset['domain_entropy'] = dataset['domain_entropy'].round(4)"
   ]
  },
  {
   "cell_type": "code",
   "execution_count": 13,
   "metadata": {},
   "outputs": [],
   "source": [
    "columns_to_convert = ['created_year', 'updated_year', 'expires_year']\n",
    "\n",
    "for column in columns_to_convert:\n",
    "    dataset[column] = pd.to_numeric(dataset[column], errors='coerce').fillna(-1).astype(int)"
   ]
  },
  {
   "cell_type": "code",
   "execution_count": 18,
   "metadata": {},
   "outputs": [
    {
     "data": {
      "text/plain": [
       "URL                 string[python]\n",
       "domain              string[python]\n",
       "tld                 string[python]\n",
       "path_rest           string[python]\n",
       "url_length                   int64\n",
       "path_rest_length             int64\n",
       "num_spcs_chars               int64\n",
       "domain_entropy             float64\n",
       "domain_age                 float64\n",
       "created_year                 int32\n",
       "updated_year                 int32\n",
       "expires_year                 int32\n",
       "country_code        string[python]\n",
       "Label               string[python]\n",
       "dtype: object"
      ]
     },
     "execution_count": 18,
     "metadata": {},
     "output_type": "execute_result"
    }
   ],
   "source": [
    "dataset[['URL', 'domain', 'tld', 'path_rest', 'country_code', 'Label']] = dataset[['URL', 'domain', 'tld', 'path_rest', 'country_code', 'Label']].astype(\"string\")\n",
    "dataset.dtypes"
   ]
  }
 ],
 "metadata": {
  "kernelspec": {
   "display_name": "venv",
   "language": "python",
   "name": "python3"
  },
  "language_info": {
   "codemirror_mode": {
    "name": "ipython",
    "version": 3
   },
   "file_extension": ".py",
   "mimetype": "text/x-python",
   "name": "python",
   "nbconvert_exporter": "python",
   "pygments_lexer": "ipython3",
   "version": "3.11.0"
  },
  "orig_nbformat": 4
 },
 "nbformat": 4,
 "nbformat_minor": 2
}
