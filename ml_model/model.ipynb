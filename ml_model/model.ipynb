{
 "cells": [
  {
   "cell_type": "markdown",
   "metadata": {},
   "source": [
    "## Importing the libraries"
   ]
  },
  {
   "cell_type": "code",
   "execution_count": 1,
   "metadata": {},
   "outputs": [],
   "source": [
    "import pandas as pd\n",
    "import numpy as np\n",
    "import re"
   ]
  },
  {
   "cell_type": "markdown",
   "metadata": {},
   "source": [
    "## Importing the dataset"
   ]
  },
  {
   "cell_type": "code",
   "execution_count": 2,
   "metadata": {},
   "outputs": [],
   "source": [
    "dataset = pd.read_csv('combined_csv.csv')"
   ]
  },
  {
   "cell_type": "markdown",
   "metadata": {},
   "source": [
    "## Preview"
   ]
  },
  {
   "cell_type": "code",
   "execution_count": 3,
   "metadata": {},
   "outputs": [
    {
     "data": {
      "text/html": [
       "<div>\n",
       "<style scoped>\n",
       "    .dataframe tbody tr th:only-of-type {\n",
       "        vertical-align: middle;\n",
       "    }\n",
       "\n",
       "    .dataframe tbody tr th {\n",
       "        vertical-align: top;\n",
       "    }\n",
       "\n",
       "    .dataframe thead th {\n",
       "        text-align: right;\n",
       "    }\n",
       "</style>\n",
       "<table border=\"1\" class=\"dataframe\">\n",
       "  <thead>\n",
       "    <tr style=\"text-align: right;\">\n",
       "      <th></th>\n",
       "      <th>URL</th>\n",
       "      <th>domain</th>\n",
       "      <th>tld</th>\n",
       "      <th>path_rest</th>\n",
       "      <th>url_length</th>\n",
       "      <th>path_rest_length</th>\n",
       "      <th>num_spcs_chars</th>\n",
       "      <th>domain_entropy</th>\n",
       "      <th>domain_age</th>\n",
       "      <th>created_year</th>\n",
       "      <th>updated_year</th>\n",
       "      <th>expires_year</th>\n",
       "      <th>country_code</th>\n",
       "      <th>Label</th>\n",
       "    </tr>\n",
       "  </thead>\n",
       "  <tbody>\n",
       "    <tr>\n",
       "      <th>0</th>\n",
       "      <td>ztipptops.org/pCntrlde/webscr.php?cmd_=session...</td>\n",
       "      <td>ztipptops.org</td>\n",
       "      <td>org</td>\n",
       "      <td>pCntrlde/webscr.php.com?cmd_=session.start&amp;amp...</td>\n",
       "      <td>98</td>\n",
       "      <td>84</td>\n",
       "      <td>0</td>\n",
       "      <td>3.026987</td>\n",
       "      <td>NaN</td>\n",
       "      <td>NaN</td>\n",
       "      <td>NaN</td>\n",
       "      <td>NaN</td>\n",
       "      <td>NaN</td>\n",
       "      <td>bad</td>\n",
       "    </tr>\n",
       "    <tr>\n",
       "      <th>1</th>\n",
       "      <td>krotzons.com/aG9tb3RoLmhub0B0LW9ubGluZS5kZQ==/...</td>\n",
       "      <td>krotzons.com</td>\n",
       "      <td>com</td>\n",
       "      <td>aG9tb3RoLmhub0B0LW9ubGluZS5kZQ==/DEsdR/cgi1unp...</td>\n",
       "      <td>70</td>\n",
       "      <td>57</td>\n",
       "      <td>0</td>\n",
       "      <td>3.188722</td>\n",
       "      <td>NaN</td>\n",
       "      <td>NaN</td>\n",
       "      <td>NaN</td>\n",
       "      <td>NaN</td>\n",
       "      <td>NaN</td>\n",
       "      <td>bad</td>\n",
       "    </tr>\n",
       "    <tr>\n",
       "      <th>2</th>\n",
       "      <td>www.gorconsul.ru/plugins/paypal.com/webscr/m/e...</td>\n",
       "      <td>www.gorconsul.ru</td>\n",
       "      <td>ru</td>\n",
       "      <td>plugins/paypal.com/webscr/m/e/q/p/z/x/j/id=102...</td>\n",
       "      <td>77</td>\n",
       "      <td>60</td>\n",
       "      <td>0</td>\n",
       "      <td>3.202820</td>\n",
       "      <td>NaN</td>\n",
       "      <td>NaN</td>\n",
       "      <td>NaN</td>\n",
       "      <td>NaN</td>\n",
       "      <td>NaN</td>\n",
       "      <td>bad</td>\n",
       "    </tr>\n",
       "    <tr>\n",
       "      <th>3</th>\n",
       "      <td>krotzons.com/am9iYWJlcm5lckB0LW9ubGluZS5kZQ==/...</td>\n",
       "      <td>krotzons.com</td>\n",
       "      <td>com</td>\n",
       "      <td>am9iYWJlcm5lckB0LW9ubGluZS5kZQ==/DEsdR/cgiq5pd...</td>\n",
       "      <td>70</td>\n",
       "      <td>57</td>\n",
       "      <td>0</td>\n",
       "      <td>3.188722</td>\n",
       "      <td>NaN</td>\n",
       "      <td>NaN</td>\n",
       "      <td>NaN</td>\n",
       "      <td>NaN</td>\n",
       "      <td>NaN</td>\n",
       "      <td>bad</td>\n",
       "    </tr>\n",
       "    <tr>\n",
       "      <th>4</th>\n",
       "      <td>paypal.us.xn-----vldfgifeq7dua2hckj.net/webscr...</td>\n",
       "      <td>paypal.us.xn-----vldfgifeq7dua2hckj.net</td>\n",
       "      <td>net</td>\n",
       "      <td>webscr.php?cmd=_login-run&amp;dispatch=5885d80a13c...</td>\n",
       "      <td>203</td>\n",
       "      <td>163</td>\n",
       "      <td>0</td>\n",
       "      <td>4.384904</td>\n",
       "      <td>NaN</td>\n",
       "      <td>NaN</td>\n",
       "      <td>NaN</td>\n",
       "      <td>NaN</td>\n",
       "      <td>NaN</td>\n",
       "      <td>bad</td>\n",
       "    </tr>\n",
       "  </tbody>\n",
       "</table>\n",
       "</div>"
      ],
      "text/plain": [
       "                                                 URL  \\\n",
       "0  ztipptops.org/pCntrlde/webscr.php?cmd_=session...   \n",
       "1  krotzons.com/aG9tb3RoLmhub0B0LW9ubGluZS5kZQ==/...   \n",
       "2  www.gorconsul.ru/plugins/paypal.com/webscr/m/e...   \n",
       "3  krotzons.com/am9iYWJlcm5lckB0LW9ubGluZS5kZQ==/...   \n",
       "4  paypal.us.xn-----vldfgifeq7dua2hckj.net/webscr...   \n",
       "\n",
       "                                    domain  tld  \\\n",
       "0                            ztipptops.org  org   \n",
       "1                             krotzons.com  com   \n",
       "2                         www.gorconsul.ru   ru   \n",
       "3                             krotzons.com  com   \n",
       "4  paypal.us.xn-----vldfgifeq7dua2hckj.net  net   \n",
       "\n",
       "                                           path_rest  url_length  \\\n",
       "0  pCntrlde/webscr.php.com?cmd_=session.start&amp...          98   \n",
       "1  aG9tb3RoLmhub0B0LW9ubGluZS5kZQ==/DEsdR/cgi1unp...          70   \n",
       "2  plugins/paypal.com/webscr/m/e/q/p/z/x/j/id=102...          77   \n",
       "3  am9iYWJlcm5lckB0LW9ubGluZS5kZQ==/DEsdR/cgiq5pd...          70   \n",
       "4  webscr.php?cmd=_login-run&dispatch=5885d80a13c...         203   \n",
       "\n",
       "   path_rest_length  num_spcs_chars  domain_entropy  domain_age created_year  \\\n",
       "0                84               0        3.026987         NaN          NaN   \n",
       "1                57               0        3.188722         NaN          NaN   \n",
       "2                60               0        3.202820         NaN          NaN   \n",
       "3                57               0        3.188722         NaN          NaN   \n",
       "4               163               0        4.384904         NaN          NaN   \n",
       "\n",
       "  updated_year expires_year country_code Label  \n",
       "0          NaN          NaN          NaN   bad  \n",
       "1          NaN          NaN          NaN   bad  \n",
       "2          NaN          NaN          NaN   bad  \n",
       "3          NaN          NaN          NaN   bad  \n",
       "4          NaN          NaN          NaN   bad  "
      ]
     },
     "execution_count": 3,
     "metadata": {},
     "output_type": "execute_result"
    }
   ],
   "source": [
    "dataset.head()"
   ]
  },
  {
   "cell_type": "code",
   "execution_count": 4,
   "metadata": {},
   "outputs": [
    {
     "data": {
      "text/plain": [
       "(2433, 14)"
      ]
     },
     "execution_count": 4,
     "metadata": {},
     "output_type": "execute_result"
    }
   ],
   "source": [
    "dataset.shape"
   ]
  },
  {
   "cell_type": "code",
   "execution_count": 5,
   "metadata": {},
   "outputs": [],
   "source": [
    "dataset[['URL', 'domain', 'tld', 'path_rest', 'created_year', 'updated_year', 'expires_year', 'country_code', 'Label']] = dataset[['URL', 'domain', 'tld', 'path_rest', 'created_year', 'updated_year', 'expires_year', 'country_code', 'Label']].astype(\"string\")"
   ]
  },
  {
   "cell_type": "code",
   "execution_count": 6,
   "metadata": {},
   "outputs": [
    {
     "name": "stdout",
     "output_type": "stream",
     "text": [
      "<class 'pandas.core.frame.DataFrame'>\n",
      "RangeIndex: 2433 entries, 0 to 2432\n",
      "Data columns (total 14 columns):\n",
      " #   Column            Non-Null Count  Dtype  \n",
      "---  ------            --------------  -----  \n",
      " 0   URL               2433 non-null   string \n",
      " 1   domain            2433 non-null   string \n",
      " 2   tld               2433 non-null   string \n",
      " 3   path_rest         2235 non-null   string \n",
      " 4   url_length        2433 non-null   int64  \n",
      " 5   path_rest_length  2433 non-null   int64  \n",
      " 6   num_spcs_chars    2433 non-null   int64  \n",
      " 7   domain_entropy    2433 non-null   float64\n",
      " 8   domain_age        967 non-null    float64\n",
      " 9   created_year      1006 non-null   string \n",
      " 10  updated_year      936 non-null    string \n",
      " 11  expires_year      966 non-null    string \n",
      " 12  country_code      781 non-null    string \n",
      " 13  Label             2433 non-null   string \n",
      "dtypes: float64(2), int64(3), string(9)\n",
      "memory usage: 266.2 KB\n"
     ]
    }
   ],
   "source": [
    "dataset.info()"
   ]
  },
  {
   "cell_type": "code",
   "execution_count": 7,
   "metadata": {},
   "outputs": [
    {
     "data": {
      "text/plain": [
       "URL                 string[python]\n",
       "domain              string[python]\n",
       "tld                 string[python]\n",
       "path_rest           string[python]\n",
       "url_length                   int64\n",
       "path_rest_length             int64\n",
       "num_spcs_chars               int64\n",
       "domain_entropy             float64\n",
       "domain_age                 float64\n",
       "created_year        string[python]\n",
       "updated_year        string[python]\n",
       "expires_year        string[python]\n",
       "country_code        string[python]\n",
       "Label               string[python]\n",
       "dtype: object"
      ]
     },
     "execution_count": 7,
     "metadata": {},
     "output_type": "execute_result"
    }
   ],
   "source": [
    "dataset.dtypes"
   ]
  },
  {
   "cell_type": "code",
   "execution_count": 8,
   "metadata": {},
   "outputs": [
    {
     "data": {
      "text/plain": [
       "created_year\n",
       "2009    75\n",
       "2005    67\n",
       "1997    66\n",
       "2010    63\n",
       "2008    58\n",
       "2022    58\n",
       "2007    54\n",
       "2011    53\n",
       "2004    48\n",
       "2020    45\n",
       "2023    42\n",
       "2021    38\n",
       "2003    26\n",
       "2006    25\n",
       "2000    24\n",
       "1999    23\n",
       "1998    23\n",
       "2001    23\n",
       "2015    21\n",
       "2012    20\n",
       "2002    20\n",
       "2018    19\n",
       "2019    18\n",
       "2017    17\n",
       "1970    17\n",
       "2016    13\n",
       "2013    10\n",
       "1995     6\n",
       "1996     5\n",
       "2014     5\n",
       "Thu      4\n",
       "01 S     2\n",
       "28-A     2\n",
       "06-J     1\n",
       "03-D     1\n",
       "31-J     1\n",
       "18-O     1\n",
       "19-J     1\n",
       "12.1     1\n",
       "Wed      1\n",
       "Mon      1\n",
       "19/0     1\n",
       "17-M     1\n",
       "12-A     1\n",
       "18-A     1\n",
       "21-F     1\n",
       "24       1\n",
       "18-S     1\n",
       "6        1\n",
       "Name: count, dtype: Int64"
      ]
     },
     "execution_count": 8,
     "metadata": {},
     "output_type": "execute_result"
    }
   ],
   "source": [
    "dataset['created_year'].value_counts()"
   ]
  },
  {
   "cell_type": "code",
   "execution_count": 9,
   "metadata": {},
   "outputs": [
    {
     "data": {
      "text/plain": [
       "tld\n",
       "com    1081\n",
       "net     177\n",
       "uk      136\n",
       "org     111\n",
       "ru       94\n",
       "       ... \n",
       "nz        1\n",
       "pk        1\n",
       "ma        1\n",
       "ps        1\n",
       "tl        1\n",
       "Name: count, Length: 100, dtype: Int64"
      ]
     },
     "execution_count": 9,
     "metadata": {},
     "output_type": "execute_result"
    }
   ],
   "source": [
    "dataset['tld'].value_counts()"
   ]
  },
  {
   "cell_type": "code",
   "execution_count": 10,
   "metadata": {},
   "outputs": [
    {
     "data": {
      "text/plain": [
       "tld\n",
       "com    1081\n",
       "net     177\n",
       "uk      136\n",
       "org     111\n",
       "ru       94\n",
       "       ... \n",
       "nz        1\n",
       "pk        1\n",
       "ma        1\n",
       "ps        1\n",
       "tl        1\n",
       "Name: count, Length: 100, dtype: Int64"
      ]
     },
     "execution_count": 10,
     "metadata": {},
     "output_type": "execute_result"
    }
   ],
   "source": [
    "dataset['tld'].value_counts()"
   ]
  },
  {
   "cell_type": "code",
   "execution_count": 11,
   "metadata": {},
   "outputs": [
    {
     "data": {
      "text/plain": [
       "URL                    0\n",
       "domain                 0\n",
       "tld                    0\n",
       "path_rest            198\n",
       "url_length             0\n",
       "path_rest_length       0\n",
       "num_spcs_chars         0\n",
       "domain_entropy         0\n",
       "domain_age          1466\n",
       "created_year        1427\n",
       "updated_year        1497\n",
       "expires_year        1467\n",
       "country_code        1652\n",
       "Label                  0\n",
       "dtype: int64"
      ]
     },
     "execution_count": 11,
     "metadata": {},
     "output_type": "execute_result"
    }
   ],
   "source": [
    "dataset.isnull().sum()"
   ]
  },
  {
   "cell_type": "markdown",
   "metadata": {},
   "source": [
    "## Data Cleaning"
   ]
  },
  {
   "cell_type": "code",
   "execution_count": 12,
   "metadata": {},
   "outputs": [],
   "source": [
    "columns_to_strip = ['URL', 'domain', 'tld', 'path_rest', 'created_year', 'updated_year', 'expires_year', 'country_code', 'Label']\n",
    "dataset[columns_to_strip] = dataset[columns_to_strip].applymap(lambda x: x.strip() if isinstance(x, str) else x)"
   ]
  },
  {
   "cell_type": "code",
   "execution_count": 13,
   "metadata": {},
   "outputs": [],
   "source": [
    "# Assuming 'dataset' is your DataFrame\n",
    "values_to_remove = ['Mon', 'Wed', 'Thu', '01 S', '28-A', '06-J', '03-D', '31-J', '18-O', '19-J', '12.1', 'Wed', 'Mon', '19/0', '17-M', '12-A', '18-A', '21-F', '24', '18-S', '6']\n",
    "dataset = dataset[~dataset['created_year'].isin(values_to_remove)]"
   ]
  },
  {
   "cell_type": "code",
   "execution_count": 14,
   "metadata": {},
   "outputs": [],
   "source": [
    "dataset = dataset[dataset['expires_year'] != 'spon']"
   ]
  },
  {
   "cell_type": "code",
   "execution_count": 15,
   "metadata": {},
   "outputs": [],
   "source": [
    "columns_to_fillna = ['created_year', 'updated_year', 'expires_year', 'country_code']\n",
    "dataset[columns_to_fillna] = dataset[columns_to_fillna].fillna(-1)\n",
    "dataset['domain_age'] = dataset['domain_age'].fillna(-1)\n",
    "# dataset['domain_age'] = dataset['domain_age'].fillna(0) #Check later if keeping this as zero has any impact on accuracy"
   ]
  },
  {
   "cell_type": "code",
   "execution_count": 16,
   "metadata": {},
   "outputs": [],
   "source": [
    "dataset['domain_entropy'] = dataset['domain_entropy'].round(4)"
   ]
  },
  {
   "cell_type": "code",
   "execution_count": 17,
   "metadata": {},
   "outputs": [],
   "source": [
    "columns_to_convert = ['created_year', 'updated_year', 'expires_year']\n",
    "\n",
    "for column in columns_to_convert:\n",
    "    dataset[column] = pd.to_numeric(dataset[column], errors='coerce').fillna(-1).astype(int)"
   ]
  },
  {
   "cell_type": "code",
   "execution_count": 18,
   "metadata": {},
   "outputs": [
    {
     "data": {
      "text/plain": [
       "URL                 string[python]\n",
       "domain              string[python]\n",
       "tld                 string[python]\n",
       "path_rest           string[python]\n",
       "url_length                   int64\n",
       "path_rest_length             int64\n",
       "num_spcs_chars               int64\n",
       "domain_entropy             float64\n",
       "domain_age                 float64\n",
       "created_year                 int32\n",
       "updated_year                 int32\n",
       "expires_year                 int32\n",
       "country_code        string[python]\n",
       "Label               string[python]\n",
       "dtype: object"
      ]
     },
     "execution_count": 18,
     "metadata": {},
     "output_type": "execute_result"
    }
   ],
   "source": [
    "dataset[['URL', 'domain', 'tld', 'path_rest', 'country_code', 'Label']] = dataset[['URL', 'domain', 'tld', 'path_rest', 'country_code', 'Label']].astype(\"string\")\n",
    "dataset.dtypes"
   ]
  },
  {
   "cell_type": "markdown",
   "metadata": {},
   "source": [
    "## Importing Data For Bad URL Words"
   ]
  },
  {
   "cell_type": "markdown",
   "metadata": {},
   "source": [
    "### Importing Data From Text Files And Storing Data in List"
   ]
  },
  {
   "cell_type": "code",
   "execution_count": 19,
   "metadata": {},
   "outputs": [
    {
     "name": "stdout",
     "output_type": "stream",
     "text": [
      "['allvent', 'nbyjcj', 'ozroadie', 'fastfluxdns', 'nxhjtqsuwlgf', 'dbkunsult', 'boinobrecarnes', 'gast', 'submit', 'defaults', 'indicacreative', 'dmpt', 'serviceppl', 'mefosun', 'b59cb', 'para', 'nabib', 'userquery', 'gdrive57', 'lukb', 'cowe', 'wuzhoumy', 'pvdbosch', 'upturn', 'casaxavier', 'sender', 'tricellarabia', 'jmnadestdclrt', 'sumbit', 'oticaonix', 'logln', 'filllet', 'xmlapp', 'hehe', 'wildclick', 'vbtjntlcl', 'silkroutere', 'vpv', 'omhuqgdf', 'myrademo', 'clubserve', 'newdropbox', 'storagedata', 'swissvans', 'hkkuu2', 'beliving', 'indexxx', 'aagp', 'include', 'dmeneghetti', 'wallst', 'promotagrams', 'osinmode', 'cpl', 'rebdownandlo', 'jdownloads', 'romana', 'balihoo', 'jss', 'fin', 'grated', 'css2', 'xnhn2', 'accessonline', 'sadteam', 'kort', 'jomla', 'pdfdrop', 'pgsskateshop', 'dbase', 'perception', 'autokiller', '20file', 'pplogin', 'deb', 'antaris', 'dgsryh', '20forward', 'posta', 'gbn', 'gokmasan', 'secure6v', 'opghdecn0125', 'arquivos', 'auth0user', 'ibc', 'masslung', 'nchepeweo', 'chromeinstant', 'inandoutand', '9py8y2vyv5', 'nokd', 'ideal', 'cshtml', 'psa', 'sxid', 'himam', 'arangbriket', 'officeadmin', 'ukeng', 'savethegoddess', 'lifecarehc', 'dintwitahow', 'comlee41526', 'drp', 'registrato', 'f0ld3r', 'phpthumb2', 'hnteacher', 'angabe', 'gtbaa', 'gme', 'roxieimshi', 'luxmura', '6te', '3bsz', 'resid', 'calamdefend', 'mistered', 'cab', 'comuk', 'onholdivision', '3d3d3d3d3dus', 'icons', 'libero', 'sgadoutdo', 'cadastro1', '20adobe', 'wbsccr', 'aziendaid', 'merofid', 'myallpctools', 'loginmdp', 'stiapp', 'ceagostiniano', 'dispatc', 'smileys', 'fget', 'mcaltlib', 'cgfnzu', 'ppmessageid', 'sq1', 'revistaclipa', 'bbx', 'pac', 'hubliclick', 'hostzi', '3beor', 'tuenkers', 'elderology', 'atw', 'lqomy', 'gahtofrss', 'complaintview', 'screenid', 'induction', 'shikshasadan', 'demo', 'di0li3ga9ro3', 'tskheating', 'clinikat', 'listmenu', 'mailupdate', 'stp', 'folder', 'servicepeyment', 'axis', 'zazahgripol', 'colorbox', 'profileupdate', 'roxfire', 'aldesco', 'comcqr', 'tabsync', 'bobneal', 'kongo', 'bra', 'bhoomart', 'jerabel', 'signinfpp', 'ucoz', 'sorteios', 'capsoftnm', 'mba', 'staygray', 'rsxxx', 'rimiller', 'stocco', 'gms', 'mycuisine', 'rhwdrilwwulvpx', 'coozpn', 'gfk2p', 'ukrhitech', 'mediakol', 'fromdoppler', 'jkpkukf3', 'interbank', 'kppodmyl', 'g38f3fg', '3country', 'ligertid', 'pantheonsite', 'eltbqgwtjmqvf', 'joanmelo', 'copa15', 'fqwufprf', 'buonoegiusto', 'redirectme', 'paypol', 'fd1q', 'maxlines', 'tvctransportes', 'ryi81', 'loja', 'trehoada', 'securecode21', 'hadfanawass', 'penismedia', 'myartsonline', 'bbtonline', 'sify', 'chatbyorkut9', 'net23', 'jesusdenazaret', 'wdgt', 'bizanalyst', 'sobretesis', 'byte', 'searchreplace', 'manningclub', 'checkpoint', 'renderer', 'ibmsupport', 'boot1', 'floenriq', 'pm1', 'xtrue454w8', 'ipaa', 'uptodate', 'nsourcer', 'usingssl', 'totallynews', 'pzosip', 'host', 'ukwsebayisapi', 'concordwest88', 'aolbilling', 'dochoiphuchung', 'securitypaypal', 'bdb37', 'cfide', 'globalsources', 'ofenbinder', 'amnclgo', 'spectarent', 'jdexcorp', 'uthlevs', 'restapi', 'carloabati', 'zhzet', 'customs', 'ibadahumroh', 'dimapidor', 'ril', 'classicrunners', 'lloydphillip', 'alvahart', 'rbiedited', 'lmpouts', 'wpcontent', 'snaplette', 'limitsiz', 'aromasdosul', 'theatosc', 'touchtelindia', 'testo', 'hi2', 'mpmzmzmzut', 'drybags', 'kreepykrauly', 'pngfix', 'cnwaxpd', 'indexonline', 'fullapple', 'step1', 'bilderupload', 'weenblast', 'olneyfurniture', 'sicakeller', 'utm', 'lord123', 'srvinevirtual', 'membin', 'wpcss', 'ani', 'ospk', 'freehost', 'vktrus', 'webscrlscmdl', 'njhbj0266b', 'securebanking', 'lsxm', 'loa', 'chriscel', 'validieren', 'ohplsuljopekq', 'kama', 'wvat', 'usx', 'beautystrands', 'xnoxodgsqiv', 'ovo', 'processing', 'tam', 'srtec', 'slakhal', '80port', 'knby545', 'gggg', 'dispatch58', 'webatu', 'frilagos', 'partybus', 'securecode2', 'tehran4', 'machenss', 'dnset', 'soucaipu', 'monthly', 'jimstroker', 'gerardfetter', 'olp', 'circlewear', 'sys', 'telegraaf', 'coupanstitr', 'zapto', 'policyforlife', 'eresmas', 'monecouth', 'easyweb', 'womenstown', 'charset', 'paiement1', 'neumaticone', 'nbfnzg', 'invisible', 'dmdocuments', 'olpharm', 'joston2', 'activet', 'biogreentech', 'azimutdv', 'grendizer', 'orchidbooks', 'nfpb', 'fortycooola', 'samssara', 'starserg1984', 'webstat', 'grupomissael', 'cashemega', '7g6bubt7v', 'googledocs2015', '1lorawicz', 'cisema', 'reprom', 'teknodate', 'paypaleurope', 'paupals', 'qualifiedplans', 'login', 'departmentid', 'certs', 'otzo', 'mscoresvw', 'debmell', 'attachauth', 'hardjocks', 'montreapp', 'opmsk', 'dks', 'gttconnect', 'jehfuq', '20login', 'taxadmin', 'ahdxgroup', 'alnadhagroup', 'redirectionse', 'duramerica', 'senyo', '51jetso', 'chomikuj', 'mediacom', 'jcs', 'googledoc1', 'funbox', 'ib2w', 'tienda', 'rdyy', '26mid', 'twentyten', 'knqsmofus', '5cnsubmit', 'powa', 'itau', 'newload1', 'aspconcrete', 'grhhr', 'thvjsdjmlcmdmw', 'busybees', 'webydo', '3btile', 'lacolors', 'tongjii', 'luxelectrical', 'avers66', 'beidou7', 'jazirashop', 'informs', 'dada', 'adamdennis', 'unmaskedman', 'ttweb', 'userlogin', 'payapal', 'mxtoo', '3fcampaign', 'edited', 'cnhedge', 'cerm', 'vbard', 'settings', 'along', 'ocalhost', 'femilala', 'freeoda', 'ssll', 'steampowere', 'accessvalidate', 'bepractical', 'buhjolk', 'ooba', 'hongchi', 'ygyngc', 'crop', 'securecode8', 'coloradmin', 'zrdom', 'pnf', 'rel7', 'comuscgibin', 'booltom', 'vacau', '86info', 'supports', 'zmotors', 'notryhecor', 'edudawn', 'flowsession', 'inlinepopups', 'rechargeworld', 'frenchtrotters', 'bergamo', 'placaslegais', 'spenk', 'grafioffshore', 'verfication', 'avonseniorcare', 'paiementcopie', 'b2b', 'profiler', 'bannerbox', 'la5taavenida', 'marvelconcepts', 'sellercentral', 'slt', 'comze', 'fhhbdb7r', 'valuecheminc', 'bivers', 'tidedawest', 'ybs', 'oneills', 'casaazul', 'animemckpotuk', 'inoesis', 'zsyqzx', 'toddbeckett', 'dgdg', 'accendojuris', 'novaovasoft', 'cielo', 'walkonwheels', 'widgets', 'iieu', '20windows', '80jwdm', 'zaza', 'xdysb', 'paypalupdate', 'damianstarr', 'artespa', 'kin', 'russlandblog', 'verifier', 'tmps', 'mariganz', 'onlinepay', 'karejones', 'zzjixiang', 'prmluunkeehl', 'graphictao', 'overrides', 'salvation', 'qszrysyus', 'salebuyandrent', 'fetch', 'krp3cmg', 'snapwire', 'revistamercado', 'netsync2', 'tzc', 'gmail', 'hang', 'audiocomalbany', 'bluewin', 'load', 'exe', '20panel', 'dmmusic', 'mypaypal', 'spawash', 'pkginfo', 'levelmaxecure', '8g74crec', 'moreepa', 'locales', 'tml', 'cgibin25', 'file', 'aww', 'fib', 'dest', 'vishop', 'sierraspf', 'verifiction', 'skycam4', 'smartsalesbr', 'gastone', 'blutmagie', 'successafter60', 'gptrack', 'veganvet', 'praneeta', 'designqaqc', 'hpage', 'mysupermarket', 'errorpage', '2526openid', 'aquadryplus', 'cloner', 'lgn', '2fprocess', 'laililau', 'pizzadrone', 'paoapl', '0qfgsypxhz', 'produbanco', 'cambuihostel', 'securecode47', 'vemparabelcorp', 'iymljfnhgyr', 'smstrust', 'studionabik', 'dropbox1', 'rdc', 'myposti', 'sessiontrue', 'sxlfjzzs', 'signin', 'nishhilton', 'chattype', 'securessl160', 'mailjet', 'wawm', 'perfil', 'dv8vhk4t8h', 'apmar', 'add2cart', 'xkagbjqkemxvwr', 'cadgewigan', 'ebi', 'netregistry', 'raiffeisen', 'devaworld', 'naschlouey', 'ingpors', 'gerwinvegter', 'tracking2', 'snip', 'kasegspe', 'newama', 'sirmatravel', 'ashlandaging', 'vicele', 'metacc', 't67bg', 'flash', 'kouw28', 'ssl3', 'imb', '20setup', 'wingstoves', 'bobcareyphoto', 'bomsucessonews', 'zbbxhjcus', 'smartnav141216', 'fauxemail', 'x3ddomain', 'mhj2', 'mik', 'myaol', 'myacct', '3dtraffic', 'hqprocess', 'snoozetime', 'pagebin', 'processo', 'weiis', 'gwutoday', 'secure821', 'myaccount', 'qwhxpkwlmho', 'nordijors', 'jazztel', 'tradesmartcoin', 'rscarcare', 'file4', 'disneybyphone', 'payment', 'onlinksoft', 'ddeu', 'greenled', 'except', 'conso', 'imobillfree', 'securecode9', 'excelapp', 'tplink', 'sugarsync', 'ebtide', 'yinstrage', 'onlinsecurity', 'upt', 'formulario', 'followup', 'bearbenz', 'zim', 'idmate', 'webscr1', 'webdevvers', 'updatenow', 'riadaziman', 'carrega', 'kizzok', 'ps3pool', 'csgladiatorgym', 'ebayisapi2', 'netbank', 'vlc', 'prosperis', 'sp2', 'baldoalberti', 'ordine', 'symirijibsms', 'securessl190', 'compile', 'redirect00', 'wischral', 'nicklambdesign', 'visualizar', 'netcure', 'iveco', 'akwadrat', 'poste', 'rockenespanol', 'pastebin', 'processing1', 'ecommerceday', 'daf', 'jabry', 'mgs', 'scuredfile', 'wellyzimme', 'secureredirect', 'wplisters', '20scl', 'smees', 'rameshco', 'http', 'hlydav2', 'pegfovh', 'phraepunya', 'cokealong', 'aze', 'disijax', '0yuq', 'informations', 'diplomatnews', 'conjoint', 'gclid', 'hmaleuhbl', 'wysin', 'smagentname', 'travoxsb', 'kabelves', '20paypal', 'cmdlogin', 'sovancobellara', 'tcons', 'huaphone', 'loginforn', '20fiat', 'weblinks', 'fo1', 'bdnglobal', 'caladrius', 'frmobile', 'moduloblindado', 'namecheap', 'ctlinsagency', 'payfr', 'youyoupzh', 'inviteaccept', 'doneusebio', 'dem3owmx', 'maintaptavern', 'indexcontact', 'flutygoy', 'krishivkripa', 'treaba', 'blindsdelight', 'stoveegol', 'somtc', 'caravansa', 'googleapis', 'zvooogle', '26abf', 'cgisessargs', 'strong', 'bom', 'mindphotobook', 'newshared', 'fancybox', 'sellingclub', 'optmd', 'instalar', 'geraweb', 'np9ildv38a9y2', 'joom', 'intnet', 'pagelabel', 'gsmobiletech', 'sikker', 'cignitech', 'meltserve', 'teeessfarms', 'encrypted', 'wwww', 'tafelborsel', 'redfly', 'kkwow', 'pape', 'vantaiduccuong', 'unsub', 'formz', 'kativastore', 'wer', 'secure3p', 'eurand', 'char', 'logindispatch', 'primeproducoes', 'websitesicredi', 'tibla', 'wpinclude', 'birthstory', 'richieeee', 'mdseinc', 'domain', 'abccornet', 'projectgroup', '3bdestination', 'securedomains', 'adrizar', 'voicebomber', 'dvviagens', 'mindmineng', 'hohyzuketexppw', '87hcrn33g', 'paypalsupports', 'yvaujok', 'suspendedpage', 'uebersicht', 'igry', 'opuboikiriko', 'netrec', 'wildlogic', 'thema', 'paypalse', 'registrocielo', 'zcets', 'imitammo', 'rickyvilchez', 'securefile', 'runescape', 'xxrs', 'billing', 'guapaweb', 'dnat400', 'boltoflexaria', 'winstontowers', 'refresh', 'locatelli', 'fitshed', 'neazemmus', 'jobazine', 'spm', 'mywedstyle', 'asafguven', '2fsify', 'bbvogliadimare', 'update', 'chateaubio', 'limbonganmaju', 'gzjtjyw', '320graphics', 'agc', 'twentyfifteen', 'bomoo', 'vansales', 'scrupdate', 'prvlisted', 'kcelcorp', 'aega1t98gf', 'kugla', 'fifieoho', '3bot', '3dus', 'finalgr2', 'belitungindah', 'wihepersi', 'zxz', 'liderkirici', 'oqokul68646', 'itpostepay', 'ttt78good', 'vidyani', 'yerndrunk', 'bahutnorma', 'mirofusion', '27offerta', 'ringgatan', 'fresh', 'p76y9t4zw', 'hkcolocation', 'dyfdzx', 'glamorous', 'ppay', 'quads', 'mobilfunk', 'pesadicot', 'ypbgxs1c', 'newb2b', 'asideal', 'progettocrea', 'grahainterieur', 'wangmewang', 'invoice', 'm2ulogin', 'privatkunden', 'shisimi', 'stretchfityoga', 'borcuodeme', 'fastnarrowgoes', 'kcfinder', 'uplwj', 'ozka', 'rejoincomp2', 'bancodobrasil', 'arenajax', 'batlle', 'mailbox', 'magnza', 'bannered', 'animegun', 'godaddy', '3dhttp', 'cellulare', 'aoil', 'peterbogdanov', 'hailagra', 'fullbodywine', 'wilirots', 'giga', 'kkok', 'galvanosur', 'hipercard', 'cobestgift', 'webscuers', 'geoeducation', 'juplo', 'ciel0', 'fend', 'supersaludable', 'loyaltypoints', 'information', 'kjnm', 'ssgmcdaviz', 'mehreiran', 'linux2', 'moneyfarming', 'o2pulse', 'osteopatiaedor', 'jgop', 'rrwmyps', 'trk', 'archiv', 'stgeorge', 'interhottap', 'forensic', '20email', 'gite', 'webidator', 'oliveden', 'medlawtv', 'personaluk', 'shdv', 'alawar', 'foodbiznet', 'zjgsyds', 'citychowk', 'gbplugin', 'fdfjkhfsadv', 'enni', 'bpd', '51k4ping', 'fotoidea', 'logi', 'nokiadns', 'vencerelcancer', 'phpinputfilter', 'iii7', 'frosinonewifi', 'firebug', 'uyn', 'freemobile', 'qqpqctottwv', 'wellsnew', 'bitcoin', '9hz', 'aficion', 'lq1z62q', 'cvtnewyork', 'bimowamokykzzx', 'capitalone', 'pfid', 'whitehome', 'jhvkjvhfkcykc', 'billingarea', 'cluvits', 'kokoart', 'nortagem', 'mgotto', 'vidonet', 'zwsxeealkco', 'jscripts', 'santander', 'avantlog', 'tongjj', 'danzig', 'advance', 'gswzmb', 'chchqq', 'wealth', 'nsrcconsulting', 'alldom', 'prepare', 'securecode4', 'bfiproductsinc', 'uleimigdale', 'bro4', '2wmp4g', 'loghere', 'proni', 'chek', 'ampconnect', 'yahoofinal', 'miryamquinones', 'cnsb', 'pycharm', 'showpremios', 'kfqakff', 'tmweb', '20sign', 'emailbilizzard', 'kasa', 'chama', 'adsid', 'sghelpingtasks', 'sabilich', 'kksamara', 'eewow', 'unionathletica', 'fywuw8ar', 'navyfederal', 'flashfm', 'secure371', 'non', '26size', 'diamentebianco', 'jpm', 'runame', '26pli', 'agenserver', 'tendgroup', 'achivement', 'bine', 'commbank', 'onpoint', 'eshoptrix', 'pomo', '20doc', 'wszib', 'phpthumb', 'handleusflex', 'thickbox', 'openofficev', 'hrietolewox', 'grn', 'nobell', 'talker', 'b7aba', 'assurance', 'luxurydomains', 'mails', '2fcdn', 'webege', 'commessa56351', 'e1r', 'kmdata', 'bumnv', 'okeanbg', '897fydnv', 'debug', 'lclc', 'notification', 'menumaterno', 'iitee', 'iglobali', 'hdjung', 'chmail', 'goo', 'courtindental', '3d3fa', 'zhtml', 'pstimes', 'at10a', 'hgvjhvjhvjh', 'afid', 'easycar', 'planetintv', 'termogas', 'popupexpo', 'vivaldi', 'govfedoil', 'linkhause', 'jnews', 'goodvibes', 'inflazz', 'update1', 'outil', 'contrasso', 'wldwsfwzx', 'iclt', 'loginpage', '3eeweb', 'documen', 'bdbvcvbndbfnn', 'jphotobackup', 'identifier', 'tes', 'istrapedia', 'xosothudo', 'admins', 'cablerouting', 'absabanking', 'dllsignin', 'sindhuratna', 'iprd', 'ecareserv', 'addetti', 'eventcreation', 'cielocadastro', 'icono', 'km6', 'bjzjg', 'uncemtoscana', 'kul', 'sslapp2008', 'unizigma', 'webcindario', 'onlinerechnung', 'installs', 'hotclikz', 'xvisaeurope', 'multilanguage', 'boyyy', 'hibizsimple', 'nopeatech', 'imp', 'nawabmyops', 'loginaction', 'innrvogue', 'sspedoktoru', 'instal', 'flow', 'gooflashcorp', 'eccolo', 'singin', 'example', 'agile24horas', 'shseed', 'billverizon', 'ufi', 'p3lefilm', 'chase', 'afghanha', 'anoy7cq', 'visajourney', 'qosmvyuuwoklly', 'wsignin', 'methodpayment', 'berjois', 'paypalservices', 'northpoleroute', 'biedribasavi', 'alliswelltour', 'outlook', 'drpbox', 'paypalid2', 'paypailogin', 'calbum', 'ahrchk2', 'peopleprofit', 'breadcrumbs', 'portalmobvi', 'appsnewhot', 'davisdoherty', 'g76gyui', 'anoy7cp', 'tsintegrator', 'blifoud', 'site50', 'docss', 'gdavies', 'qqrs', 'cgbin', 'jycvhfqq', 'dsx', 'xxggzs', 'ameliassurance', 'aolmail', 'boxdrop', 'rosesci', 'jxifdhv', 'hostei', 'dropbox', 'corretta', 'base64', 'yywow', 'onion', 'cmdloginsubmit', 'hongtongsoft', 'b1f8e', 'kejw', 'fosung', 'data2', 'bbvanet', 'vedicmotet', 'c9users', 'g7vuyhjb', 'innovator', 'artistdec', 'cmail5', 'alibencs', 'uaanow', 'dxx', 'balikye', 'dld', 'lastaturizam', 'emid', 'accountrun', 'conta', 'fuxg', 'xulevil', 'akombaovao', 'uspaypal', 'webinterbank', 'chuk', 'auditinternet', 'batwheels', 'wpcielo', 'dtpxpvous', 'pyjoosheyra', 'baza', 'wpcron', 'secured', 'libmysql', 'spacebox', 'nab', 'siragomer', 'remaxola', 'patchs', 'barrelandfare', 'securecode35', 'royalbank', 'json', 'alpinefreeride', 'qu2lp4b5l', 'z9opr', 'atricor', 'profsonstage', 'bibubracelets', 'tonlonsaojudas', 'br2', 'gesansow', 'd2k', 'impghx333', 'artlitera', 'stocksmarkets', 'webpage', 'remaxnew', 'rand', 'httpspaypai', 'bsdemo', 'bootstrap', 'burstmedia', 'webscrpatch', 'xelagon', 'filewordss', 'longshu', 'vetpayee', 'miberau', 'rizar', 'errer', 'tribox', 'chiculture', 'novy', 'chengxuren', 'cglbin', 'sincronizacao', 'bhqxvavm', '02leds', 'mucicsitta', 'malamalamak9', '26height', 'basislabel', 'tbaoletus', 'joh', 'eikonesagion', 'pavpal', 'c4n1q', 'woodenhouse', 'onelove', 'plex', 'tolzwftus', 'mommycantakeff', 'binstr', 'screaming', 'servicos', 'aeep', '2flandingpages', 'mesautos', 'tibialottery', 'foandrenla', 'cnmilit', 'uonumanet', 'nkhw76o8u6', 'maryosteopathy', 'heticdocs', 'zjgfw', 'hongchityre', 'jakelowephoto', 'dsusa', 'achieve', 'herrsmachine', 'mariomanadong', 'adminpanel', 'spaw2', 'gsctechinology', 'polarroute', 'fdsfgsgdvsd', 'hgf65g', 'wavearni', 'etanitim', 'ebr', 'kaprisearch', 'voudeargohost', 'xei', 'oasischurch', 'zuoquanba', 'xmjlsx', 'acriwindow', 'logincgibin', 'nuyff45d', 'limto1', 'tokdeclasse', 'albel', 'freeiz', 'viverelagheula', 'h5io1', 'eurofxref', '20ssl', 'mbox', '20secure', 'fzjyefz', 'exikotz', '20verification', 'vonage', 'merrylaz', 'greatlabrador', 'szviko', 'etiksecimler', 'szxinheng', 'mytincorp', 'yofee2u', 'tecnologia7', 'ccd', 'sumfra', 'mysqli', 'ksbazynqnr', 'taxe', 'eeok', 'secure1r', 'suntrust', 'auen', 'hadirect', 'gbmj', 'mylespollard', 'authorize', 'paigemduke', 'justaskaron', 'pandavillage', 'saumi', 'altomisimali', 'wonchangvacuum', 'mrkitchens', 'zeus', 'pomf', 'source', 'tooken', 'wiselysoft', 'pplumbing', 'fususokie', 'horaia', 'secfr', 'nerry1', 'yeniik', 'textidea', 'manisidhu', 'already', 'intid', 'computantest', 'ekf6', 'concluido', 'htygwt', 'interia', 'accont', 'dankort', 'idebio', 'locksnote', 'fiuxnmeus', 'casts', 'cmddcapb', 'bjfyteshi', 'gripnet', 'zugzwang', 'dsalchi', 'littlehighrise', 'worldjobz', 'skype', 'securecode3', 'bluedarkgrey', 'deimand', 'keybase', 'cielo2014', 'kuhrsinholland', 'berhrtkjt', 'thebeet', 'petwig', 'images', 'elvira1983', '252fdocs', '13inboxlight', 'rerte', 'zjxedu', 'bjit', 'karinschacht', 'saxychiomzy', 'ime', 'updatey', 'deflex', 'dfg', 'gade', 'yoo', '67fgbcni', 'flygz', 'yxcswmius', 'gist52h', 'securessl', 'huxijis8', 'itordernote', 'herself', 'banquerun', 'exacttarget', 'mp4', 'mailserver', 'blogtest', 'ms1', 'dump', 'isgsi', 'iqaws', 'pandaforumx', 'docanswer', 'wenamibia', 'valkomen', 'icp', 'prinsotel', 'scolapedia', 'neyanryliqyj', '3t0j7cmgpomfy', 'kxescore', 'icplit', 'katjaschrijft', 'tar', 'steelhome', 'motownscuba', 'securecode103', 'districthdc', 'relogin', 'wvvw', '5breferrer', 'exe trojan', 'bytove', 'depositos', 'fileshare', 'plugins', 'shopper', 'creativezoneit', 'typo3temp', 'vibesjamaica', 'readmessages', 'bazurashop', 'blocks', 'cengizgulec', 'blueroute', 'modulo', 'grouper', 'zjbluesky', 'sbicmgmt', 'particuliers', 'acia', 'armidolf', 'crownvillage', 'websicur', 'scama', 'three96', 'freenetname', 'parsimaj', '20dossier', 'insigmaus', 'errone', 'acceso', 'ern', 'imp2', 'pygsrnpckgqh2q', 'viscarci', 'craigsdesigns', 'xyqx168', 'con', 'datasnood', 'gwchost', 'machiningmetal', 'comlogin', 'jnzbtb', 'lycan', '252fsify', 'h2tacp8s9i', 'accountpage', 'zip', 'digilander', 'astloot', 'jlrcreations', 'calender', 'cccxxxxxxxxxc', 'servico', 'paytostopigil', 'pepperdeybalms', 'doubleclick', 'cocoss2d', 'joger', 'esy', 'load11', 'hnmbac', 'skat', 'inst3', 'takamato', 'mailusaacad', 'oldgamez', 'walterpayne', 'cinerd', 'dyfr212e7at3', 'randallweil', 'haberurgup', 'biz81', '20verzeichnis', 'aandgtrading', 'drop16us', 'leprogres', 'yaeyo7jbp7', 'ppc', 'jewellery', 'navigationnow', 'muongcaupo', 'vangogh', 'cclpgms', 'basix', 'docusign', 'bin3', 'natoint', 'zgmmzzw', 'yenndesigns', 'yeye', 'securessl180', 'francogatta', 'sent', 'bdbsizn2', 'heliohost', 'apk', 'fibrotek', 'linfan', 'xiaomi', 'divpage', 'xim', '2bcadastro', 'megaa', 'cycgibin', 'classe', 'immoclic', 'premiostododia', 'mobile2016', 'noithatvinh', 'csob24', 'huaruisolar', 'colafoundation', 'abelindia', 'cadastros', 'qisxmdwz', 'khrwzwh', 'panelnew', 'sass', 'handler', 'pvqdq929bsx', 'rbaccess', 'webmail2', 'indexphp', 'secure2h', 'verify2', 'comuf', 'amisgourmet', 'upload', 'willcoxpd', 'dimenti', 'fid', 'mbi', 'cbzpivdus', 'almel', 'betterlive', 'aarambalab', 'portalcapoeira', 'securecode7', 'sitenivel', 'hello123', 'abuse', 'modulekey', 'manapools', 'loginaccount', 'minnmc', 'villabello', 'verifica', 'hapuka', 'hgdsfdd', 'booksface', 'oldcopy', 'cloudns', 'agrobase', '0cgkq0qw', 'ritercom', 'hpdnet', 'ctsaci', 'cib', 'servicelogin', 'permission', 'lyskyz', 'lkpmrg2', 'kosdfnure75', 'usedkerri', 'lanapyfyfppw', 'neue', 'yaowan', 'locale', 'inst', 'comite', 'file4hosti', 'sitthenrebne', 'prob', 'hitech', 'esco', 'bazardoriente', 'absamobiledo', 'webhop', 'knn', '3130fletcher', 'office2016', 'westpa', 'skyexpress', 'runk', 'soroptimist', 'sqiwysgobx', 'infroeh', 'dav0', 'gdoccc', 'wwwfull', 'cvsudujmcy', 'fata', 'ohimlethen', 'cgibins', 'willowfabrics', 'a7consultoria', 'welcompak', 'binpt', 'documentl', '2amsports', 'dnsalias', 'aollogin', 'ahottubplace', 'tbrd', 'lol', 'nuchinucah', 'ecradmin', 'lanamusty', 'secure8k', 'cimbonli', 'yahooaccounttw', 'outlooks', 'danregion', 'wishatsamyan', 'rara', 'ns1', 'hostingprod', 'gojeguya', 'wpdb', 'processed', 'wowsale', 'uniwearltd', 'stacg', 'aquatixbottle', 'servicepaypal', 'lasmilyuna', 'weejoob', 'consignment', 'scr', 'gouv', 'bukfa', 'viewforum', 'redacted', 'girlhunts', 'pkfi', 'abgleich', 'indexz', 'hotnepalijobs', 'cpgskvx9', 'minomiya', 'hongfazhileng', 'logon', 'freegames', 'servicio', 'dipp', 'rict', 'sirila', 'spreadsheets', '3fdefault', 'lucirabydevpps', 'faih', 'dmega', 'powerful', 'binboadesign', 'deliinfo', 'smiles', 'g2cteknoloji', 'ngi', 'michik', 'gdatemobi2', 'webmailverify', 'mobiledo', 'renatadacosta', 'securityapps', 'instagram', 'sss', 't2ifac5h', 'poal', '2cor', 'freee', 'everythi', 'jdproducts', '3dtour', 'duba', 'kepek', 'fattura', 'achdziennik', 'tuhu', 'asia', '20roadstar', 'microcalls', 'bami', 'ljpsdcw', 'lotuslogistics', 'kimclo', 'g00gle', 'lndex', 'ourfrontline', 'amautopartes', 'awaxlab', 'ethnos', 'htms', 'lovestone', 'frumiel', 'openerstr', 'radiocolocolo', 'ctr', 'projetos', 'gdsvgjnaqu', 'michaelserwa', 'flashplayer', 'secureservers', 'bobdesumma', 'gory', 'eyewatch', 'entab', 'xls', 'hostit', 'rbs', 'vvrs', 'bamandjustin', '81millstreet', 'fdslosart', 'bqukfjfv', 'ithurria', 'nofrillspace', 'specimengear', 'newload', 'ebaymotors', 'adventurek2', 'tsttechnik', 'goog', 'webhosting', 'protechdt', 'themecompat', 'securityupdate', 'ktbits', 'vdgbfslgdfs', 'quite', 'auraaviation', 'sabiaito', 'subid', 'technobuz', 'wprefrech', 'waspvideo', 'dispatchcgibin', 'hven', 'mgh', 'wellsfargo2011', 'cpiano', 'kzero', 'expressseo', 'net16', 'subys', 'hippet', 'bringitbackcc', 'curemysinus', 'contry', 'sindju', 'winsattach', 'shinlawoffice', 'natwest', 'laferwear', 'stedu', 'newtesting', 'nethost', 'securessl510', 'gixmi', 'bottons', 'sitioantiguo', 'pryerungot', 'sgamedesignw', 'yoghurtmedia', 'confiagro', 'putty', 'ktchista', 'jhandiecohut', 'updatelogin', 'accounts', 'hyhpzx', 'dessing', 'jandjmusic', 'dax', 'netau', 'sakaza', 'else', 'aresgame', 'uuwow', 'rpt', 'pinkyys', 'personas', 'bazar', 'tracbcom', 'sysresinc', 'xszwys', 'atualiza', 'wedwer35435', 'dolphin', 'boltlightning', '26uri', 'kanzas', 'f5mfuv', 'ce3', 'purchase', 'dispute', 'erreur', 'postepay', 'fitofarmacija', 'colsanpablo', 'clieent', 'auzonep', 'greenbirdeg', 'ytu', 'catlong', 'clearlooks2', 'hhok', 'domowe', 'skey', '20drive', 'tld', 'ppp', 'utt', 'realhelpsout', '8loginform', 'bplaced', 'accessmgt', 'hf0', 'wpmaps', 'home17', 'mesomedia', 'sansensheji', 'newdocxb', 'updatewindow', 'intatv', 'holtankoljak', 'cndoubleegret', 'secure login', 'fifamericas', 'hostizzo', '2fwww', 'friskogmett', 'ribey', 'defrgeed32', 'xeoup', 'best4u', 'dispatchform', 'econox', 'dialektika', 'zielonyogrodek', 'convfunnel', 'juyinggroup', 'abbeycom', 'referansmotors', 'cadastrar', 'hfvg623', 'cadastrese', 'pack336', 'tbh', 'safe', 'sevkon', 'gpdf', 'phpn', 'ipad', 'elogix', 'sakegil', 'samsuntasima', 'momo', 'gttbangalore', 'ptamc', 'amomentintime', 'xdcntrlde', 'sonatastore', 'jenohorvath', 'rtime', 'usitreq', 'xmlrpc', '78yhuinfys', 'tpv', 'ritratrecre', 'gtexx', 'unikone', 'atronis', 'ib2', 'themecheck', 'dongyigg', 'accountdetails', 'jozka', 'anrsynergy', 'sure', 'ymshop', 'activating', 'eseguita', 'wrongfoxx', 'busiclean', 'rockron', 'spub', 'securessl130', 'chjp1', 'peypel', 'steamurmmunity', 'gouvs', 'iha', 'passgeni', 'cronicasur', 'avonaco', 'janamackova', 'tomsk', 'acessoseguro', 'itkintek', 'htc55f', 'maxkz', '26followup', 'lgg', 'diablo', '26zoneid', 'memberverified', 'webcsrcmd', 'logsession', 'anatoliamaket', 'd3account', 'sharefiles', '1rg45er2g1w', 'mediaplex', 'purl', 'harshwhispers', 'swat', 'ppang', 'medscape', 'anmelden', 'nest', 'gza', 'hradsovinec', 'idh', 'afterwords', 'sickishly', 'kindomain2', 'realitherm', 'feedb', 'velavanjewel', 'controlpanel', 'sandrethe', 'linosys', 'run', 'mforumslogins', 'downloader', 'neaindustrias', 'itempurl', 'checker', 'dhltracking', 'dbm', 'lustvodka', 'procesing', '1pcablesinox', 'bestil', 'posti', 'securecode30', 'rmqimnkus', 'prokopyuk', 'piz9', 'abnetbd', 'xyfeyco', 'callback', 'xaiu', 'h3tf68zi', 'avs', 'comovan', 'webdav1', 'dipasteurkan', 'craskart', 'iastjd', 'ebalekina', 'p57vp8zln0', 'dmx2', 'fs1', 'w2bscrcmd', 'islander', 'wy3e7zoy6mq', 'adcconsulting', 'abanzando', 'opoisson', 'kikilovell', 'cekmh', 'jcq3', 'wpsecure', 'verifizieren', 'atstory', 'visualfactory', 'mancanti', 'eclovers', 'aseunab', 'andrewsupplies', 'hellolanguage', 'diparela', 'priwil', 'restadelray', 'hotmailfr', 'quotation5', 'zkwell', 'dellobusiness', 'asvic', 'dropboxz', 'iridecor', 'eegl7p', 'nogame', 'espv', 'fantomlux', 'paypallcom', 'vodafoneshop', 'clientsignin', 'evovapizdyk555', 'firstteacher', 'bosmet', 'offertaid', 'jquery', 'lockingshields', 'work', 'sshd', 'godaddydns', 'apipchile', 'tmhandel', 'bee', 'rew', 'feedback', 'mandsong', 'trkemail', 'verificated', 'apertura', 'eselenology', 'senario104', 'hsconfig', 'eim', 'soylatino', 'corinnenewton', 'abilbo', 'goood', 'delivery', 'primeexalters', 'oqdkyaei4k', 'jquery1', 'qwe', 'exception', 'sportal', 'ssobto', 'hegeman', 'mytvonline', 'bittytag', 'onekeysdk', 'prokatka', 'rubiconproject', 'chq', 'csucdc', 'bvipponv', 'jadro', 'promo70off', 'hjv56', 'securessl110', 'mitc', 'myboatplans', 'realmofrage', 'file1', 'chieffi', 'getir', 'virmalw', 'topcar10', 'chatroom', 'registre', 'pes18', '2fws', 'iproaction', 'payza', 'anoy7co', 'indianafrehet', 'klm', 'twanvandewiel', 'mrwolfkids', '3da', 'securedfile', 'artexam', 'cixiyucai', 'turinfo', 'imckart', 'mendsnolle', '8secure', 'jinxlaze', 'newest', 'potchnoun', 'hipradar', 'dropboxlanre', 'psuti', 'smkfadris', 'latinchat', 'sciowellness', 'googledoc', 'vintageselects', 'ourtime', 'pavia', 's9p8cce0zl', 'alturl', 'admzr', 'googlenew', 'inauthorised', 'aksjdderwd', 'refreshmoney', 'freemobs', 'ppuk', '4aea9qeaaia', 'basket', 'firmasime', 'cmdp', 'nymain', 'zabi', 'milverdn', 'tgz', 'eefermrhywxpa', 'dreamiit', 'picisjyel', 'teas111', 'harmathatmo', '20normal', 'lecopabohyxppw', 'onezkids', 'wpdbbackupmade', 'sklep', 'alkalifeph', 'graficaargos', 'chaseonlinepc', '1zwfqo12ix', 'montravail', 'geanfernan', 'sdfrenchschool', 'villaducale', 'jhphmcc', 'users2', 'ppal', 'goodluck', 'bussiness', 'epvfolevo', 'palangkaraya', 'hali', 'payspl', 'thetoolshed', 'logindone', 'mennn', 'applcompte4uk', 'kucnitrener', 'netsdenmark', 'dap', 'agrepres', 'notify', 'ibc14', 'capitalvisions', 'daneshjuonline', 'moobesring', 'parma', 'font', 'arabtech', 'review12', 'ne3s', 'travelsardinia', 'newyahoobuy', 'iambestone', 'upsuppliers', 'spbgruz', 'przeniec', 'posh', 'adsplats', 'knoqu', 'toujoursports', 'gmaii', 'mediaviews', 'lesaem', 'adobes', 'kil1', 'modernfoods', 'sardexcel', 'jjevil', 'mlxa', 'flso', 'less', 'drb', 'kudrd', 'strefa', 'acess', 'hmrc', 'assetfile', 'login0', 'futureproducts', 'jfmiondv', 'benutzer', 'randin', 'stratoserver', 'loginalibaba', 'box', 'digicomdigital', 'jca', 'inloggen', 'partner', 'ameli', 'soapdevueo', 'cxgywstus', 'politebobby', 'maxe', 'rdr', 'mylittlequests', 'wat', 'charge', 'lacajaverde', 'office2', 'asso', 'huas', 'fportal', '3d3dcomd3', 'rjblawfirm', 'magmi', 'priv8', 'k76j5hg', 'everydaycareer', 'armaplate', 'zarnawski', 'modifier', 'meskatha', '3fenc', 'protostar', 'rainbowlight', 'opendocs', 'data', 'xdf', 'security', 'albertocoto', 'inzt', 'tahradeep', 'ctts', 'certificate', 'creals', 'valide', 'housetw', 'paypallogin', 'hauslavendel', 'beam', 'qthandle', 'chegalogo', 'engine', 'optus', 'cedra', 'gomelnaushnik', 'alphadecor', 'nbjzpx', 'facte', 'betononasos24', 'zhongsan', 'errore', 'fav', 'securecode15', 'gate1', '1amfundmart', 'radiobalsamo', 'commisissemus', 'nebula', 'apex6', 'empolio', 'ofertademanda', 'graphicpool', 'onlinebanking', 'irs', 'cmnd', 'uvishere', 'temp', 'zte', '87yhb54cdfy', 'pavpel', 'innoverinstall', 'decorvise', 'bizinturkey', 'wpthemeone', 'austinpcc', 'emirates', 'signon', 'test2', 'idmessageid', 'speedstream', 'gaqd1aqaagd4', 'gorconsul', 'bhd', 'hbchm', 'aycilinsaat', 'prosud', 'bkt', 'stwholesaleinc', 'upd', 'sysg', '2fjs', 'ferumusky', 'bbwhotbabes', 'c2baqb', 'letstile', 'ahtjgroup', 'matamjidali', 'cef', 'addetto', 'runsys', 'pnn', 'eclogin', 'dinas', 'xsso', 'eml', 'adesao', 'cente', 'recoverspages', 'yes', 'hthava', 'utawebhost', '1maximus', 'adsl', 'ktlgpiilbj', 'ecotekcanada', 'milprollc', 'schooldrive', 'commonid', 'ase5', 'mask', 'okgcdn', 'responsabile', 'icscards', 'yahoonewpage', 'paypalcom', 'anz', 'abf26e', 'cfsparts', 'wsignin1', 'ccswy', 'q0v', 'boomsavings', 'scam', 'assur', 'smartzh131225', 'docfile', 'shannuodianqi', 'copa11', 'gamesmojo', 'dfwvdfsk', 'drlongghost', 'playingsims', 'w8w', 'compland', 'aloskim', 'awb', 'awbiqivoy', 'ini', 'joshdult', 'inmopromo', 'cmon', 'hnyjdw', 'amareaitalia', 'err', 'jye8s', 'payus', 'twentytwelve', 'lucianasaliani', 'wolfsblog', 'contato', 'grupodoma', 'peryskop', 'alerts', 'hbb', 'franny', 'zaxopoulos', 'ent', 'folueaport', 'tuesday', 'aoteatrial', 'dingalingtel', '9pdlg', 'xtrue44w8', 'foxcontact', 'tuk21', 'pcntrlch', 'utils', 'oldenzaal4', 'cfspart', 'noticias', '2falert', 'solidwebhost', 'protocolo', 'mitrablaze', 'userid', 'xc3db', 'bleutree', 'uk1d72f', 'herobo', 'openspaceart', 'somethingnice', 'junkss', '2fkdsljrfbgc', 'haaxx', 'jjrs', 'peypal', 'embed', 'twlogin', 'fof', 'upstreams', 'cljpimuk', 'choogo', 'rbc', 'csoz', 'parse', 'myftpupload', 'norcaind', 'sitedomain', 'jadoreunisex', 'bjwlnup', 'tvyanaul', 'czaragroup', 'nhacvietplus', 'nuovo', 'sdsti', 'homeact', 'maged', 'timthumb', 'dip0', 'momoss', 'gsigov', 'filesecured', 'remax2012', 'natos', 'bimowamokykpps', 'webscr8cmd', 'tmb', 'get5', 'nym1', 'payuk', '2bdados', 'amaya', 'mks', 'address1', 'ddocs', 'servesside', 'altavistawines', 'neobro', 'happymedia', 'suffer', 'extended', 'amazonaws', 'pattumalamatha', 'qfsd5f5fg', 'bbcpress', 'moorweb', 'svnsolutions', 'vai', 'suspension', 'kontrol', 'ani1', 'holdyo', 'scoder', 'secure9s', 'ishonchdoverie', 'iibka300', 'paypalcom3', 'federatedmedia', 'candidatura', 'extrem', 'immobilien1000', 'tata', 'management', 'chickenkiller', 'frm', 'kpybuhnosdrm', 'flroeieiricai', 'cmgavkpus', 'nuevarazajeans', 'healthyplan', 'wedan', 'signumtte', 'muk22', 'sites2', 'remaxsecure', '20autenticado', 'techdryindia', 'seniorboende', 'paypolrenew', 'vindirect', 'mkxp', 'huawei', 'revali', 'nxexec', 'agminmuebles', 'entrar', 'wpstc', 'sineadconway', 'd1ui18tz1fx59z', 'popgraf', 'comcast', 'theheritage', 'rnil', 'tsnwires', 'xihang', 'modul', 'janphillipp', 'danois', 'mgen', 'drzky', 'allalla', 'brokelimiteds', 'diamondfox', 'rondeaho', 'opqxven0szft', 'czmdzx', 'sync', 'wadi', 'hebergratuit', 'rutzcellars', 'smartclick', '3a4rt', 'deguir', 'mediafe', 'ganga', 'dmeneh4dev', 'durhamfence', 'deladi', 'toate', 'callientefever', 'export', 'updateaol', 'gif', '20security', 'poup', 'roundcube', 'dispositivo', 'ppl', 'ohkkk2oh', 'n3rv3rv', '83k0ma7pjavx64', 'aleberts', 'vti', 'wineroutes', 'radiatoare', '1ls', 'onlinebradesco', 'dolittlachedt', '3ascreenname', 'acofficebsb', 'skinvet', 'editedwells', 'microsoftsup', 'bisnisrumahan1', 'abcdraw', 'crrmedvezonok', 'ups', 'accverify', 'newepic2016', 'standardibk', 'batle', 'inquiryview', 'ahumgobio', 'down23', 'padova', 'wplog', 'smc', 'c9dg', 'ebrazi', 'adelaidesj', 'soordchut', 'wlw', 'provisorio', 'richsportsmgmt', 'djsliufhgs', 'ronbun', 'yinstseck', 'v5tq6s3', 'zhongdaxin', 'bercaniaga', 'muslimculture', 'mycitiflora', 'zhpud', 'langs', 'afriqinter', 'todaysvisions', 'vipseal', 'teothemes', 'hash', 'termine', '116region', 'friltopyes', 'gdoa', 'referrer', 'rideclub', 'honeybeeology', 'wsmod', 'formvalidate', 'thfnet', '2dfd', 'submitdistch', 'nucingulf', 'castrol', 'cong', 'mpmedia', 'villabiancanw3', 'securessl170', 'datase', 'bhbaa', 'combr', 'contactform', 'zagplush', 'banreservas', 'metabox', 'klovaks', 'kf25zx', 'opticalnet', 'parsstone', 'autologin', 'freevar', 'paypaluk', 'dropboxdoc', 'cesare', 'secure731', 'min', 'kizitowangalwa', 'custid', 'ayurvedic', 'bankwire', 'a1d4m', 'oowow', 'tareas', 'electrocablaj', 'wysiwyg', 'a4p', 'ns2', 'bonbonban', 'wydawnictwa', 'highflyingfood', '2015francedocs', 'hanwilrighpa', 'tipconnect', 'registrati', 'paronleather', 'cbindex', 'tharts', 'chamada', 'linuxsucks', '26informer', 'apid', 'yonearts', 'moatleftbet', 'request', '4pu', 'domain2', 'pikirykopypd', 'qijftdcnky', 'jhgy64hjbrd', 'webhelp', 'clinets', 'beez5', 'hnfoplp', 'personaldoc', 'i8p', 'thechrisomatic', 'fabioalbini', 'formkey', 'premiado', 'indexer', 'amezionuk', 'tektonit', 'bbm', 'game6media', 'voennovosti', 'imagedrive', 'newsumbrella', 'dgn', 'yplogin', 'unqdrjie', 'acclet', '20premios', 'pacc', 'szwanrong', 'yuankangzs', 'lovema', 'ema', 'ygpktpim', 'levinltd', 'pekanin', '54ghnnuo', 'dellassist', 'loginyahoo', 'lcl', 'amnistiaanimal', 'mobilapps', 'fixpay', 'tess', 'feuduprid', 'ibertic', 'madeinchina', 'wscapi', 'ilsignoreconte', 'eurnews', 'seccur', 'inkisoro', 'qarkuberat', '0bgsvtr3', '56f2gsu782desf', 'asbonline', 'net63', 'sweettalk', 'nstrefa', 'rrffpf', 'camdenhill', 'idt', 'acaciainvest', 'eurotires', 'xdesdr', 'sia', 'three', 'dentistkart', 'photocrati', 'cooperative', 'formresponse', 'negociante', 'ios', 'astefok', '3fz', 'excursionseng', 'edubit', 'creditcard', '1bowyer', 'finanzgruppe', 'acotin', 'wshcutleryde', 'boxmrenewal', '26tid', 'espace', 'finaly', 'teatroacorte', 'noithattananh', 'mawkkxa3nu', 'installers', 'lesitedupacs', 'pichincha', 'sourceid', 'ygto', 'yaganexpress', 'nichost', 'bobs', 'godofman', 'rybadm', '1laxd8', 'deckgamez', 'verificar', 'resolution', 'dhcydopl', 'bluedizioni', 'installation1', 'zimbra', 'corporacion', 'pfeil', 'ayo1', 'dropbo', 'confirmer', 'imports', '2fbr', 'acsjobs', 'simecchilesa', 'siteadmin', 'inves', '5aolo', 'eyhghhasa', 'invel', 'bopgkotus', 'gglogin', 'usaa', 'editorsxtd', 'paypalconfirm', 'fmrr', 'secure551', 'kitchendoors', 'purevision', 'kotofey24', 'atadrpbxx', '1mesasdepool', 'nel', 'soluciones4web', 'filefolder', 'expired', 'chegqjfgoeyvbm', 'biomall', 'steyjixie', 'acounte', 'investora', 'rybalov', 'ovh', 'pluser', 'dedicatedpanel', 'sweltclame', 'dresurapsa', '5izh', 'ambankgroup', 'onlinechase', 'storagechecker', 'amcntrlde', 'ipic', 'bisnescafe', 'ganhadores', 'bexleyphysio', 'ueuo', 'boxd', 'multireto', 'upcopy', 'obiri', 'mpp', 'fellinio', 'ams1', '3battachauth', 'sichimoca', 'izrxueeus', 'travelinsider', 'prousline', 'saesnix', 'alien', 'hidemynet', 'ycwjacy1m8', 'nagel', 'securedoc', 'devi', 'cthauling', 'btsoft', 'agacdn', 'secure7c', 'galeria', 'vnc64', 'santandenet', 'qies', 'montenig', 'netbizzardd3', 'insuregem', 'origurl', 'szm', 'alib', 'bjmilkyway', 'cha', 'nitrolasty', 'pass', '9r3ksfst', 'promocoes', 'verifiedbyvisa', 'amplus', 'kveldeil', 'produtos', 'recont', 'mail', 'infospb', 'boleto', 'premios', 'ltmpl', 'caenworld', 'pirellif1', 'continue', 'shannonebeling', 'deu', 'lnowak', 'eudk', 'yui', 'item3a7bf6f50f', 'esquivias', 'ungelie', 'ppwow', 'tianbofruit', 'ls5', 'favicon', 'ufficio', 'ttkaraj', 'outlooksuser', 'byrcecanyon', 'zilifone', 'drop', 'googled', 'bartmullins', 'cafsci', 'nets', 'eb2a', 'accountonline', 'getrefund', 'dealspari', 'amigocard', 'ctd', '20aol', 'colorpicker', 'app1', 'cielopremios', 'vinacas', '4bid', 'ysqaux', 'declaration', 'drrhau', 'ukrday', '2fau', 'comcastbiz', 'propertiess', 'ej4', 'acwgrjt6', 'edwstudio', 'olimpotepa', 'draftingtable', 'resume2', 'estaterecipes', 'cetlot', 'bobbysinghwpg', 'cdn', 'tnlogin', '8dcbcd55', 'seter', 'hudebiah', 'googledrives', 'myappleid', 'wpjson', 'globalem', 'ftempurl', 'paypel', 'vmastera', 'ulmicsulfa', 'oors', 'cfnykavrjaglc', 'wpblog', 'cmu1h', 'qrdobtle', 'muscleinjuries', 'ssus', 'uban', 'antoolsupdate', 'hxxp', 'vrolijkemamas', 'sitwithheprop', 'jcrop', 'helppaypal', 'zofelaseo', 'hlbform87sj', 'limite', 'weswe', 'florimat', 'sketch', 'metalgypsum', 'tonline', 'newbetrrsearve', 'netii', 'noscr', 'anagrual', 'impots', 'cut7', '1rg45er2g1wh', 'cyrilunrun', 'danny4eriwa', '5gbfree', 'paypalsupport', 'wroclaw', 'onejade', 'banner', 'hotpopups', 'zoomair', 'sehyokette', 'eaptracker', 'emailupdate', '20form', 'youspeak', 'identification', 'usus', 'mudar', 'ctmhost', 'ensi', 'praxisfestge', 'tussmal', 'eimauth06mail', 'gogdoc', 'stavros', 'servicee', 'hdtpaper', 'flags', 'laugier', 'jsnapshot', 'webscbilling', 'hopto', 'igg', 'phptfile', 'gotmick', 'd3dx9', 'ajewishgift', 'alfalah', 'montazh5', 'eugenhriscu', 'adriandomini', 'youyicio', 'santafeseo', 'emr', '54fc3rc3fr', 'dic8', '14thmile', 'locnav', 'battleev', 'dbswash', 'ose', 'jkh', 'utgbbunbdoa', 'zevenwall', 'altone', 'cert', 'behecletsi', 'top', 'bradesco', 'lpsgrafica', 'somkidservice', 'unab', 'ntamarine', 'masternetsrl', 'ywlogin', 'servicios', 'jjscakery', 'winkel', 'mayrice', 'omniadvert', 'creadit', '3fref', 'updconfs', 'filefolder1', 'iddx', 'wstr', 'ragstwo', 'lizanderin', 'rex', 'click', 'ntsushi', 'dayvan', 'remax1', 'clientes', 'bam', 'beckkituzo', 'socialplugins', 'interact', 'aicps', 'etisalat', 'hfgfvhtr5', 'otelaydinlatma', 'tutta', 'unice', 'rtl', 'moono', 'wp1', 'wuwu', 'hdajaeger', 'amarhost', 'mgtrack', 'travcult', 'rasyonel', 'oxylala', 'ironisthrone', 'bretmrae', 'ogd', 'lazyguy', 'dnkl', 'downloaddra', 'thenailscrew', 'baldwinhistory', 'artmastergroup', 'mallshifu', 'belldesi', 'infoeletro', 'herrimanhigh', 'miger', 'shile', 'tondol', 'rja', 'gosgmart', 'ojek5hl0gr1q', 'web8', 'dekoratiff', 'sslblindado', 'djdopey', 'jpmnews', 'icloudsyncd', 'plookseri', 'secure3y', 'tmalltops', 'buttons', 'host22', 'utjrrbhus', 'gezzinypizza', 'rar', 'godbless', 'whackyvidz', 'jfauto', 'reader', 'spjall', 'item2a1d4eaf72', 'rede', 'jdcc', 'dmoodontologia', 'adbb', 'stulecie', 'z2xjiscpuj', 'clubtaunus', 'bdt', 'qdatarq', 'dingeabyss', 'web4', 'ippartner', 'annakraktour', 'bobbavice', 'activity', '3fsession', 'gravyseals', 'aliduman', 'str84home', 'edsign', 'jonnychangginc', 'cgiid', 'qikdtjrp', 'chaseonline', 'aolupdate', 'amp', 'clujcase', 'indianbusybees', 'techsilicon', 'kqlxtqptsmys', 'rapid', 'malaspronta', 'hyviverrou', 'blook', 'secur', 'securessl810', 'headers', 'byvingenieria', 'webplayproduct', 'itrechtsanwalt', 'counter', 'documentts', 'cortesidesign', 'bonitco', '23youngwear', 'hohyzuxpp', 'pmmarket', 'flexadvert', 'pnc', 'finphotography', '8xz4m', 'braindouble', 'bdc', 'eifsid', 'tisa', 'turk022', 'alaskahort', 'loginus', 'cg1bin', 'sovereignauto', 'processa', 'dzh', '3fpid', '30horas', 'yahoologin', 'suivi', 'import', 'bdb', 'sohamsystems', 'cancerawakens', 'snsc', 'gxufe', 's56xr', 'configuration', 'micropaysearch', 'darlanoliveira', 'bulkreasy', 'sxlcjx', '26passive', 'wmr', 'catalogo', 'grotown', 'wzzz', 'villakeratea', 'usb', 'hinsehatcal', 'minecraft', 'markwestcott', 'utilitie', 'minglian', 'umefashion', 'tourtoon', 'mailclub', 'psyab', 'smartzh140222', 'flexfitent', 'acc', 'vumdaze', '4faslmusic', 'mailid', 'neues', 'evelynmukhebi', 'kardborren', 'ubauto', 'naacllc', 'indexapp', 'grouperbs', 'frenchclicks', 'theladbible', 'ticketyyahoo', 'binerbox', 'campshotcast', 'sallyforsenate', 'eroger', 'smartxy130619', 'olahraga', 'higvuidus', 'paypalca', 'arm', 'aoll', 'kketi', 'cfo', 'hookresearch', 'webaps', 'bosmanautos', '20progress', 'buckeyeexpress', 'wwnh6', 'alpstaxi', 'attenzione', 'ruta89fm', 'securesc', 'gimnasia', 'fgyzx', 'racetrader', 'deek', 'xxwow', 'komisbest', 'zwiala', 'test', 'brzu', 'ncsoft', 'nrdcbosmh', 'ksckw', 'ponggirr', 'mrrubberfinger', 'addproduct', 'gdocmaxi', 'securessl310', 'xmlpcn', 'italius', '20bin', '3bcat', 'zkca0de', 'suburbia', 'klausschuster', 'jsharvie', 'porabaripfm', 'ntasa', 'portadeenrolar', 'pagetemplates', 'mikood', 'zikunoana', 'katherine', 'fkf75fo', 'skyfall', 'simplywinspace', 'colortek', 'business3', 'lages', 'phpnwww', 'ndckart', 'bandbcreuse', 'lda', 'roma', 'boa', 'refundhmrc', 'pspmrsmtumpat', 'fra1', 'btvu', 'bitly', 'realog', 'mbv58gbv', 'paypalbase', 'ddus', 'oru', 'guidoneira', 'scribe', 'aramaclothing', 'adroll', 'sothebyrealty', 'smarturl', 'msnn', 'fspools', 'xw1ju7y6zc', 'oticakadosh', 'envia', 'uniflooreg', 'flynns', 'mreprfivrs', 'spefo', 'asbview', 'attitude', 'usbattlenet', 'cloudfusion', '2fflight', 'protect', 'gobantakao', 'bgexamboard', 'busywithwork', 'unimet', 'theluvsite', 'nr8e7', 'imagecommun', 'wspl', 'bizconsulting', 'daqing', 'networkservce', 'tsbbank', 'debtfreetips', 'ssl', '20executables', 'zzz', 'use', 'blackantking', '20order', 'dondana', 'submitdispatch', 'gduc', 'reboot', 'httpsstarss', 'kkohanidds', 'mametare', 'ssok', 'zanhitroc', 'elbintatto', 'skatescola', 'skybarmedellin', 'alibaba', 'semais', 'exxedu', 'manpower', 'mainer', 'sendspace', 'securecode16', 'kimki', 'xftsknwus', 'webdav', 'kingsize', 'diosastana', 'mood', 'fotografuj', 'ckeditor', 'sfile', 'stdae', 'feed', 'ughec', 'client3', 'wealthmanager', 'tenai', 'paghe', 'dl5', 'milano', 'sessao', 'youm7', 'miraint', 'vote', 'masteradvz', 'sahinlercnc', 'paypalgerman', 'votorantim', 'depot', 'chinaw3', 'sunrise', 'margaritailles', 'paginaid', 'securecode0', 'remaxinciist', 'tosofhegde', 'intads', 'sundereleia', 'poppy', 'mindfocus', 'kingdream', 'cnm', 'postfinance', 'novatekit', '20citgroup', 'gbkajnmus', '3den', '3dwise', 'ksid', 'finecut', 'vjoxjogydw', 'edikok', 'earthtools', 'posrednikchina', 'bbs1', 'securty', 'tok', 'boardlife', 'amzaon', 'xw1zuxz', '3baircraft', 'attachment', 'andboog', 'impiegato', 'drvg', 'manage', 'republika', 'dememoria', 'ethnophonie', 'privat', '7lsypth', 'smiley', 'kids4mo', 'wildhorses', 'loding', 'org81', 'pic', 'billsbootcamps', '3web', 'kiancable', 'matters360', 'imageweb', 'sparkdeal', 'uuid', 'rekrim', 'cookinggenius', 'secure641', 'gruffcrimp', 'cmail20', '20bank', 'serverdomain', 'shit', 'excel2013', 'kirijones', 'mockguru', 'comservice', 'casinoserver', 'ubillboard', 'reset', 'olujan', 'ecomak', 'eor', 'cobaniet', 'notifications', 'idn', 'siscook', 'rebrb45t', 'aaaa', 'noa', 'premiacao', 'antica', 'denar', 'eanyaprokash', 'redon', 'gouvee', 'selfip', '20generator', 'guesswarp', 'colliculus', 'dash', 'ibluegreen', 'identificacao', 'visaitalia', 'lg3p7', 'fosforlumarket', '654wfdr64aw', 'securecode29', 'isnc', '7h8gbiuomp', 'zolotoidomen', 'gioilda', 'crogent', 'kaccoc', 'sweetenglish', 'hmrr', 'comus', 'postinfo', 'theperfectpig', 'trustpass', 'torino', 'imgg', 'ided6aee8d43', 'inform', 'webstarts', 'lidoracer', 'newsolar', 'servicenet', 'carry', 'n79lv', 'wadministrator', 'radioconcordia', 'scappini', 'yahoo2014', 'kkus', 'indexsite', 'dro', 'ifilportal', 'qeqabjutgp', 'acirc', 'wellsa', 'qers', 'cframe', 'errortype', 'ttmaiil', 'rover', 'shery4e', 'dop', 'jazzrostlouis', 'mai', 'lambat', 'requetesmysql', 'jorgemoura', 'foundhere', 'gnqczx', 'himself', 'snklo', '41yqe', 'aolaccounts', 'passo', 'alfajerdecor', 'peoplemedia', 'danti', 'jxh2', 'asatechmanaus', 'securecode17', 'yxmagrdetpr', 'einloggen', 'santandernovo', 'vps', '78hceef', 'angelsantiques', 'osabd', 'rctrading', 'httpss', 'loginrun', 'nav', 'xpath', 'gurpuritv', 'backyard004', 'bdfxb', 'cblogin', 'rem', 'azurewebsites', 'dropboxbox', 'kjnbhgh57', 'api', 'madagaskar', 'picscore', 'cent', 'sonreir', 'tapasplus', 'utsavi', 'revalidate', 'comcgi', 'jscalendar1', 'smilies', 'loggs', 'grupoamxrj', 'explosao', 'csheaven', 'pspgemencheh', 'pluns', '0fees', 'bobo', 'cmfr', 'compose', 'cbfrped', 'standprincipal', 'gwxxfxfjfymyra', 'voce', 'document3930', '7ygvtyvb7niim', 'googlefile', 'netaugusta', 'hawkstrut', 'ghf56sgu', 'ccgastro', 'secured3', 'pikirykopydppa', 'shshide', 'hynnb', 'done', 'poterti', 'sopranolady7', 'timezone1', 'gre4h', 'alphastand', 'srf', 'luckyday', 'newmail', 'mvpweekly', 'chatbyorkut11', 'extend', 'inst1', 'forestnice', 'yaoyuan', 'indexs', 'careerplaza', '252fwww', 'httpwww', 'lrbj', 'pago', 'colortekart', 'uysam', 'googledocument', 'spero', 'nowon', 'rodrigueweb', 'cantiere', 'jdlyj', 'wwws3', 'clcatv', 'proc1essing', 'ebite', 'gmailweb', 'cdjwc', 'hires', 'pgh0bww', 'dpath', 'bbhmm', 'suppose', 'gcrc', '3dn', 'bsnlhousing', 'flowershop22', 'tsahs', '26click', 'site44', 'docmitto', 'maotata', 'secure4x', 'rsjspiqaiptw', 'fbx', 'billingcenter', 'avada', 'cg3dstudio', 'utente', 'pagonidis', 'xjbctcky', 'nass', 'necessary', 'mond', 'econopaginas', 'rchdmtnez', 'sc4', 'dateaqui', 'zxcgzx', 'ishvkjz9zmps', 'orary', 'geodispo', 'leduo80', 'migre', 'onlineaccount', 'hold', 'win7', 'phuninh', 'dialogue', 'cvc', 'lk1', 'uzmandoktorum', 'titolari', 'papa', 'bappeda', 'coolhosting', 'accts', 'dw7g3', 'koorieyouth', 'allrides', 'pa2', 'oluwasemilore', 'aboeon', 'r0r', 'step2', 'ekriswebshop', 'hol', 'sphinxservices', 'technique', 'animalia', 'tftpd', 'abwwngsovislmi', 'redheberg', 'formidable', 'newphase', 'mensal', 'logaccess', 'resize', 'goform', 'myvodafone', 'reason', 'cfg', 'jeffreymunns', 'pdffile', 'resized', 'yeah', 'uslogincgi', 'globalcleaning', 'gor', 'techcdn', 'easysecure', 'jkytfhb7', 'sqlite', 'builtbytheboys', '20nettbetaling', 'yw9uu4hupe', 'ilhaturismo', 'wffms', 'secretary', 'monaide', 'smp', 'procacci', 'dimirak', 'sacure', 'gebetech', 'melipicks', 'gva', '20lunar', 'mywrigleyville', 'yzlogin', 'rxzjocnus', 'beingnet', 'jazbobsled', '26ljt', 'dostanes', 'administrar', 'facevena', 'signinpage', 'returnurl', 'ppok', 'intitle', 'etag', 'zdl', 'siloovoox', 'chatas', 'wpconf', 'ubh', 'oatloyd', 'secure', 'mlmfiles', 'paybalanceto', 'morisvisual', 'leoingegneria', 'opjv', 'timeshare', 'santos', 'hzlo', 'umail', 'ultramed', 'recargas', 'emp', 'suit', 'koluser', 'ajlmxkjsvxsof', 'captcha', '0pendns', 'pmdona', 'xmlpc', 'nolagroup', 'butfipeke', 'nabsecure', 'bestali', 'biling', 'rurl', 'authenticate', 'efrem', 'treegoosenykst', 'rjjnnfrgg88', 'misrjobs', 'lajaniquerafm', 'lanen', 'littlewoods', 'socs', 'autoupgrade', 'add', 'mundomatero', 'zkszuoqus', 'accountreview', 'jojoba', 'oboyle', 'netclip', 'anonyweb', 'ecb', 'cctrubiak', 'veting', 'bitdefendor', 'alloratour', 'hwtechservices', 'roxsuite', 'enquiryfeeds67', 'teapartyrevolt', 'radiocoquimbo', 'mygreenstone', 'hhus', 'dbfile', 'alvtdlkus', 'ubibanca', 'logins', 'cnf', 'cookiecheck', 'jpvote', 'jterps', 'etap1', 'ysgtiwuamp', 'controller', 'netvigator', 'components', 'acmlo2', 'mypcneedhelp', '8hfkmgl', 'koryo', 'udesign', 'aimshospital', '26aziendaid', 'pptp', 'pear', 'xxxx', 'lettuceduit', 'ssl1', 'eminfoway', 'vat', 'workcapacities', 'chave', 'selezionata', 'marcusmiller', 'oncforums', 'relaystate', 'airzone', 'netsonline', 'activation', 'spmoto', 'auctionkorea', 'atendimento', 'stary', 'gob', 'rubialage', 'secure9j', 'kuncorporation', 'bethanyhouse', 'gridserver', 'o2shop', 'lut', 'cbactive', 'rafaelpompeo', 'ilan', 'admin', 'bankstorage', 'rfr4g4fr', 'snr', 'chameleon', 'homecustomer', 'grow', 'realtytrac', 'w3tuan', 'videomotions', 'wpscripts', '3dgiantrealm', 'loginservice', 'tqvavewus', 'anbtr', 'ascimento', 'vf3gt4b4', 'carsfor1500', 'popupbarbados', '20visa', 'fo4j4wnq51hepa', 'lalcointeriors', 'proxad', 'muk21', 'throw', 'denvertracy', 'wucomweb', 'reculdgareb', 'legendshow', 'storyonboard', 'battle', 'guhrpaean', 'noosnegah', 'pollsbee', 'stylegrounds', 'ftw', 'gbweb', 'ieslamerced', 'xstsa3', 'nordea', 'homaji', 'hecalrighco', 'bintangjb', 'gucci2014', 'system', 'divinehost360', 'duniaflowmeter', 'bikeceuta', 'abogadosmur', 'customerid', 'kolex', 'yourga', 'hohyzuketexppp', 'piwigotest', 'fc2', 'infostudenti', 'kfj', 'agenziadini', 'ahatv', 'adnxs', 'aolcom', 'vehisdidnsu', 'bjbwzx', 'khawajasons', 'careerdraw', '87b3ff3rc', 'fantast', 'amzon', 'subtypes', 'tbbddrbnqn', 'chalutz', 'soften', 'properties', 'fcafrica', 'edit', 'gtb', 'claywrites', '20billing', 'abufarha', 'ferresur', 'sseu', 'bradesco24hrs', 'mervereklam', 'rahayuchemical', 'mobileing', 'au2f', 'bankaustria', 'mmanager', 'ate5', 'cadastro5', 'updated', 'tripstoasia', 'ghsnls', 'application', 'abcbureautique', 'tapisrouge', 'jsglobal', 'webapps', 'kkrs', 'yugtur', 'serjoven', 'mesologos', 'njyylbwsignz', 'htmldirselect', 'usc1', 'novl', 'wasnoenhes', 'nvcn', 'interlinea', 'pappatango', 'lorrikulberg', 'acctupdate', 'udfkorp', 'pijepkm', 'parcel', 'ppthtml', 'mtrue', '43ftybb8', 'dwmargo', 'documentos', 'chandelshops', 'myposte', 'form1', 'exikots', 'bobbyfritz', 'nightzax', 'noor', 'itemweb', 'uwt', 'paptrack', 'gvkkx', 'vpid', 'asap', 'netne', 'ajuijm2', 'verapdpf', 'username', 'inneapoli', 'esrc', 'njlhpslc', 'playatsapp', 'nome', 'bradescoseguro', 'onlin', 'egmp', 'danartri', 'asb', 'findtofind', 'jbrktqnxklmuf', 'hxbvgunernmw', 'swilo12', 'besdez', 'layouts', 'axill', 'wrapper', 'contador', 'yoa9a8k6', 'secc', 'oembed', 'mattel', 'diemsolutions', 'popularenlinea', 'assure', 'googleapps', 'abcdespanol', 'ainput', 'eai', 'ppus', 'jbmsystem', 'akfjsh', 'wpincludes', 'wplogin', 'dllsigninru', 'uqpzemuus', 'bombasrivas', 'claas', 'm2u', 'wpthemes', 'hello2', 'valanoice', 'secure6d', 'renew', 'knviq', '4ove', 'radmaxweb', 'inforxlweb', 'ooeqbhietq', 'alert', 'dropboxphonev', 'plotsnhouses', 'copperkingdom', 'bankline', 'uoxi', 'spiritinspired', 'linkbadger', 'usunited', 'euroscatola', 'squidhob', 'volksbanken', 'autolink', 'websr', '2bconstruction', 'mediaplayer', 'autodomain', 'shchelkunov', 'sladetahil', 'xlwebs', 'ourocard', 'newsecure', 'aspxfrru3inbox', 'muralove', 'unlockfile', 'usg', 'dex', 'facturation', 'lmpots', 'mycombin', 'quienreserva', 'kourylopes', 'inetlogon', 'slimwriter', 'ezenjoy', 'surestni', 'andsoresto', 'ulewicky', 'googleneww', 'shareddocument', 'dosecerta', 'myhomemusic', 'l9k7hg4', 'aed', 'index1', 'ildo', 'success', 'medicangka', 'truecrypt', 'horizonhost', 'hegwilhowhes', 'comprapremiada', 'alak', 'inst2', 'plugin', 'xa6', 'footer', 'shifaki', 'index3908', 'totalfitness', 'afhaalbewijs', 'onlinlogin', 'endrue', 'deew', '4infreg', 'updating', 'goon', 'phx3', 'bofa', 'drpbox2016', 'dazzer', '3fcb', 'pgemergency', 'afecto', 'kghugheslaw', 'tewl', '2fcandidatura', 'criminalreport', 'akok', 'fegach', 'ogkkk2oh', 'callmr', 'voegol', 'bjart999', 'razonel', 'ralrab', 'posten5', 'theotherangle', 'kj7frxi24a', 'aboutabacus', 'guesstrade', 'suamaykhau', 'errors2', 'defaultdesign', 'gadget24', 'yoto', 'websiteid', 'santapreguica', 'docnew', 'empireaero', 'janwallner', 'promosbr', 'bin1', 'googledocs1', 'mprmoldes', 'craftycarlos', 'hotelberna', 'j8fn3rg3', 'thankyou', 'cygnatech', 'userfiles', 'purebusi', 'gmial', 'sgishipping', 'sunflowerjoias', 'locked', 'steamcomnunity', 'formslogin', 'url', 'securecode6', 'oualili', 'anjans', 'aww5', 'sipocodukyrpps', 'nibgq9kk', 'espaceclient', 'masteredit', 'mesutcakir', 'dzjhg', 'stain', 'cloudagency', 'hfcqervykr', 'fnd', 'firefoxpatch', 'pidfzykp', 'peisaho', 'ayo', 'perrydale', 'raidfinderpro', 'authentiy', 'dboxn', 'ftpandina', 'plupload', 'we11point', 'sdsaibo', 'bun', 's1w', 'assurence', 'kayo', 'schcfc', 'expolatina', 'truesma', 'pccr', 'scansafe', 'dwcell', 'infoemail', 'googledoc2', '1u72oid', 'redirect1', 'cforms', 'lma', 'creditmaster', 'control3', 'impot', 'hjghjb54', 'movewithgrace', 'ares13', 'html5', 'fatura', 'mythem', 'acesso', 'cyla', 'srl', 'prestashop', 'voyagerbydg', 'tradekeyhtml', 'koutokukan', 'newmailenusv2', '2fou', 'jcsykes', 'secure370', 'mcacanal', 'ixh', 'uwiq175', 'londonprive', 'supportdevices', 'intseti', '2bclientes', 'banthaoduoc', 'gomextech', 'potolokprofit', 'activexsearch', 'kihon', 'csss', 'cameo', 'kacgwe', 'newtrackcabs', 'faee8d7283e', 'winrar', 'weter', 'ledenergythai', 'bns', 'pilsfree', 'xtarhely', 'vanhoenacker', 'plannersa', 'mukarano77', 'suntitle', 'taldasinor', 'app20yearsx', 'fdw', 'kevo', '40bin', 'header', 'dedivan', 'joelblock', 'helloguysqq', '2fveganvet', 'dbma', 'plstrade', 'germaineng', 'xgsm', 'hotelneelgiri', 'securessl150', 'kidney', 'sliva', 'krovatka', 'newpayment', 'frloginsecure', 'interqualitas', 'kronpaks', 'logonform', 'adss30', 'eldamennska', 'sotertrob', '12hjduldk', '2fib', 'masterpro', '0asubmit', 'arm5n', 'genericons', 'webmailers', 'faewhhe', '2fgiantrealm', 'draaksteken', 'urachart', 'ajpwxtywqgv', 'machizo', 'woolworths', 'comlu', 'pbinteriors', 'sulacunle', 'lionhub', 'j5q4b', 'pareshpatil', 'azienda', 'obligation', 'mywww', 'ytqeycxnbpuygc', 'sjones', 'critica', 'xsspremus', 'forzaitalia', 'server', 'bbpress', 'revolverads', 'delphinph', 'mnm', 'orgfree', 'iranviajes', 'dqyxs', 'cloudrepublic', 'itit', 'xiaomo', 'form87sj', 'eses', 'onlinepayment', 'serveblog', 'whosonline', 'hanhaiclean', 'urlreview', 'busbexmeob', '7adharat', 'egenerator', 'cisaqroup', 'otzyvy', 'domalerte', 'saigonvisa24h', 'sign', 'nordicspice', 'infonetee', '2fdefault', 'novo', 'xlrmp', 'autosurfxxx', 'paypalinfo', 'validate23442', 'oluwa', 'serveftp', 'thisisitsqq', '3k2sxeit26', 'technote7', 'tezio', 'lackadaisical', 'easyscripts', 'ouledkenitra', '0ref', 'depotzen', 'ls4', 'homespottersf', 'conasida', 'easily', 'frutiboni', 'wackeretm', '20trust', 'landtitlesouth', 'tarhobana', 'bofaaa', 'airwave', 'jasmin', 'webindex', 'cdmcars', '4000simin', 'nato', 'djmalaria', 'ns13wistee', 'bankofameri', 'department', 'genymears', 'spectaris', 'johntofhalo', 'focolareostuni', 'hfxpbk', 'ucsenam', 'jundajx', 'vaidicastro', 'micaintherough', 'nicosysmdp', 'adxcore', 'smokesonstate', 'buzurl', 'dxml', 'renrenpc', 'ate3', 'aguarde', 'myresult', 'virtuemart', 'mbukusxowb', 'cvrv', 'bhadwf', 'aiononline', '20tangerine', 'securecard', 'kleph', 'tophost', 'aaaaaa', 'gps', 'rbody320', 'neostrada', 'sintracoopgo', 'iarelative', 'bmtlzkhus', 'wcspng', 'fineprintshop', 'jhsolar', 'serviceupdate', 'taemaplly', 'ndye', 'lafirmalegal', 'negafaparis', 'iigo', 'ndk', 'cscomcharity', 'absa', 'schotland', 'cdqzyc', 'secure550', 'weds12', 'jdj9n3dvb14l0', 'broncvita', 'gsvot2', 'heonybaby', '13vqcr8bp0gud', 'consegg', 'updatepaypal', '20update', 'vidyabalbhawan', 'unitys3d', 'curp', 'appfacabook', 'xyzs', 'qwestoffice', 'vooxoxo', 'wolebeckley', 'staffsolut', 'xxhxsqbus', 'nbproject', 'swconcepts', 'bestbuylocal', 'topic11', 'rhemagh', 'xumrcsxgwmd', 'vidanapraia', 'impregui', 'netease', 'qoritravelperu', 'l7voglg', 'exposervices', 'sinead', 'autogmail', 'snn6sy28ew', 'accordiansrc', 'virefication', 'hookads', 'topemarketing', 'webobjects', 'gruppobiesse', 'acces', 'promocaocielo', 'cdpm5tab2p8q5', '2febayisapi', 'wbwoliqcrk', 'lucasbelkind', 'screename', 'bugs3', 'conejo3', 'reportage', 'bkcs2', 'momotara', '21eligne', 'ldr', 'zulftmedhre', 'fai', 'wattech', '26login', 'aronnaibaho', 'sess', 'aqs', 'agrogps', 'paypalschutz', 'init', 'gracco', 'hj6bhghv', 'soulism', 'dzxfzyxnt', 'holghtbus', 'b0x', 'gdocsecure', 'birdrocklab', 'blob1', 'gsdwwk', 'ovg', 'battlle', 'trackpriceplus', 'tscbearings', 'web20', 'sichenia', 'secure8t', 'tela', 'faturazero', 'techniicall', 'eubliizzard', 'hohyzutexppw', 'cipxwbwus', 'fpos', '3fsize', 'whatwhowhat', 'cartaoamigo', 'ganeshpolymers', 'onlinesession', 'zepmusic', 'pdl', 'luquanlvshi', 'hgmedical', 'epm', 'logs', '26loc', 'pttkbi', 'orderingchecks', 'aql', 'adviceintl', 'jp0zuso', 'mpwab', 'theteesbar', 'filemanager', 'stam', 'd11m2p9mpffp32', 'freshwork', 'longshort', 'sslsecure', 'iiweb', 'mjmzmzmzwz', 'spsfurnitura', 'reconfirm', 'automac', 'todobulla', 'lkfashions', 'cameramartusa', 'servicesecured', 'rishihospital', 'inmuebles', 'paulchehade', 'summerr554fox', 'wgcyradio', 'smaltochimica', 'smelltheglove', 'yqr8i', 'jndszs', 'srhralliance', '3dbtf', 'cafm', 'ubdet', 'blumail', 'icloudm', 'hongleong', 'pchomeshop', 'isx', 'vipreclod', 'imcreator', 'hayber', 'ritsoperrol', 'anparoi', 'cek', 'rhcloud', 'nifs', 'perso', 'ebayisapi', 'haggyowser', 'blacked', 'abris', 'hsg', 'maumeevp', 'burstnet', 'envialosimple', 'guiadelcine', 'sunburstmedia', 'dimensionnail', 'sig2', 'gooo', 'windows1252', 'natohq', 'wapka', 'cxqr03', '253dhttp', 'padudopacyjpps', '3aenusmt', 'serviciosbys', 'plsprint', 'atspace', 'exc', 'paypalsecurity', 'atilde', 'mpsl', '2fdelivery', '1tempurl', 'cqpszx', 'randinboxlight', 'megaciel', 'galeri', 'hertrindidnted', 'wahler', 'yzolr7', 'selindia', 'lessirandanes', 'cmsmart', 'appid', 'eacc', 'ydss', 'lightpack', 'cyberoxen', 'reglogin', 'realtyna', 'uk3', 'din', 'motorati', 'schadflorist', 'hta', 'processing100', '0cdeqfjaa', 'updateto0', 'pertclinic', 'oscarcruz', 'webappsecurity', 'forumsrs', 'thephoneguy', 'tmc', 'clientid', 'cdi', 'lob', 'jeffreynson', 'indexfiles', 'vayuenergy', 'choix2vie', 'paypalmember', 'garyspeed', 'dettagli', 'miroyill', 'brockin', 'wudiai', 'bloggerconnect', 'goodlandparks', 'bigwerks', 'signinco', 'milangardeninn', 'labe', 'b2bcollectiv', 'agricole', 'e5i92jeyui', 'homey', 'airzer', 'indexahorro', 'nguyentatdat', 'egxjtbh', 'l5oooi5', 'lvnexis', 'benz', 'cruzrojabuga', 'cpanel', 'server1', 'blackdildo', 'npkogneprom', 'quiksecurities', 'bgl', 'limit', 'loxwvious', '365aiwu', 'sudosev', 'shrisaisales', 'postbyemail', 'nanrangy', 'tohmon', 'nabau', 'nbyixing', 'wbscrcmd', 'oladi', 'regionslogin', 'seguro', 'cdilogin', 'sqakcz7xlpcdgz', 'cci', 'marinlogistica', 'exemail', 'nadelaur', 'shdc', 'pinandwin', 'abnamro', 'vilastefania', 'akvadrive', 'thirlnak', 'installer', 'sendparam', 'dropbox4', 'systecagripack', 'goonow', 'netcubeinter', 'anitagd', 'xvcntrlde', 'passo3', 'par', 'oh081zmdg', 'geshi', 'pausephone', 'voisinsa', 'lloyds', 'bino', 'tsp', 'khepri', 'comhelp', 'edypkogbhlgj', 'txellwebs', 'qqweb', 'hiramteran', 'fob', 'tylerco', 'achakeybase', 'qdlpx02col', '3vkh8fcv', 'pbb', 'thegingod', 'dolphinom', 'pulihostel', 'yoyo', 'shortner', 'hook', 'fyqtguo', 'leela', 'udecodocs', 'tjprofile', '2014gdocs', 'feeder', 'indes', 'hkanson', 'levartnetcom', '2fbmtlzkhus', 'walcz', 'ugpvs', 'moole', 'edarood', '20copy', 'onlineupdate', 'armasauna', 'xcqdlhtus', 'sovetnikmsk', 'passerror', 'updateaccount', 'fileserver', 'surfacechicago', 'giatielements', 'firstbank', 'rototdibi', 'abwasser', 'understand', 'jui', 'logine', '3ainstrument', 'carefms', 'onlineshop', 'fgnuisrsjooqw', 'vodasecurity', 'janter', 'chromeupdate', 'vangog', 'swfzeveus', 'suroot', 'sumofmind', 'elegance', 'iwswtkibjbsrqj', 'drukarnie24', 'kola', 'doss', 'spypet', 'caemail', 'mobunydafppw', 'mbs', 'securecode13', '2fademea', 'viewatrans', 'mobilenewscwp', 'juleswham', 'trgs77dfjf', 'nisonspecial', 'id4e6xcs', 'viewacase', 'zencart', 'edocsign', 'gopostcards', 'scan', 'stdc', 'enter', 'mody', 'intrabmw', 'yuzurufan', 'dashingleather', 'lojadocasal', 'mybsn', 'careercruise', 'ymail', 'cielopromo', 'appsmobile', 'ossiatzki', 'dingret', 'camboni', 'adm', 'sbmt', 'o2chair', '34frgegrg', '05gwngqn', 'wordfence', 'cbibsweb', 'serviceaccount', 'casberris', 'bariskaraduman', 'merthyrboy', 'iurd', 'bbpdx', 'novosite', 'dfsy', 'luzetowegopd', 'mpsspkmm', 'nwolb', 'slaterarts', 'verifecation', 'checkout', 'comatina', 'dongphuccaocap', 'bounceme', 'enc', 'magnitudeindia', 'woocommerce', 'olu', 'inumidun', 'manifests', 'statistiche', 'jdhm4mhfys', 'user', 'sereinem', 'updatekonto', 'town11', 'asdpublicidade', 'davemenkehorst', 'tusudygonipsds', 'sigurensait', 'sdr01', 'influence', 'fullpagecpm', 'eaglecorp', 'homeaway', 'bih', 'protected', 'schmerkel', '23cctv', 'songxiabattery', 'irkutsk', 'mihisparrin', 'steam', 'httpdocs', 'investment', 'thwonline13148', 'datix', 'luminousweb', 'mutkeejuh', 'gkjfd874jld', 'prijava', 'reductiobncoup', 'yaho', 'allinhosting', 'client', 'underwater', 'neuf', 'paka', '32gycls8', 'media', 'luisarts', '26blockedurl', 'gmx', 'loginin', 'tiny', 'lskauto', 'donnermemorial', 'jpic', 'cidaauto', 'uurs', 'rcf', 'paypalfr', '20informations', 'aff', 'showsecretary', 'chipdd2', 'peaumontreal', 'extremreklam', 'pageamerge', 'prview', 'abd', 'opportunity', 'bitslook', 'equipamentosac', 'capitalone360', 'tomatopota', 'rhodemlogic', 'shake', 'zoneid', 'beaniary', 'passo1', 'mx1', '2526redirect', '0ahttp', 'micaraland', '007sites', 'chcfi', '7raka', 'sey54ui', 'sytes', 'tinymce', 'costor', 'verifedbyvisa', 'cgc2', 'mutorcs', 'maxtherm', 'samlrequest', 'sglaqfdoppe', 'sumbitconfirm', 'brandmasters', 'cba', 'bget', 'neo', 'webguru', 'objectjs', 'ogzkzlvlnmjk', 'myebay', 'jawssport', 'edge', '1drivestmp', 'cgidate', '60webt', 'adobi', 'basecamp', 'morganselec', 'afghancuisine', 'cloudsfm', 'reckless', 'ninthclub', 'hathor', 'reloge', 'interii', 'paypalonline', 'icyte', 'exinoman', 'jeanmarcel', 'obj', 'oyd2s', 'cafe24', '4knhj3d', 's7xide', '2flogin', 'drewolea', 'realbusiness', 'mobilguzellik', 'signinig', 'hhwow', 'fishstalk', '20site', '2fxcqdlhtus', 'remax', 'highslide', 'thettolethat', 'stata', 'salamasisters', 'dlo', 'rename', 'cadastro3', 'konto', 'poznan', 'vacationpromos', 'tinyurl', 'usconfirme', 'securessl100', 'arangnarang', 'bettlle', '26ifr', 'olb', 'cigbin', 'onlinepurohit', 'runeenhotel', '3battredirects', 'indexnew', 'rocketluncher', 'southlife', 'st2', 'peritkarch', 'edcntrlde', 'mpro', 'cencocal', 'highcontrast', 'konflikt', 'yggithuq', 'armsexpo', 'fabrimaq', 'checkupdate', 'hitsem', 'comd', 'webkey', 'gtex', 'indexaol', 'idwcadcam', 'gpsoft', 'formchamp', 'bezdeals', 'bluewaterappco', 'firefly2', 'babyroom63', 'whiterocklake', 'index5cjibin', 'shristihousing', 'bvz99', 'reff', 'uygulamaornek', 'onaparti', 'comyr', 'xgonwbbn', 'ainet', 'cieloepremios', 'nxadndrcsq', 'securecode5', 'fdgfd', 'interkidscamps', 'postbdox', '7nndognh', 'dat', 'nrkvwucxxqgbi', 'institex', 'bex', 'bettlenet', 'greenk', 'confirmacao', 'mpolvora', 'prop', 'ntdll', 'centuryidc', 'minimalisto', 'sansaiaarias', 'mapx', 'dgservice', 'oleossaldivar', 'logindoc', 'fexton', 'cheditor4', 'peranguroping', 'mod', 'laribalta', 'updatepayment', 'singaporeflyer', 'winfo', 'lugaojian', 'sdu', 'ronwiruligh', 'piklamp', 'recom', 'spc', 'idp', 'websecurecom', 'todsanhuu', 'joekristo', 'papal', 'centro', 'djfm', 'moncompte', 'comd3', 'zzb', 'cradule', 'kevinholy', 'mavlad', 'wpwithus', 'mickis', 'popvideoskype', 'suspend', 'biw', 'invest', 'patronatohgp', 'schellemberg', 'multiplus', 'password', 'cad', 'serverphp', 'hncxin', 'accesso', 'tripex', '50webs', 'ajempi', 'ljuytakus', 'artecapital', '20account', 'wpadmin', 'office365', '2fus', 'dealsbro', 'rtdesigns', 'revendabelcorp', 'kkimac', 'taxtirsranz', 'offroadhandel', '3owl', 'db6', 'adobe', 'wwww1', 'allendesign', 'oei', '2fads12', 'seriport', 'doom', 'webservice', 'tracking', 'goodluckwith', 'wcicgi', 'itaubankline', 'asplous', 'zipp', 'ddwow', 'toomusik', 'xegeui', 'enuk', 'kayabest', 'pagamento', 'probudise', 'joxk0idd', 'hikonebpp', '3fid', 'momtrack', 'w3tc', 'strbin', 'adodb', 'herokuapp', 'hotmail', 'ogzkcsvlnmcsk', 'fiducia', 'vjyslonlp', 'hcriopvnkljrt', 'klincz', 'dtsonline', 'resgate', 'junieonline', 'excec', 'europegreen', 'controllers', 'buddwriter', 'arefriar', 'fud', 'gcsofusa', 'kunena', 'xxx', 'pxbycuqakasw', 'bin', '20usaa', 'pipi', 'ircfm', '3buf', 'aggelona', 'runallway', 'ebizsavvy', 'ss1', 'shotiri', 'wpx', 'googledocss', 'tweakbit', 'amovale', 'redopus', 'oliviplankssc', 'gibelcredo', 'cmdhomecountry', 'frontend', 'werix', 'jada', 'hitecha', 'mastercard', 'rpsnv', 'gbodo', 'tjgit', 'simontveit', 'bizgenie', 'lxp', 'emeka', 'canvas', 'gmai', 'sistine', 'brtjt', 'aploxd2', 'newgdoc', 'ecotecbiotics', 'greenbrookrec', 'sudomokojiqpps', 'facture1', 'enemy', 'sxrxrz', 'ngaurhoth', 'allaccounts', 'valid', 'bsfdlcpus', 'giuclfq', 'yqdi', 'iamlouder', 'hometech', 'alumix', 'error', '3fcid', 'adminshell', 'stbcomputer', 'hwebmail', 'megastrana', 'popularswat', 'sito', 'confirmed', 'crm', 'splchina', 'sats011', 'bpweb', 'sapfix', 'barclays', 'monday', 'bnet', 'astagency', 'bilchbenzo', 'globals', 'suporter', 'youraccount', 'rafidecor', 'sarkanykard', '104financial', 'mycampusjuice', 'smail', 'dhl2016try', 'paypalservice', 'sumbit15', 'phpdoc', 'superweb', 'sampledata', 'baselife', 'fileindex', 'vodafone', 'novidades', 'entretecno', 'babysale', 'moroem', 'swimpalla', 'guguhah', 'zeimela', 'gtmaustralia', 'otheruserid', 'restore', 'vbvyuewvklknya', 'lumino', 'wilnetonline', 'aliexpress', 'firepubs', 'llus', '1imkfsu', 'doaction', '87hcnrewe', 'defreeze', 'unitdriveway', '98ynhce', 'ucerteknik', 'fffff', 'santaoblea', 'vimvivenci', 'dav', 'theglasshouse', '2526ndplr', 'bankdirect', 'undefined', 'apiexe', 'swfupload', 'webhp', 'kadi', 'refgouv', 'length', 'godgathering', 'diamondsd', 'flv', 'kreport', 'mainmenu', 'oskabilgisayar', 'fpf8ftj', 'jooble', 'loginform', 'encoding', 'np642indonesia', 'troop209', 'japh6', 'sfr', 'cafeask', 'beestore', 'voila', 'tzatocam', 'zee', 'lecopahyxppw', 'sendgrid', 'sexo', 'mercylog', 'aminaldistri', 'wienu', 'apolosolar', 'homebru', 'vts', 'fotofuntastic', 'updata', '3datf', 'newsyahoobuy', 'cruzroja', 'krm', 'ipaddr', 'mips', 'vbsi', 'mister', 'infosperso', 'comli', '26egrave', 'xjmukang', 'bkmark', 'ceudemaria', 'rrus', 'womoredaning', 'webhost911', 'noithatchauau', 'kvalitne', 'geomat', 'ugfsfed', 'imagee', 'critsend', 'sasmgs', 'shpaihua', 'sh4', 'galerie', 'activelevel', 'd76bf2fd83f', 'memberservice', 'agg', 'srtro', 'unany', 'ayoub', 'googledriveo', 'wstijo', 'keshmanwire', 'rechnungonline', 'amsterdamrent', 'xyvrmzdus', 'saridity', 'postosp400', 'fly2sky', 'yahao', 'callusmiller', 'e4sy', 'hohyzuketexppa', 'patriotcollege', 'asbestos', 'ias3', 'phpsection', 'netwownet', '1drv', 'bb9e', 'wzxhdvkus', 'joefel', 'wppass', 'ricardoeletro', 'prosistech', 'dlink', 'yahooo', 'mirai', 'site11', 'inicio', 'bnote', 'rickrecht', 'topform', 'centurylink', 'bookmark', 'aardbogen', 'ralhsl', 'bankofamerica', 'luzetowegodppp', 'ww3', 'tierastyle', 'bf7n', 'indianmusicmug', 'hepc', 'kopru', 'omaty', 'ebanking', 'azs', 'proizvod', 'loveth', 'jnjk', 'cntsiam', 'pindex', 'renatawd', 'mediaelement', 'bielpak', 'g3r7ewc', 'productuserid', 'cielo2012', 'elegantanna', 'bstr', 'lederair', 'goadultgame', 'ninedotlabs', 'vexerrais', 'docc', 'karacanalbum', '09y7gnninj', 'xnp1ai', 'hjy93jnbasdas', 'confibb6ca6ed', 'thcsgoxoai', 'kandycrew', 'tdispatch5885', 'fafunda', 'ballyfourm', 'jpg', 'ferrumpictures', 'wellslink', 'loads', 'tangoshow', 'inbox', 'jccinstitute', 'updatebase', '21twysqajq', 'smistamento', 'giordanovega', 'esxcc', 'juncheng', 'ogekk2oh', 'lhhme', 'iblogin', 'ddfoto', 'reauth', '9iradio', 'outlookmailo', 'redirection', 'facture', 'dthjkfgdh5cfc', 'iaz', 'dropmail2016', 'shmecjemipro', 'enligne', 'bless', 'romwellia', 'dropfile', 'iton', 'pack', 'ufqeatci', 'hostgator', 'karinarohde', '1fichier', 'quicksetup', 'webnet', 'foryourhome', 'lobs', 'quotation', '87yfhc', 'iogin', 'aspr', 'netai', 'smbt', 'massounia', 'adgrafic', 'infocapture', 'eee', 'crystal', 'awest', 'ihup', 'thanonline', 'stylecode', 'datafile', 'swtor', 'iccblr', 'please', 'roselyncoaches', 'cgisys', 'wh64xsb', 'filesueyy', 'really2', 'cache', 'dm4', 'websclogin', 'studiorif', 'ykcmeals', '2fg2g', 'rhb', 'knaldempkoskie', '20auto', 'customer', 'frostud', 'websc', 'ezoneclick', 'loki', 'axwebsite', 'bonnietijerina', '20mail', 'dll', 'xinxingyuan', 'conferma', 'vip', 'musguhefty', 'antalyaselale', 'humdrhper', 'securessl140', 'yinput', 'secureserver', 'surfandearned', '02tablet', 'fre', 'souces', 'gove', 'fotaisa', 'iowasaferoutes', 'asknaija', 'generate', 'adygeya', 'emdhi', 'lov', 'papyal', 'bypetra', 'rioual', 'azkloid', 'school497', 'login2', 'themes', 'plongeearlon', 'fpr', 'qfkw', 'hcorganize', 'omgmeow', 'offenceappeal', 'zxy', 'boschenmasonry', 'likeyouwishes', 'shaxyl', 'reputationwize', 'groupecedar', 'ggg', 'containermx', 'vinitaly', 'kundencenter', 'actioninterior', 'teapartyebooks', 'codemirror', 'ssl2', 'lfc', 'distribuzione', 'sirechina', 'gengokk', 'aolmailservice', 'ibs', 'laibancag', 'diff', 'xcel', 'nts', '300tomoli', 'curtiravida', 'numt', 'seccure', 'copyrights', 'tesa', 'sdfddvs', 'ecreatify', 'pessoa', 'jqhj', 'amthanhmienbac', 'update2', 'documentj', 'dsqd56d5e8d25s', 'zbzhongbo', '20submit', 'yglogin', 'visitorinfo', 'marinephotos', 'malikahealing', 'audioworkshop', 'login submit', 'venemaho', 'maplerivertoys', 'portfolios', 'kumpmeier', 'zdvmmvy', 'tvernedra', 'respaldo', 'ilink', 'skvs', 'naught', 'b2w', 'dm6', 'jscolor', 'duotthenaning', 'torraovivo', 'ota', 'pmlojistik', 'eklemek', 'sgcupids', 'zylights', 'kio', 'dropbox2017', 'halifaxonline', 'tigesedgu', 'showdocu', 'ladymusic', 'phpform', 'midtoken', 'bzchaoyi', '3duserquery', 'inxy', 'yhlogin', 'crashtide', 'docx', 'zzjwhz', 'adobe15', 'dugunburada', 'rodewelshcobs', 'baidu', '02yahoo', 'myvaporexpress', 'kbczvezdara', 'cititime', 'comune', 'portalsangao', 'newpp', 'director4u', 'gdrived', 'hkpcrgjiv', 'travelgare', 'autofil', 'phukien365', 'sinoci', 'sqoygkkolb', 'iitp', 'teksuninsaat', 'hsbconlineuk', 'spiderzone', 'websitealive3', 'kioskey', 'joomlaupdate', 'itoken', 'camorg', '21bwbkqajq', 'hikonebebppw', 'ptoudkdus', 'entero', 'gatarcement', 'kanastara', 'mdutmdu', 'loader', 'mbna', 'campid', 'extjs', 'telechargez', 'tardas', 'banco', 'sortezbougez', 'sdnlogos', 'hassanalsheikh', 'teiltekke', 'mzmzmzmzwz', 'shziang', 'enzevu888', 'sns', 'inover', 'shncibszjku', 'setup', 'yahoonew', 'hgdhjd87ashds8', 'wen', 'dinovitola', 'sonajp', 'mosthigh', 'googletr', 'factoryhost', 'aqropols', 'pportal1', 'mca', 'metacu', 'mamalover1', 'milkyway', 'canusatools', 'lemonese', 'iqbohafe', 'smartcards', 'bremer', 'cerviacasa', 'cke8q1', 'depth3dtech', 'eltast', 'opm', 'centfou', 'mylimajai', 'psp', 'euiro', 'bodinternet', 'isapi', 'centras', 'goods', 'zbot', 'deppeinc', 'engauto189', 'xkklowi9292o02', 'fruitshop', '20pdf', 'gassogasso', 'pareq', 'updait', 'geointeres', 'seaboy', 'myvnc', 'operazione', 'petitpoulet', '2fm', 'fidelidade', 'beez', 'cristorecursos', '0pengl', 'inzoku', 'aspxz', 'hut4', 'mvalid', 'spoofed', 'nutmegltd', 'templ', 'knutewhar', '2fen', 'ramlimsy', 'iolb', 'avi', 'sharefile', 'bvdreocwvaxee', 'tcpdf', 'guangbom', 'secure3g', 'contactform7', 'gongotree', 'authlev', 'pagetype', '3d3d3d3dht', 'olympe', 'ainahanaudoula', 'cityhospital', 'suenacristo', '0app', 'craftsreviews', 'ghkcobhq', 'citrix', 'nmklad', 'wwqx121', 'applygtsource', 'form', 'tokomuklasin', 'ros', 'devite', 'pyundoori', 'arch', 'negotiatio', 'jumeioo', 'warrenpolice', 'jenny', 'limetd', 'fengzigame', 'dwnl', 'paypaluus', 'contact256832', 'satyrwelf', 'mikikatu', 'helper', 'ee8d', 'wole', 'edenpansion', 'securityaol', 'paypalus', 'ilomart', 'writerworks', 'aptguide', 'bharathadeepam', 'wor6', 'fotolar', 'syut', 'directdownload', 'gzqb', 'cuisine2001', 's4oehd3', 'raystream', 'programa', 'signinaction', 'amhl', 'hlllps', 'lllqdzp4tsite', 'jh45wf', 'tsktheme', 'gmalaya', '26continue', 'polhkinglobal', 'smokintech', 'ipoi', 'www6', 'testf', 'raymansmart', 'pxkdwmqhre4', '21mgzeqqjq', 'newsfeeds', 'zml', 'ppbb', 'u56gf2d', 'shyanmei', 'nyawaa', 'newsnstat', 'skincare', 'rver', 'paginas', 'token1', 'daveshearth', 'img', '1skyvideo', 'ijoj2y', 'slm', 'hechuanly', 'hnhxwchus', 'inav', 'mediareso', 'partnerid', 'akismet', 'ztipptops', 'ilkhaberadana', 'ecizone', 'spambattle', 'rpersist2', 'tpm', 'gxfbwjvior', 'directxex', 'invests', 'upda', 'pepperworld', 'size', 'ced', 'inde', 'sclient', 'voda', 'paypalaccount', 'tkdami', 'makk', 'fehotontsin', 'sitio655', 'lis', 'comeze', 'ccdog', 'factumtech', 'ernestoluna', 'yahootw', 'radiatorcn', 'drmulchandani', 'dingparmyrol', 'njofficeol', 'nessun', 'castuning', 'nokianshop', 'aaiuoj', 'facem', 'writewile', 'apkmandroid', 'wbconcept', 'bhejacry', 'webalizer', 'getinto', 'deducibly', 'stefanologu', 'xy71scde', 'xc2fg', 'mercyhills', 'beez3', '3foffertaid', 'assets', 'ecogreentec', 'webdisk', 'shudokanaikido', '3dcomd3', 'com81', 'bestsourcecode', 'emonsite', 'winafordfocus', 'similar', 'gjy6k6', 'verify', 'brbr', 'googlemail', 'ebucks', 'parlafoodltd', 'gweedbizen', 'wmsbd', 'document', 'krsa2gno', 'stage1', 'soulflower', 'fartit', 'cdp', 'aol', 'avatars', 'onehellofaride', 'http3a2f2fwww', 'zm2uojf', 'vinoscalyptra', 'sragenkab', 'telstra', 'updatespaypal', 'cvv2', 'h2omasters', 'byethost7', 'hogsmeade', 'fxprz', 'epilationinfos', '2fads', 'telekom', 'jsupein', 'eventos', 'retheckserat', 'nostro', 'cafebg', 'confirm', 'bro', 'modularity', '1drivefiles', 'rybkj', 'anoamans', 'swadsexto', 'iavas', 'mikey179', 'produk', 'hbn', 'weblagon', 'tasks', 'ochestratsfr', 'elfinder', 'hertz', 'sneensn', 'ephoto', 'sydpainting', 'fmsk', 'stateparking', 'indexpage', 'compat', 'afdijgy8766gyu', 'paypa', 'htpasswds', 'svar', 'suzemodels', 'chandrphen', 'views', 'hollywoodjesus', 'future16sales', 'sixes', '43rf3dw', 'dadinthebox', 'neyo', 'mg5', 'dniash', 'ahmetekrem', 'posting', 'wgp', 'rosispitaniya', 'battleen', 'shost', 'mebelhouse', 'saldo', 'swagads', 'sitestat', 'ayay', 'yao', 'newcj', 'inedinburgh', 'vateba', 'itunesupdate', 'countrylang', 'account4', 'phenocpa', 'theme1373', 'shagunproperty', 'swivelsrus', 'clickenc', 'icssnj', 'bmfassurances', 'quotationfile', 'updates', 'omiplanet', 'aqelymlo', 'meclasu', 'dinogas', 'ved', 'vklad', 'banca', 'pessoafisica', 'cdhshop', 'ww55qzn', 'cmcomunicacion', 'webbscr', 'cgben', 'konflict', 'wbscra', 'mindurshit', 'ocuhfpcgyg', 'provincialpw', 'aqq1', 'whmcs', 'wrp', '20guilds', 'turbotax', 'alberto', 'asdbwk', 'embeddedform', 'sabplatform', 'chaoyue', 'fenit', 'windoor', 'maximumauction', '9ajx', 'cadastramento', 'fhbg', 'mezzofoods', 'gselection', 'mucinnamphat', 'hhrs', 'cgi bin', 'billings', 'aaaaaaaa', 'oney', 'allbest', 'wepc', 'flurrbinh', 'speciaaldesign', 'paypalusa', 'erreur2', 'weeb', 'm7td326tpe', 'pross', 'passo2', 'errmsg', 'ingresa', 'polybranchiata', '20santander', '3dfalse', 'id14dpo', 'fichederemise', 'segurohsbc', '20files', 'proplanplus', 'uuus', 'fallencrafts', 'cugb', 'securessl910', 'inst4', 'mehrabtech', 'portale', 'lux', 'ufrj', 'addr', 'remax2', 'whit', 'observ', 'loncheriachepa', 'wjwcyfffel', 'checkwebspeed', 'leticiaaraujo', 'cybertechau', 'xsolution', 'supportservice', 'cosa', 'info1', 'wpimages', 'webscrlcmdl', '4everyday', 'uploaded', 'technlip', 'cli', 'aoldocs', 'vvv', 'wrenchhost', '5cnbin', 'jyxiangqin', 'cull', 'ola', 'refundportal', 'mbaicmmadurai', 'payobject', 'binfile', 'nahoonservices', 'verifirun', 'akeeba', 'dbox', '5tr5xeey', 'cmo', 'creditbootcamp', '4gbrdf6', 'theuniongroup', 'talktalk', 'iczs', 'webscrcmlogin', 'eclecticgrape', 'paypal825', 'zaz', 'allflagsauto', 'twaufi', 'mclodesigns', 'amandapinson', 'webscrlogin', 'owes', 'dreamcargarage', 'giant99', 'acteongruop', 'myomedworks', 'hummerlauncher', 'solude', 'santrex', 'dlltqfjd', 'ulelypjqsdo', 'byoa', 'pepperbox', 'ermutfak', 'websitewelcome', 'clk', 'cmeidhdg', 'wpsnapshots', 'turbomingming', 'cct', 'tradefiles', 'finish', 'thelashstudio', 'promocaoelo', 'borderspot', 'zednsifus', 'pfa17', 'icdsarch', 'tczo', 'aqi', 'furdajti', 'dancastans', 'iscr', 'omnitrust', 'xyz', 'uscgibin', 'rnd', 'alci', 't3nuh7', 'sbz', 'ug7654fgy', 'postbank', 'eventure', 'autodemitrans', 'hotvenda', 'rentalcartours', 'ns0', 'insert', 'owa1', '9eehr5atew', 'nursegateway', 'avd', 'evrognosi', 'grafics', 'secure8b', 'udj', 'adclap', 'gift2belgaum', 'assistkd', 'login1', 'cardimax', 'webpanel', 'flaxmeregarden', 'dajerequipos', 'tjlogin', 'hikonefabebpps', 'yyweb', 'hd83rd', 'cswcmawdotwg', 'bluefile', '3500rachel', 'cetis43', 'asr', 'oggo', 'litehauzz', 'axzmo', 'beaconhouse', 'theseeds', 'axfree', 'zxaen4', 'rxcoupon', 'escpwip', 'module', 'frida', 'dayniilecom', 'freshcachenode', 'refund', 'wvlaw', 'folders', 'jehjoxk0idw', 'cmd', 'tumijicalolsds', 'essennarose', 'deichmann', '2fbanners', 'ydbayd', 'sawko', 'vaginismusmd', 'bronz', 'galeon', 'sdxxsas', 'improve', 'sdo', 'choconutsworld', 'bashkiria', 'pbsnets', 'administrator', 'astraedu', '845yfgh', 'bccplanning', '20overview', 'alanstrack', 'jamesm', 'intellbet', 'comupdate', 'ghasemzadeh', 'dns1', 'hindex', 'karenvillamar', 'steamworld', 'secure191', 'ruuvsgbaxbh', 'casaroncragin', 'unykmanagement', 'fatboygraphics', 'tempsite', 'netd3enindex', 'unas', 'svdjfbivamo', 'techfriendly', 'webcs', 'bboline', 'qhdwk', 'cinnamonlane', '3dtrue', 'webdllscrn', 'confirmations', '3dhttps', 'rfiotvgus', 'loginsubmit', 'loticks', 'haneylawfirm', 'mce', '3fformkey', 'stow', 'koszalin', 'middleeast', 'aud', 'swoopyland', 'spaw', 'securiter', 'lyb', 'feriadebuga', 'nehard', 'hnqsfz', 'ggdc', 'hospaccx', 'comayseafood', 'paypal2013', 'web44', 'templates', 'qtuanjdpx', 'tiitbhfbw', 'gdgh', 'antools', 'huaruitec', 'acount', 'littsitning', '27accesso', 'serasa', '2fmail', 'uuvuhqhnwnpdy', 'srggybwus', 'bvrelevtwera', 'ilariacafiero', 'lilyksa', 'vdg76vuy76rjnu', 'wwok', '26forced', '7uw', 'medias', 'xplorenature', 'survery', 'larger', 'jexfiles', 'pureform', 'determine', 'wannmore', 'elrte', 'ativa3', '25252fspecs', 'cgic', 'forms', 'eaid', 'docu', 'ns11wistee', 'allied', 'fnb', 'bvm', 'dllrhttp', 'favcc1', 'silyaqgppf', 'dimexlogistic', 'naturecrops', 'vbeaxzx', 'fisc', 'caurina', 'yahoomail', 'wwwpaypal', 'webxscr', 'teucartao', 'webprocess', 'onlinewebshop', 'uk2', 'hajunina', 'agileprojects', 'direttaauto', 'securedropbox', '3bref', 'bim', 'pastehtml', 'novonordisk', 'cdschartreuse', 'bins', 'redir', 'atrient', 'godwin', 'imagescroll', 'daniellau', 'apiamz', 'aut', 'bumbocubeb', 'vcdsknvkds', 'vpic21', 'yyrs', '2ffpi', 'unzip', 'cabanova', 'incoming', 'ajaoi', 'ust', 'lexvidhi', 'limit1000', 'new11', 'paypalmanager', 'amu', 'woko', 'fysieke', 'zyns', 'comunidad', 'blo', 'kinghokey', 'midwaymetals', 'claudio', 'snitch', 'paypall', 'apacheextras', 'dwr', 'buzzooks', '1gb', 'suspended', 'wbsghrdjtgvag', 'newsgolf', 'noscript', 'kurochkaryaba', 'ilmugendam', 'sicredi', 'boyom', 'skin', 'hlamc', 'servebbs', 'knf', 'simo62', 'gdocs', 'subscrible', 'bitfolge', 'delphiumbansko', 'doo', 'mweblognis', 'txptkszqv', 'wohapofut', 'yolasite', 'myprofile', 'chiefcooker', 'vary', 'pa1', 'hubrich', 'libraries', '02bjjbhds', '3aaollc', '2fh', 'fff2vvv', 'updatemember', 'clubofmalw', 'efiling', 'reidoalhosp', 'account', 'burinvest', 'immediately', 'batt', 'materi', 'emailupgrade', 'blob2', 'zygomadental', 'cons', 'j2b2vi', 'nat', 'bulldogmiami', 'suspected', 'gdefault', 'caption', 'emlcomm', 'seamonkey', 'hnews', 'scryfa', 'upgamecdn', 'dkboard', 'llwow', 'uryetbn', 'citizdrav', 'oods', 'tmcaster', 'team12', 'copa1', 'palaccount', 'net78', 'abiraj', 'cgiindex', 'radioportales', '13vqcr8b0gud', 'profileach', 'bazqzmzmzmbk', 'rekrims', 'karinestore', 'battlenr', 'websrc', 'mbr', 'kjg56f7', 'wesite', 'gkjx168', 'superb', 'qwrs', 'szlingyu', 'webads', 'ecpi', 'sodexo', 'loungio', 'lixmuseum', '1ck', 'cutcoins', 'documentt', 'wise', '2fspreadsheet', 'roymelody', 'httpspaypal', 'increase', 'dodowiz', '5cn', 'uploadify', 'sherlock', 'antserve', 'mobiliablog', 'sucess', 'redi', 'static12', 'sgeh', '1001huiles', 'paypalnew', 'ataxiinlorca', 'vhlgbcltvbe', 'imgareaselect', 'cxx', 'pawpaw', 'productos', '20campervan', 'ppweb', '2fclick', 'bluemascot', 'littjohnwilhap', 'moonbattracker', 'digitalmanager', 'my3gb', 'thinkdesign', 'pecschool', 'subtopic', 'updateto', 'welcome1', 'incfile', 'checkid', 'letsbuyp', '1qhua0f7o2jut', 'donno', '20main', 'aminev', 'o2breath', 'egs', 'craarc', 'myopsource', 'asiandream', 'cadastrocielo', 'rrwow', 'pbenskin', 'datamapper', 'dosonow', 'grazie', 'zone1', 'showmethat', 'sportpress', 'sig', 'horizonactu', 'auu', 'uytinviet', 'googledrivenew', 'cond', 'realslimmd', 'pvthg2', 'abulhoul', 'ausameetings', 'bizhu', 'bookmarks', 'gxyzx', 'uploads', 's0ksxt8e', 'token', 'eachm', 'web11', 'wllxzccc', '707eats', 'ortscdtpxmof', 'leadingre', 'secure6m', 'fjwnxxfd8', 'justagame', 'prudy', 'carta', 'edemalucia', 'remository', 'phocagallery', 'idomyweb', 'nauticdirect', 'pony', 'ticketyahoo', 'tbt', 'newfolderrr', 'glenedmunds', 'alefreed', 'ieccs', 'tudofit', 'kiralikemlak', 'qshizezus', 'mambots', 'lokum1985', 'wiserbanking', 'xenialopez', 'gminairodzina', '26pubclick', 'sowkinah', 'ah73wlnz', '094mfiejr93ji', 'pull', 'mailto', 'pes13', 'servicegoogle', 'mzsys', 'xampp', 'atcpak', 'hadmedia', 'prettyphoto', 'infeedworld', 'pots', 'marketingweb', 'drosmancakar', 'spryassets', 'sitesumo', 'qk8cwepwj9urkc', 'gebrvanorsouw', 'letsmall', 'hojkov', 'net46', 'jlnlkrefw', 'rdsw', 'sofotosbook', 'pak', 'googledocbest', 'crack', 'insurancelower', 'fesco', 'ezmip', 'quoteimages', 'mboxid', 'epanel', 'prodns', 'voluumdata', 'odinmanto', 'twentythirteen', 'securessl210', 'httpsus', 'docdrive', 'razzledazzle', 'slyip', 'trudyaga', '2lo', 'dihomogenkan', 'om8bt', 'itauhom', 'fastmail', 'pixel', 'loghuman', 'rotweissluckau', 'nasharatech', 'mussystems', '0hlbm', 'digicozum', 'adobesecure', 'betroop', 'hsh', 'icccali', 'blackhatworld', '26beacon', 'sayabak', 'campaign', 'syzran', 'lacnyskialp', 'outdated', 'altadevelopers', 'dornmold', 'attachments', 'glaikdylan', 'msgdown', 'federicoginer', 'emfan', 'item45f52e0ee6', 'cario', 'whatsapp', 'hfycn33', 'fzweite', 'wtp', 'zkb', 'mrconcept', 'babinnomi', 'lovetamaya', 'alfurkan', 'kunde', 'paypal', 'glyph', 'yyo2', 'tipsforall', 'arm7', 'cacl', 'cadastro', 'tabloidpulsa', 'premiada', 'activetalk', 'ebizx', 'aj0ut', 'teste', 'nti54u4pai', '2fapr', 'thescrapescape', 'af10lazybrr', 'dzwiekowe', 'iamnnower', 'lzhjqkcus', 'ono', 'nextgen', 'domainselect', 'localhost', 'jstree', 'untitled', 'bisignsusa', 'ddnsking', 'wow', 'sq311kgk3imnzd', 'garzits', 'seguranca', 'newdocs', 'slowly', 'rutlandhall', 'fullsure', 'webscre', 'edffrance', 'scodi', 'mnt', 'swmas', 'confirmation', 'okiil', 'eghtesadkh', 'celinadelgado', 'juran', 'law1', 'zxlcntrlde', '2faccount', 'commssforum', 'horde', 'amserver', 'barclays101', 'vrasav', '3dsjenk', '26premium', 'pineysprat', 'imagens', 'badimalik', 'cadastra', 'jrrs', 'simply', 'searalihid', 'g7e8dox8xyp', 'busines', 'comxa', 'octv', 'hirlevel', 'cargol', 'hzmuma', 'uk1', 'jlcyedu', 'encripted', 'ovurglr', 'agsteier', 'paypalsecure', 'eurosupport', '3ap3qsi', 'firenze', 'allon4dallas', 'ing', 'paypaleu', 'actudismatik', 'swp', 'pv9wfy', 'mososinsaat', 'redirect', 'tqwqi9zm', 'activateav', 'safiazsports', 'minitoons01', 'effettua', 'kingalter', 'datongqu', 'tvdiadema', '4aea9qgamzk', 'confirme', 'tsira', 'holmebjerg', 'xclusiv3d', 'airbnb', 'createsend1', 'sancho', 'csintergalaxy', 'eeeu', 'gnewdoc', 'seyhocacm', 'gamehedthed', 'polc', 'admin2', 'trec4x', 'qwertyatwork', 'paypai', 'remeslennikrf', 'unicorn', 'attached', 'identity', 'acquagroupt2', 'jaj', 'goodfoodprod', 'catedrasdgfadu', 'orianimazzini', 'shawnebrown', 'xxxvideotube', 'bancobrasil', 'kkk', 'yimg', 'clients', 'capitec', 'broadtech', 'btcsparepart', 'service', 'aax', 'webmail', 'tongji', 'fbid', 'inviterealms', 'villadiana', 'otwayorchard', 'sabioq', 'joomware', 'balwindersingh', 'astahost', 'animacentrum', 'midisln', '0ftce4', 'online', 'hikonefabebppd', 'portailas', 'send', 'postale', 'ktmarketing', 'eshopsstar', 'cancerexpo', 'goldensad', 'btapp', 'dplwx', 'a0l', '1nsd', 'shopmedicos', 'mes', 'idbp', 'fc2web', 'herosoft', 'verusados', 'laxfu', 'pay', 'slupt', 'hostoi', 'span', 'element', 'fra22', 'ttzijia', 'cadin', 'bavariawein', 'sante24', 'rty', 'pap', 'inds', '1ubiaprwbt', 'dropboxs', 'htmcmd', '8fvchzuz', 'waaynet', 'college4cheap', 'aaronmaxdesign', 'edilperle', 'orderspec', 'satyamultiplex', 'amadistrit', 'nuochoare', 'sokchea', 'comsertim', 'yesiloglugrup', 'victormcastro', 'closalesia', 'leashesbylisa', 'battl1ec', 'creditagricole', 'gtwpages', 'ncchina', 'ukwrbpfus', 'ingservice', 'loginsubmi', 'xxok', 'however', 'roketmail', 'henetweb', 'aos', 'atentia', 'drdavidlinks', '26referrer', 'chateauzen', 'jpkc', 'validate', 'bradtsics', 'sandtextile', 'suppino', 'mostread', '7billpayaol', 'jxjy', 'pplumbings', 'cmdlin3', '2febay', 'pragueproject', 'leshrestaurant', 'dnicollege', 'tintorsortons', 'securessl410', 'addresstypeq', 'adamgabriel', 'ciply', '09uh8ny', 'assistente', 'reviladate', 'startpage', 'acnek', 'amro', 'myphychoice', 'gegahost', 'deposit', 'tennyfoto', 'googlegroups', 'uthegrepspar', 'raminamebel', 'femmes', 'xlr8services', 'visdon', '12land', 'brmototaxi', 'boxun4', '252fviewform', 'modpro', 'others', 'sywgy', 'agent100', 'jhanjartv', 'secures', 'cust', 'vizxv', 'sslchannel', '1paypal', 'mtn', 'arvindudyog', 'westpac', 'remaxx', 'cultureringbg', 'welovekgc', 'aerreravasi', 'baba', 'cbcxt', 'interfaxru', 'spreadsheet', 'efatura', 'samenart', '20senior', 'lubrinor', 'incorrectinfo', 'csq', 'canflexo', 'verfiy', 'calerogroup', 'httpsbattle', 'xhrn', 'abdox', 'dongyuwl', 'winstone', 'rar2', '54jhbjgcdlg', '3d3dus', 'docsign', 'icewire', 'galleria', 'ddlogin', 'luxdekor', 'bluestar4you', 'typo3', 'zeismanita', 'wezz', 'commerzbanking', 'dropboxx', '2fw', 'llbfarm', 'mpd', 'skins', 'avtimespg', 'tranzporthub', 'owa', '12kgyr', 'autolinker', 'ali', 'tumaloliquor', 'hsbcbank', 'mkt', 'kreditkartel', 'northrock', 'purpose', 'cynonnet', 'chelt', 'berita', 'pleiade', 'appl', 'hosting1fr', 'dhrutidesign', 'trespuntocero', 'appshot', 'jfest', 'sportvolley', 'dropbaka', 'ssbztob', 'tamfidelidade', 'ckfinder', 'nagpuriweb', 'wowowen', 'ialri', 'aciax', 'myscreenname', 'wamasoftware', 'lanapyxefyfpps', 'cultura', 'nn86g3yd', 'f4brg', 'acaciadesign', '20folder', 'pigre', 'jeansowghscc', 'documento', 'scsrxx', 'gledu', 'xxus', 'vqpiuffvpgdop', 'saasdde', 'specsheet', 'gdoc', 'serveur', 'rrivgatfejqhg', 'krotzon', 'securegdoc', 'looogin', 'davis82', 'ademas', 'b2cbatteries', 'dropboxp', '26ndplr', 'abn', 'indovolena', 'buendigkeit', 'loft206', 'onng9', 'fastclick', 'resboiu', 'egobook', 'lloydson', 'docsin', 'metro91', 'quicklinks', 'innovzen', 'quotegenerator', '360chuchai', 'gorizia', '30nama30nama', 'avionskibileti', '1vmvcalolh', 'vfdgsdgsdfg', 'cgg', 'qfgleplus', 'allert', 'loginsuccess', 'bluehost', 'vsimila', 'wnbcbcykhjjd4s', 'italia', '77ufo', 'ner', 'dox', 'overlapsistem', 'ifscm0sm', 'frontesc', 'embarqmail', 'identifica', 'screenname', 'securedpage', '2013gdocs', 'ntpd', 'match2', 'icloud', 'compute', 'furysro', 'pubclick', 'securessl710', 'd3uc0zpywezmsh', 'weblogin', 'gcoorp', 'novahue', 'creativeminds', 'dou', 'onopko', 'loginpaypal', 'kontinental', 'webwi', 'eueurope', 'drugvacoa', 'softparade', 'digits', 'wizone', 'wucie22et1', 'aromaesence', 'indo', 'configs', 'ibank', 'dltoken', 'eltonsena', 'nirvana', 'tmp', 'oppure', 'mehmetuyar', 'hyundaitanphu', 'ccus', 'userinfo', 'photodemo', 'iamspace', 'aslikarabulut', 'image', 'qqinput', 'sym', 'thestyle', 'rkfmudas', 'collageheadz', 'onlineaccounts', 'dragon1', 'cmsrviceetalis', 'mais', 'directheadwear', 'panel2', 'passive', 'sdspropro', 'amz', 'robbeottoy', 'ukus', 'editor', 'wptheme', 'rtd', 'glazypablo', 'miticapuiutuz', 'euronosefi', 'ims2', 'uniq', '20secureu0002', 'lomtalay', 'sdeh', 'smauthreason', 'nbgtwz', 'krolpostes', 'jiwoku375', 'usmg5', 'enquirynetwork', 'xoom', 'iynus', '3dcs', 'konjiki', 'vfgfhnbdvnbb', 'sxzzy', 'ebscr', 'luzetogodppw', 'synergyconnect', 'northguard', 'beatelement', 'mqf', 'ginput', 'htmlarea', 'cqr', 'kiwibank', 'gbg', 'sgey34', 'aedesignstudio', 'adrive62', 'sascuta', 'jokehkingshf', 'ffreeqcus', 'masterplusmsk', '20daemon', 'bancaribe', 'oxcyu', 'tzblhuk', 'biosmile', 'pasadenaoffice', 'promo', 'inserisci', 'ilamtelecom', 'ejdadim', 'sambaplack', 'nanibakerpr', '2fmanagement', 'clouduol', '51jianli', 'bmg', 'netwark', 'countrytobox', 'rotation', 'ws1', 'dotz', 'remixx', 'screendrop', 'zymichost', 'username1', 'colors', 'domaingoogletw', 'sthpr', 'wpr24', 'subcr', '3eb7mww7', 'rhyzrin', 'kiev', 'myklozet', 'gustavonoriega', 'wybaluszac', 'lobbyaudit', 'sistema', 'gmil', 'desdr', 'utf16', 'blogdns', 'yzi', 'schemapv', 'all1', 'ahama', 'erg7cbr', 'szleteng', 'laika', 'senaranews', 'prodentmed', 'vittuperkele', 'gerryj', 'zwtmdwdus', 'almost', 'tualimpa', 'icclicks', 'wzwjm', 'bklcom', 'gmxhome', 'tallhoody', 'yahoo1', 'nbhyavwc', 'seeknfame', 'boothillgang', 'wgzpdyl7t0', 'limitation', 'agridiving', 'unityquire', 'bst', 'segura', 'editors', 'loginid', 'bsykpo', 'coloco', 'navosha', 'stpanp', '2fserve', 'catalog2', 'cr9lnn4qqu', 'rwinaclub', 'conexion', 'eternalwedding', 'datatext', 'handpainted', 'mechtechgroup', 'xx13enus', 'tisone360', 'comd3us', 'fishchowder', 'inovado', 'pmtgvas', 'llweb', 'avasvalidator', 'santoorschool', 'herbrasil', 'sgehrj', 'beastnode', 'approval', 'portuga', 'webscr', 'kiwi', 'josemedina', 'failedtoload', 'incorrect', 'twinkgayboys', 'odiagurujan', 'cameratest', 'seamless', 'rogersmain', 'encogidamente', 'camkuar', 'owalogon', 'desatualizado', 'collectionkr', 'hikonefabebppa', 'abcbyggsystem', 'tainos', 'others2', 'xpg', 'craveculture', 'nrana', 'sestech', 'fichiers', 'ascx', 'xiazai', 'scap', 'hedefosgb', 'addition', 'slrsafe', 'dwiduilbi', 'hqtdmcdritpwz', 'cechire', 'authwebscr', 'myjino', 'gtryeuj', '1touchdesigns', 'jidrex', 'lfd', 'cnajs', 'gordygong', 'youthmaida', 'jasondwebb', 'claimc', 'bjdjwy', 'dhl3', '9uhg5vd3', 'modernyear', 'rct', '2fif', 'lanapyxefyfppd', 'try', 'vaidevisa', 'amli', 'rosrealty', 'dhoso', 'authentication', 'ideagreens', 'centerminasph', 'pagforall', 'meta358', 'busesforsale', 'yxmbfle7', 'fluchinfos', 'vwdcqinc', 'arthurwinley', 'antykatolikiem', 'participe', 'uoe74', 'thedivinehost', 'verifikation', 'edf', 'texascougar', '2findex', 'g7cberv', 'siasia1', 'webscsuccess', '51mct', 'straightup', 'categoria', 'rophenreswi', 'bitrix', 'fwxadgf', 'accedi', '3dwww', 'silvalawfirm', 'impressstudio', 'saequity', 'recouvrement', 'sessionid', 'paypa1', 'dangras', 'pvalidate', 'qna', 'ccvs', 'alraysa', 'idrophegrol', 'hxsjj', 'msie', 'yah', 'lunariffic', 'gantry', 'amandinearmand', 'motahariblog', '2fad', 'xhxxp', 'authentica', 'trixmix', 'app', 'systembanking', '3dlt', 'filewords', 'asd', 'webscloading', 'templets', 'vowedbutea', 'afr', 'decide', 'westernunion', 'jxyx99', 'waw', 'seniormeet', 'confirmpaypal', 'cybilaclama', 'sorteio', 'spins', 'samadha', 'yuf59b', 'bplenterprises', 'elaboreluxury', 'newseo', 'gnlvfejomcshoy', 'ispysoft', 'zpcore', 'eapicultura', 'prim', 'phputf8', 'marlinwash', 'myself', 'gencplatform', 'conto', 'asport', 'undiaem', 'lookvmsoe2', 'mabawamathare', 'inceleal', 'farbtastic', 'loginnet', 'zoiecastane', 'lufkor', 'scottygooding', 'favoritenav', 'xtrue', 'autofx', 'certificates', 'ers70a', 'secure910', 'wilsonusa', 'ankarasoveyapi', 'nevareht', 'medium', 'kunden', 'mobilesuitervs', 'qqok', 'lightbox', 'asgeqf', 'net76', 'rapiderbariyer', 'messaggio', 'png', 'site40', 'paypal1', 'hlanz', 'log1', '26width', 'bftltd', 'karadyma', 'h78r3gfe', 'webpos', 'yms', 'fulvio77', 'ungctanzania', 'excu', 'webmaillogin', 'plantsroyal', 'wreia', 'shakti', 'richtenberg', 'solarenergy', 'scpolytechnic', 'termoskan', 'qmailer', 'pageguildname', 'yjtuan001', 'ozor', 'recover', 'hfdodiopr', 'clickroses', 'logn0', 'tuif', 'ldl01', 'ymmmm', 'atampy', 'homepagesignon', 'joomlastats', 'rawproduction', 'wpconfig', 'qhie6pb8n9zf', '3d3fae', 'warbot', '98uhnvcx4x', 'chrandinc', 'myxw', 'm6bobmp', 'message', 'proceed', 'zuoyuhuimo', 'phetrie', 'gfwqtvcilciyf', 'mpphome', 'gmailwebmail', 'atomic', 'fewfjisi', 'rendertype', 'compte', 'dust', 'prevent', 'hellodolly', 'nalerefmnager', 'webzdarma', 'upate', 'aqe0qtpbpvdc5g', 'url2it', '223ivzu', 'waat', 'zaqaaaaaaapa', 'uaoutside', 'tor2web', 'informaonline', 'maquette', 'sslssh', 'impotsgouv', 'cynosurejobs', 'vouchers', 'sofexjordanx', 'xcvbn', 'bbva', 'allegro', 'komca', 'rlljrqo', 'origem', 'dspatch', 'blylkevvx', 'bciuemfaapyf', 'sgd', 'websccarding', 'abcl', 'lyjq', 'productsample', '20confirmation', 'zol', 'hicksmath', 'loud', 'mgsh', 'michelemadden', 'auditreport', 'biovinci', 'aor', 'navipelti', 'wppagenavi', 'promolinks', 'turl', 'direct', 'slides', 'klettur', 'amenpro', 'rcmbt', 'lokijh1', 'infos', 'stucchifedele', 'lresort', 'receipt', 'lexscheep', 'fim', 'mhcable', 'xtrweb', 'comervillamil', 'hidxenonlights', 'landauglobal', '7yur', 'cmail2', 'awstats', 'codanuscorp', 'usaa1', 'ezpass', 'ausaf', 'jagritisocial', 'onedrive', 'kalayman', 'tibia', 'kruibhez', 'jdfslfdsgy', 'ulrikenkorekte', 'productfilter', 'netspbs', 'sloaneandhyde', 'webframez', 'smartasia', 'flowernflower', 'index2', 'vqmod', 'hnyhx', 'leprimodels', 'reuterspress', 'sunxiancheng', 'storsvc', 'oportunidades', 'gaoxiaowo', 'hmi', 'sollove', 'travelcompru', 'v08rplgm7u', '3dc', 'lloydstsb', 'sicherheit', 'joor', 'kltc', 'ibottle', 'l47km', 'secure280', 'estudioiorfida', 'hutyerfliop', 'tardafs', 'ads', 'googlee', 'battlenet', 'webcalendar', 'pranair', 'deutsche', 'verified', 'ancient', 'helps', 'pamirinvest', 'aspirationeg', 'ebaiisapi', 'webshipping', 'e56b7c53agsi3', 'nwedellco', 'flanellaa', 'bluga', 'paypalcheck', 'newuser', 'urgent', 'badgerhdtv', 'adfile', 'jjdstorage', 'laprovi', '2fjquery', 'eydyupykxdss', '12tfscjfoz', 'dragonballz', 'ypal', 'ghpm', 'retoftontto', 'nerdtritious', 'maidtooclean', 'ipchina163', 'languages', 'boservice', 'lavoro24', 'rather', 'plaeseupdte', '24horaymas', '1nswsiv', 'artdourios', 'ridleyclark', 'fid0', 'att2', 'dowfrecap', 'ativar', 'optuszoo', 'dnssyn', 'dhl2', 'pfdregistry', 'djd', 'dintgaropof', 'nojspr', 'sandoutalent', 'new b2b', 'smartnav0120', 'androm', 'eliknqpmoi', 'ckforms', 'datahost84', 'santechno', 'atel', 'mospi', 'twentysixteen', 'victorcasino', 'cancel', 'waficsaab', 'somee', 'segurocielo', 'bancoposta', 'dommel', 'secure281', 'countto', 'strongaliar', 'corrispondente', 'confirmed22', '8976fyvgg', 'sotorentals', 'share', 'ddok', 'idesjot', 'alplak', 'zoolosla', 'lsxxg', 'guardiao', 'alla', '3fa', 'utrnakuytkrrpq', 'toaenvy', 'sustentank', 'sexder', '9virgins', 'santabbey', 'windows1251', 'grpcfilm', 'hifidemoroom', '9a74zouhoo', 'sistem', 'viewfiles', 'pagename', 'fill', 'atualizacao', 'efzg5epalogin', 'gpr', 'wwwssl', 'adbm', 'sn1', 'groupstudio', 'mmmm', 'p4zra9wf', 'modulobb', 'serici', 'dgnfd564sdf', 'teatremataro', 'openmap', 'pthfinanz', 'undetiagreuz', 'ultrasafe', 'itau30horas', 'swissv', 'rox', 'air88', 'trakimtuong', 'loading', 'popalgems', 'innogenap', 'dmjs', 'gravitasmedia', 'drive', 'lavoro', 'verifyaccount', 'pipistrel', '20upgrade', 'paybrakepoint', 'defenceiq', 'zapoy', 'ibjja', 'comcmdcgibin', 'vfdsgsrgsg', '1iwex', 'bankaccount', 'atlednadint', 'kxgbf8oplmo', 'hotmaillogin', 'gadget2life', 'spoworld', 'fckeditor', 'thayankeesite', 'oyentes', 'contajusta', 'fonts', 'spiritual', 'bmo12', 'users3', 'relate', 'neilmacqueen', 'x0shop', 'ipv4', 'hov', 'bgb', 'canflexowp', 'phpmailer', 'dropx', 'projecti', 'ufdz', 'loginwowow', 'stsgroupbd', 'mobunykedafppw', 'organi', 'ugonna', 'rivercitytv', 'muhigiasacco', 'jdk', 'dag', 'randexpr', 'jap', 'seco', 'qmoa', 'papake', 'c0m', 'axama', 'formstack', 'linsy', 'dropbox2016', 'rimpro', 'autostrada4x4', 'g2el', 'solar', 'e3bay', 'shineritethru', 'rflogin', 'plg', 'adidasoriginal', 'icepacoy', 'dispatched', '2fa', 'palogin', 'greenpark', 'icu1', 'publicbb', 'hkkk', 'securite', 'sexyi', 'livorno', 'paypalgermany', 'serve', 'files', 'protectedgd', 'gruppo', 'syamasahithi', 'pizzadrones', 'paypalcase', 'wdd', 'novarubalka', 'ccvb', 'accountus', 'freesexycomics', 'szukala', 'requested', 'b2c', 'pin', 'ignorelist', 'varianty', 'maint', 'webscrcmd', '09yhbvt4', 'frcpr', 'alanmorgan', '3dsecure', 'dhoei', '3t4ftb6', '0penssl', 'aust', 'muffben', 'images2', 'myflatnet', 'whitewall', 'tpllaw', 'exclusiveprint', 'ipregnancyapp', 'distechnology', 'bxkbjrmtaa', 'cloudfront', 'bnnr', 'ibanking', 'comcgibin', 'xsxzjzx', 'hsqxx', 'wbtarif', 'nexorosario', 'fileword', 'eacglobal', '8zrg48k', 'loggedin', 'excel', 'regruhosting', '20yahoo', 'houkouonchi', 'mine', 'lindepaint', 'wamref', 'hc0', 'filemost', 'albaylasanart', 'vfsstream', 'cajpe', 'zdiaran', 'modules', 'token2', 'instant', 'ubfreebit', 'qinxin', 'phzy', 'futonplace', 'miimg', 'putidwipe', 'hapy', 'aaus', 'banne', 'mollisauces', 'attredirects', 'titolo', 'porschecayenne', 'nycob', 'panel', 'ripalknurl', 'loggin', '3cbr', 'abcachiro', 'bondessert', 'dispat5ch', 'usthbdz', 'alaguia', 'netsdk', 'safaris', 'gdd', 'kedaibio', 'etisalatupdate', 'bvvihqrnrr', 'psik', 'grfxaox', 'buenosdeseos', 'hhey5', 'znvlbk2', 'expertmail', 'akvaprofy', 'cedia', 'cm2', 'csm94', '9dff', 'accounte', 'ref', 'bbcode', 'node1', 'atwebpages', 'plqfg', 'ghjsepkus', 'rrok', 'vastweb', 'viewform', 'aaomg', 'webscrcmdflow', 'fubyxoresabpps', 'securecode107', 'adserve', 'businessvejle', 'actuaries', 'ilansorgula', 'loginbatng', 'telehomegsm', 'coolin', 'arrival', 'secure7u', 'djdj4', 'nimaenergy', 'banknet', 'netfreaks', 'chrome', 'acsicr', 'svilupporurale', 'autocache', 'wldzb', 'pdfdocs', 'pcntrlde', 'lovemura', 'espaceabonne', 'seu', 'foto', 'vous', 'initthi', 'drdae', 'chstucco', 'lifeverify', 'taesx', 'ecaatasehir', 'j60zxul8', 'vamcart', 'vbv', 'oer', 'lodgeisidora', 'lgjyxx', 'bahi', 'nextgengallery', 'loginsupin', 'saptswe', 'ymlp50', 'impreza', 'dircobuilders', 'noreplyyahoicc', 'bjazu', 'icon', 'manreok', 'eviilvn', 'bkldm5', 'chromeupdater', 'mashhad', 'promocao', 'amfaceli', 'gmbh', 'vubkiwdfma', 'hygtzyj', 'obe', 'payapl', '26time', 'winword', 'scb', 'noip', 'phpmyadmin', 'freespins', 'op1gifsd05mllk', 'clanteam', 'wetransfer', 'suntiara', 'aim', 'instructions', 'cript', 'vfsnjvdsisw', 'gboexprodutos', 'benzoshop', 'weblogns', 'iirt', 'agbons', 'updatebilling', 'confidential', 'iansconcept', 'xwww', 'oihc', 'megaheru', 'reparacion', 'shwandukani', 'dropb', 'toolsinc', 'ajuuasodessa', 'newpaypal', 'elq', 'factuur', 'henryweb', 'classicfires', 'limit0', 'statictab', 'dcpxuedcnoa', 'wam', 'nlfactuur84', 'fuyusonata', 'cadastre', 'csemobility', 'angkanas', 'joopbv', 'sitdintsparna', 'tecdiary', 'bjyk', 'ealeart', 'voigtits', 'secure1i', 'fpc', 'several', 'karayurt', 'unsyiah', 'seo', 'secure4f', 'limitid', 'pes19', 'hinteats', 'accountgoogle', 'xstandard', 'xidian', 'ttwow', 'fulba', 'chcgibin', 'newproject', '20type', 'sometimes', 'wieselflinkpro', 'gbtrey', 'fraildata', 'pop3', 'y6u3c6zet', 'webuda', 'oogo', 'pussy', 'webscrcgilogin', 'wpdbajaxmade', 'jnsensi', 'singaporeapk', 'dati', 'drossstoic', 'tecnicana', 'phpnnewsok', 'comitetul', 'fille', 'okl', 'nedbank', 'antigo', 'drzekrihurstel', 'heimat', 'game20', 'bonvoyage', 'woo', 'alobitcoin', 'leremail', 'guess515', 'agb', 'todaysnews', 'iw9uu4hupe', 'homegeneral', 'stockedsummit', 'dl9f0m6', 'sms', 'manag', 'cnd', 'bkdentalarts', 'outlines', '7uf3ref', 'css', 'sewingmaker', 'vnc32', 'kranskotaren', 'alfa', 'refererident', 'thelibrary', 'biaobang', 'kiddykingdome', 'escapegasmech', 'albeykjus', 'ceronormal', 'ghbuyd472', '3tbbby', 'sofiashouse', 'qyjrgd', 'nea', 'hmthqpva', 'noahstachelek', 'altervista', 'muchcocaugh', 'paypaling', 'yandex', 'acypsa', 'darkermindz', 'perfectfixuae', 'autumnsing', 'crypted', 'lkis', 'zin', 'bodbx', 'homa', 'imagenes', 'espadonline', '4iyleh', 'portfolioslide', 'tsgugqpxweoyvp', 'wpsecone', '253fformkey', 'technote', 'delaemvkusnoe', 'netvatise', 'paynoerorppy', 'dribrahim', 'moneyinbank', 'rangyinby', 'toitoi', 'weabct', 'securecode11', 'iop', 'swf', 'because', 'onowcdn', 'dropbx', 'captiuasque', 'solenapeak', 'pana', 'fspt', 'rcomhost', 'jo4ykw2t', 'r3resolve', 'kinghost', 'webxform', 'picasasicilia', 'session', 'fullname', 'mikeg7hen', 'etcolethep', 'hotmailnew', 'appmanager', 'steamcommunity', 'chasebank', 'loghome', 'zh5cvqwd2g0d', 'naqycirefupd', 'helphiriyurngo', 'securessl610', 'g8yfj7', 'myfullflavour', 'turbineamots', 'mii', 'cloudaccess', 'redo', 'blessin', 'pernelkul', 'paypalvip', 'kiwipainting', 'radicegioielli', 'epix', 'reviewdoc', 'lqah1guh', 'paypalverify', 'upgrade', 'vilalusa', 'homebank', 'caixa', 'codigos', '3borigin', 'rwd', 'ccwow', 'meinekarte', 'kingsport', 'foxprint', 'impt', 'westexcel', '2cocktails', 'mystmarco', '8cb5d3e', 'infighter', 'sxluxing', '4dq', 'verificacion', 'hxyebkiegsba', 'gdocwithbl', 'verl', 'krotzons', 'sexit', 'mimatefacil', '252fclic', 'fausses', 'espm', 'newart', 'fiveclean', 'oisscj', 'lsbx', 'ussanlorenzo', 'une4', 'suntrustupdate', 'johnnebifi', 'masraf', 'jlxtjjb', 'holzgermany', 'spool', '2ftt', 'rnitechnology', 'kompl4hntsmo', 'radiokot', 'spicr', 'poolscene', 'swagmedia', '2chttp', 'pxlgmz', 'amatravel', 'stjudebossier', 'exports', 'ins', 'teamjct600', 'sparkasse', 'hmf', 'mylondonroom', 'internexo', '4uautosales', 'apache', 'exe win32', 'styles', 'eeweb', 'bioenergy', 'zukask', 'invalid', 'drpbxx', 'deathvalley', 'wpindex', 'readme', 'googleraww', 'cliente', 'sso', 'comuv', 'analeoni', 'newt150', 'atualizar', 'tracelog', 'confirmando', 'satk011', 'adasurgical', 'ambienteseguro', 'htmlindex', 'includes', '67selbosjc358', 'paulking', 'simplepie', 'bildirx', 'mhelofbekkahu', 'ancamera', 'httthanglong', 'pisar', 'gate', 'granitprofi58', 'pakarmoring', 'allxbox', 'nkbm', 'jatcwj', 'beverlys', 'email', 'dobb2', 'damp', 'brahaemy', 'libertyreserve', 'firstscog', 'aol6enus', 'betsfoi', 'viewer', 'href', 'helloalliance', 'strangio', 'pho8', 'correo', 'asax', 'ghanalead', 'rwqvszdus', 'especialhost', 'wells', 'geewizz', 'rewards', 'uniwon', 'crmcolr', 'beep', 'hiperlink', 'dashboard', 'nfcfhosting', 'vendez1site', 'new1', 'accountname', 'darkestzone2', 'remorci', 'simira', 'domit', 'forumactif', 'solocvi', 'hlynge', 'qjhhk', 'xpl', 'candidare', 'cougarboard', 'visaeurope', 'smile', 'pkbsurf', '2fadi', 'sproject', 'llssisto', 'postopetrolina', 'kontacto', 'zlotysalmo', 'hzttz635', 'fledin', '3bord', 'errors', 'pferdefit', 'civis', 'friponne', 'aaaaa', 'nabb', 'ffcf14', 'adminhtml', 'bigflx', '3rdwa', 'sp4m', 'defyyoga', 'jawutozasoxppa', 'sellerctral', 'apalones', 'bestraphappy', 'busterbrands', 'depaardestal', 'jhvjhvhvhjv', 'iptvdeals', 'lakoner', 'mastercollects', '1kwn8ko', 'xinyinhe', 'bak', 'webb', 'comca', 'kundeservice', 'borasbloggen', '53mkzxat', 'cofirmuk', 'sportstech', 'att', 'shopingebay', 'taijishentie', 'ladydmusic', 'webesc', 'sparesboxcm', 'arabella', 'zakoocdabrn', 'agtyjt', 'okvpwdi', 'icici', 'syedtradingco', 'aynilr', 'iranexilis', '80ea13c0affae', 'webtest', 'crossydonalds', 'legroupeedf2', 'signoct', 'sincronizando', 'lienact1on', 'down', 'googupp', 'siir', 'finehotels', 'satunama', 'besworca', 'meortemple', 'cailinpetersen', 'germa', 'jjok', 'petkasem', 'fixeidboard', 'classn', 'brioconseils', 'insgems', 'smarty', 'atknowledge', 'samrhamburg', 'faxcom', 'hismabeher', 'admin1', 'cgd', 'connexion', 'amdsupport', 'ghatreh', 'airshiphistory', 'netb', 'yahoooo', 'hut2', 'dm5', 'bestpen', 'afweh', 'ggdcfrolola', 'proposal', 'secure2q', 'cirter', 'inavlnklog', 'network', 'sivutie', 'messageid', 'sfgeybbjsje', 'gem', 'cft0', '3bamp', 'toilelibre', 'paypalnewest', 'tittertte', 'coalimpex', 'asshidiqiyyah', 'kdvwtcwswmd', 'sunworth', 'kindeditor', 'sintaxedigital', '20safety', 'acaddemia', 'icslogin', 'ymlogin', 'lala', 'yootheme', 'cgh', 'taxrate', 'ayasport', 'capo', 'pulign', 'erna', '20welcome', 'yamexico', 'tmobile', 'zzrs', 'qvxmhyrus', 'cham', 'opsource', 'rococolor', 'access', 'aabad', 'extramileteam', 'tupekvetch', '20tracking', 'linkbadg', 'rugerforum', 'hello1', 'yoviyahatars', 'skysteal', 'lacaixa', 'netsservice', 'plutaspj', 'scgxedu', 'widescreen', 'yfvgqexus', 'colagens', 'realgoldgroup', 'updatepay', 'kreanova', 'activationpp', 'bearben', 'limit1', 'mmus', 'ct00a', 'bsgmall', '1dfkmafdjje', 'lompocmoving', 'ambcf', 'mobilesfree', 'gmaildoc', 'zastapiony', 'freeboard', 'various', '05yahoo', 'spaparty', 'agamaflop', 'mpettis', 'ifq', 'amberisic611', 'severphp', 'intent', 'dnp9', 'htt', 'caviarclub', 'verif', 'imperiumcf', 'sais', 'validation', 'viewfile', 'createfeed', 'hotelcelnice', 'link', 'attention', 'puserid', 'stmposlka', 'site', 'r9lw624exr9nf4', 'trendsspotting', 'users11', 'pbx', 'mpm8', 'tkkf', 'gfdkotriam', 'lijit', 'byadaw', 'imbot', 'transitions', 'navalnautica', 'socialmedia', 'staffkita', 'decline', 'wesreach', 'ninjaeducator', 'somvghmrwil', 'aqhpoqidr', 'nextgphone', 'home29', 'smcsamarakoon', 'comeinbaby', 'cesc', 'asbwebhome', 'incsnetregsdns', 'acco', 'designspd', 'twentyfourteen', 'accountupdate', 'assonet', 'mxurqiswdl', 'rbglogon', 'applestore', 'kiortnion', 'recadastro', 'guilerty', 'davidjone', 'babinet', 'bettle', 'goodle', 'dropboxsecured', 'dialog', 'ajax', 'injusticeil', 'mage', '0jblthbz', 'filewoorddd', 'two', 'ntstky', 'freemobilefr', 'facebooknewapp', 'alalvera', 'mcyengineering', 'dcqoutlet', 'realmoid', 'punto', 'dtbatna', 'mcdir', 'bestdrumset', 'jjus', 'registro', 'hybridtrend', 'foveawaac', 'amfdesigner', 'securecode10', 'propertyology', 'tobybender', 'secure7l', 'modulofm', 'warezlinks', 'foxie', 'dankplus', 'miobilelfree', 'iesjaumei', 'mauritiusboats', 'wundgelaufen', 'recoverypage', 'gep', 'herulambang', 'provincia', 'chatbyorkut3', 'safelinking', 'glivestream', 'negociosvips', 'ful', 'liuheng', '3fservice', 'og0kk2oh', 'https', 'alghiyath', 'secure4o', '8rcybi43', 'nyx37ec', 'tumijicalopd', 'bail', 'comprovativo', 'assistenza', '19y7f9dqhz', 'pswebshop', 'surepolexninja', 'akdaokztz', '08yhrf3', 'lbwear', 'udp', 'offerid', 'bopindia', 'rrweb', 'secu', 'versiontask', 'servelet', '3fn', 'meallservice', 'sigarabirakmak', 'ukuk', 'asaagencia', 'aspnet', 'cjforudesigns', 'bestchemicals', 'mailerdaemon', 'prueba', 'dotartprinting', 'limlim00000', 'jhjfkj', '2013googledocs', 'aproveite', 'mooo', 'leepoo', 'hellspops', 'naddeoporte', 'cmdflowsession', 'bliss', 'inicss', 'annstringer', 'hothousepizza', 'attach', 'dhlexpress', 'revistafale', 'todoterrenousa', 'miner', 'jaaeza', 'updat', 'nobody', 'sodickft', 'naturabiobio', 'bidvest', 'orhislighmi', 'personaldata', 'upl', 'grcntrlde', 'nateka', 'petrepes', 'battl', 'unjustotor', 'portalstream', 'smss', 'dropdocuview', 'alinmaagroup', 'renteriaonline', '2ftr', 'iiwow', 'smxszz', 'remorquesfranc', 'genevagraduate', 'bshowgif', 'decode', 'googlemanual', 'worofrrt', 'altts', 'site90', 'natwestmobile', 'pixtureinfocus', 'gdn', 'sknmdgpy', 'prototype', 'ojoobo', 'batchdeteftps', 'deutschland', 'sinhenbablitt', 'europ', 'cna', 'carshopng', 'treasure', 'tlcs', 'elogos', 'rbioac', 'krasotkilux', 'imgefz', 'polez2', 'craiggallivan', 'espacesfr', 'gargjewellers', 'script', 'drsheltonlaw', 'autentica', 'iniframe', 'mim', 'vktechs', 'ahmadrabiu', 'internetdsl', 'cgibinwebscr', 'securessl120', 'riuoiuem', 'ocenka', 'indexrps', 'srcproduct', 'bjcurio', 'rechnung', 'l2whispering', 'amehac', 'toscana56270', 'excelfile', 'towerrecords', 'loginprodx', 'srrys', 'marigoldtravel', 'ukv0', 'emb', 'ooweb', 'jreoplte', 'purity', 'bleche', 'ahappytrader', '2012webscr', 'pmu', 'h4dquol', '2014googledocs', '26sid', 'mail15', 'jsydjc', 'cjelfont', 'hrmatic', 'dispatch', 'important', 'accountlogin', 'descargas', 'tzzhibao', 'kushdocs', 'hinet', 'amased', 'gog', 's3apsoutheast1', 'imhed', 'newp', 'uaoutsid', 'cppbin', 'dongmun', 'laoxuetang', 'wilcarobbe', 'steelpoolspty', 'escuelavirtual', 'weekendprime', 'pattemplate', 'retipanzio', 'resolutionc', 'gmqhfktcnz', 'doctorsantis', 'areariservata', 'manageaccounts', 'wwwddweuhfinz', 'ib2k1', 'onlinesupport', 'vqd', 'a6cx3', '10mayo', 'brtt', 'docman', 'giantid', 'hallmarkteam', 'srxrun', 'cafecompixel', 'poolspa', 'dpbx', 'crabdance', 'layerslider', '2fusers', 'log', 'conexiondevida', 'h9kyu', 'khmerleu', 'iranshik', 'square9ksa', 'button', 'rubberduckdev', '20pay', 'veriefd', 'bllhicksco', 'ysgrp', 'ffus', 'gourmetlimes', 'crownhome', 'tabidzuwek', 'cpde7aewq9', 'cparts', 'banners', 'camerondavid', 'thomba', 'xlspdf', 'welcomescreen', 'wxlaa', 'install', 'blocked', 'gcweb', 'bounce', 'newpage', 'dhfgfgshds', 'cgiexpired', 'oogle', 'tzjwrml', 'hlb', 'gkrfsxotef', 'stevendaluz', 'ilmdesign', 'unntj', 'yuchengtech', 'nutzung', 'santandernet', 'risposta', 'metalmozel', 'aawow', 'ajs', 'ellaget', 'zadmin', 'cers', 'hott', 'bot', 'twentyeleven', 'mailchimp', 'asrcargo', 'config', 'step3', 'crossroadspd', 'caminettilcd', 'olfen', 'zivoab', 'banyapike', 'cixx6', '3bapp', 'fbrslnilt', 'adsbanner', 'xyh', 'bankmain', 'phishtank', 'logonhandler', 'jvdiiuqrotoj', 'guyoppenheim', 'paypla', 'cgiin', 'hiniet', 'ecstunings', 'portalbb', 'jafra', 'apteka2000', 'aolfile010', 'evrosatory', 'jcomments', 'primeiroacesso', 'amobicdn', 'equiposgb', 'ufh7', 'houstontpreia', 'fqdmfcsrp', '21aqarqajq', 'jumptheq', 'auctiondb', 'sharetolink', 'activ', 'forumeritrea', 'qianzheng08', 'vnd', 'blg', 'mobi', 'dnabtaew', 'dealerjoin', 'jinxiuyuanlin', 'rentvspb', 'fullz', 'activar', '2fservicelogin', 'paulopr', 'capac', 'aproveite2', 'kiola', 'bandkhasi', 'sjclogin', 'redebay', 'kingsportclub', 'yonetim', 'dudleyfiledoc', 'loging', 'yahoogame1', 'copy', 'studio911', 'socks', 'hvfxymh', 'altascdn', 'brochure', 'xmljn', 'mobunykedafppa', 'ailogin', 'qdking', 'akinave', 'paypalcgibin', 'launch', 'ibpflogin', 'license', 'dozl', 'obi', 'ext', 'fifatms', 'aspxn', 'gb0ouoni', 'thecrow', 'mails1', 'm1n', 'appstore', 'essei', 'conserpa', 'woa', 'alagroup', '3fcmd', 'exceeddating', 'jhg45s', '487ygfh', 'photobooths2u', 'cho', 'vpic22', 'amcnamibia', 'indexx', 'bigdishsat', 'seoblog', 'lidanhang', 'nbawallpaper', '2fmedia', 'gssss', 'surpreenda', 'glifo', 'hello', 'redirec', 'kfc', 'modulas', 'limit100', 'docusiign', 'lundoo', 'perobalinfo', 'tempremio', 'acpf', '73hqiqaazbo', 'maggycocoa', 'lifestylzgh', 'avon2you', 'parroquiansg', 'astuin', 'afatrading', 'alhambra', 'hid', '2ffra1', 'monferencompte', 'googledrivee', 'chatbyorkut5', 'atlescopco', 'jcnnhs', 'comule', 'knoxtyres', 'doccu', 'eandcweddings', 'timeserver', 'teaduniya', 'villaggio', 'intribune', 'ggok', 'shaktihomeja', 'trucksbyswat', 'reefran', 'bluebit', 'partyeazy', 'bluemarine', 'ytxx', 'fintii', 'buyersclub', 'pagina', 'xolodteplo', 'skpc', 'dysolutions', 'ahk', 'japereznow', 'payp', 'yak', 'omine', 'ambiente', 'mziep', 'ipiranga', 'monitor', 'synology', 'crossefreitas', 'doswf', 'webcsr', 'wpg', 'strangled', 'dacompsc', 'nanostats', 'itbsbr', 'ponso', 'beautyplus', 'hofstetterfam', 'riobooks', 'wagdumpy', 'dgnbzx', 'organtranspl', 'gfkhctn9oplmo', 'motefugue', 'rnv', 'upgra', 'appleid', '3asnsld', 'baltnet', 'jjlzfd', 'allprojectors', 'securecode12', 'bksh', 'thetestserver', 'mobfrmoncompt', 'hao', 'costumer', 'thecafe7', 'citycollection', 'hwdvideos', 'actualizacion', 'plpl', 'cmdrun', 'blizzardwoweu', 'lucasfix', 'icootablet', 'viewproducts', 'stchadsprimary', 'playback', 'qws', 'pececitos', 'joomla', 'envatomarket', 'mfmazetomatrix', 'penisbook', 'allinfo', 'feiyang163', 'lucca', 'p1ed6d5qr8', 'popup', 'igperljus', 'emktuolhost', 'hotvideo', 'qvo6', 'hejnet', 'charly', 'mre', 'lucky', 'wait', 'dfgsdf', 'maxshoppppsr', 'richardlipman', 'thebestdoctor', 'habbo', 'lmmyb', 'fcgdansk36', 'webscr2', 'loginupdate', 'squareenix', 'fodgeslade', 'avalonasics', 'myform', 'allnorilsk', 'rviewdoc', 'blogsite', 'phonedpp', 'prive', 'mubashar786', 'securepage', '0uk', 'id3', 'jmd14o2pfq', 'pontos', 'genesis', 'cani', 'unionapparel', 'kitsgnt', 'bantayan', 'dopbcp', 'arrowequipinc', 'thinkquotes', 'bck', 'humans', 'setting', 'syshost', 'malicioso', '2fd', 'cpbph2', 'santander2016', 'miracle', 'afk1td', 'around4percent', 'acpaeqypt', 'jp1wq', 'fqafb', 'peymanneon', 'rhuk', 'circular', 'paypalpayment', 'test1', 'petruskaandras', 'cvv', 'bkp', 'maj', 'mountaustin', 'raihaan', 'sportlab', 'wellsfargo', 'meimei', 'st1', 'webadmin', 'timschool11', 'subjugable', 'kinosiaxle', 'upsforless', 'cozumportal', 'zxq', 'bevestignu', 'videoplugin', 'turbomilk', 'netinl', 'forensic611', 'cloudsota', 'abonnesneuf', 'xmadwater', 'opendoor', 'bbs', 'googlerobot', 'thank', 'mowershop', 'mmmagic', 'screenshots', 'magento', 'phpmailbox', 'seospell', 'yonderhost', 'bukhlo', 'tztxx', 'mihesfitons', 'broker', 'fw43t2d', 'ispacs', 'bankinfo', 'onlineaccess', 'mecanoexim', 'june1st', 'netsolhost', 'caggynext', 'opiekun', 'abbey', 'lviv', 'googledrs9404', 'ymkpfid', '20ssh', 'coolconcept', 'theshangai', 'lu2', 'hotvideo002', 'notice', 'sushilcheema', 'logindonelogin', 'prideubike', 'survy', 'f14de58cef', 'euromoversae', 'mywa2pay', 'sup2', 'motivacao', 'verifi', 'ewings', 'busederin', 'yamahaprodej', 'paiapark', 'zaiyoudao', 'smssecurity', 'sinklinga', 'verifed', 'googlecode', 'netguard', 'jscritp', 'sof', 'ddns', 'o2switch', 'automatemyhome', 'hacticdocs', 'fullcalendar', 'sabesabe', 'allegropl', 'jsf', 'yus', 'anahuac', 'dabihfluky', 'bav', 'host56', 'gogcnfpge', 'bilder', 'wbyd', 'kemymr', 'redirecting', 'goneva', 'claimed', 'buringle', 'aliarifkuru', 'goodlandbeer', 'speedhosting', '3bssl', 'mat2', 'wwweb', 'archdental', 'nycwebapps', '2foptimizedby', 'ualub', 'gdrive', 'handsomegroup', 'svc', 'twomini', 'essere', 'yaic', 'backups', 'rect', 'thaisupp', 'aapf', 'visa', 'bboyoriginal', 'acewellpc', 'camelcap', 'kindlecatena', 'zgtpsm2', 'betwer', 'csscott', 'balayeskwela', 'windhoek', 'bnpparibas', 'paracompras', 'revslider', 'cbice', 'pejustitha', 'zenchateau', 'idealuze', 'juridica', 'inclnde', 'xzguoyuan', 'dosyalar', 'birikkfus', 'cruz', 'balboafitness', 'perhaps', 'bebesytoys', 'comun2008', 'webscrprim', 'relacionamento', 'atalhodeletras', 'luzetowegodppa', 'brasil', 'bookzworld', 'backup', 'tesco', 'archivos', 'bnefhbdjcmsgv', 'buzines24', 'cart', 'mlvmmkcus', 'italchimici', 'efax', 'tvcacapava', 'tmpl', 'xitaow', 'azeb', 'ecqjbmeus', 'cinavro', 'chiatena', 'microsoftntdll', 'bptanxtamp', 'brothermalw', 'zzwow', 'ugu', 'ibk', 'yunagi', 'aceesss', 'hammondscopy', 'wsebayisapi', 'verification', 'swfobject', 'initiate', 'bsina', 'osb', 'kyplex', 'lkshmjwyyl', 'creditsuisse', 'oscsid', 'recaptcha', 'greigh', 'theivorycloset', 'soloseg', 'dbaza', 'hjartholm', 'googledocs', 'accept', 'dotomi', 'fgallery', 'fecha', 'dri', 'blogcu', 'forumsource', 'wcom', 'scss', 'ptbr', 'mission1701', 'paype', 'neweb', 'wertyfghdfg', 'thumbtemp', 'rekudm', 'araoa', 'tigadiva', 'yulubiji', 'xrovq', 'servehttp', 'flrndesign', 'frame', 'nyumbabora', 'aknoblach', '20outlook', 'szw', '20modified', 'upperclassmen', 'realize', '2fdocs', 'ire', 'accountpaypal', 'buycarbontubes', 'aerosfera', 'nethosting', 'reibatuta', 'downf468', 'a7ce0ea3', 'updat1', 'xiazaidown', 'ruggededge', '2feu', 'andrewpearle', 'seun', 'npbelgorod', 'consistwa', 'scpremiumbikes', 'enologo', 'poypal', 'wellsfarg0', 'uhbhoxcks', 'thanks', 'irprpro', 'sgcknyez', 'informazioni', 'topconn', 'cookieid', 'dexteriscool', 'layer', 'mapercihem', 'ijbeta', 'khalifacapital', '2fviewform', 'kkeolnaus', 'campsiestudio', 'bronxbehen', 'fundive', 'bannieres', 'verfied', 'gurlfanam', 'testapk', 'gratis', 'anhsaodem', 'inddex', 'mzsth', 'nb4vervge', 'survey', 'dopaving', 'zdcntrlde', 'houseofquality', 'malutu', 'lnhcxh', 'benavidezhoy', 'heriaisi', 'mygold', 'majorfitus', 'bcpzonasegura', '3designcenter', 'uispii', 'homepageoud', 'trendspot', 'co8bo23vsd', 'xaa', 'disbitch', 'plastikcin', 'grbj', 'alabaka', 'yologin', 'biophyt', 'analytics2', 'lmafamor', 'birbakim', 'sincronismo', 'bagnet', 'ppf', 'henanjf', 'ree', 'vtrbandaancha', 'g3i9prnb', 'zaccariapietro', 'bzu', 'formanovus', 'osid', 'stratohosting', 'calendario', 'kiaservice', 'rdlbd', 'driverupdater', 'protection', 'lanre', 'beerbirds', 'linkbucks', 'smkybnt', 'mcwh', 'climairuk', 'fccjourney', 'debie', 'reactivation', '26username', 'pypl', 'dhl', 'customize', 'fsscfjt', 'illuminationes', 'hanmal', 'gsbikes', 'googleadwords', 'lanapyxefyfppa', 'abonnement', 'fontawesome', 'themovieforum', 'webrss', 'cjsboisset', 'azerltd', 'jamstandguitar', 'dkda', 'dossier', 'umstellung', 'thgrupo', 'milanadeti', 'homegallery', 'redirurl', 'paypals', 'firstchoiceok', 'boduim', 'cedrussauna', '20online', 'tourstogo', 'zechbur', 'gucci', 'travicoperu', 'xotrack', 'living4u', 'herf', 'dypvxigdwyf', 'fizjoterapiamm', 'fungasoap', 'pedroananias', 'sim', 'cdnlivecn', 'tgpoa', 'offerte', 'pagedoc', 'surve', '20electron', 'jackkwizc', '9dotlabs', 'zuerichgewerbe', 'cartasi', 'tunadesign', 'masterclient', 'adddomain', 'verite', 'acepolls', 'dpx', 'goldencat', 'wndyvfpus', 'sbt32', 'pal', 'jetpack', 'koethme', 'fincalabella', 'oppimateriaali', 'openid', 'misapor', 'steelworks', 'mtxserv', 'wreply', 'hjghjt872', 'anthienphat', 'data1', 'cached', 'omediacorp', 'thecodega', '20your', 'contributi', 'exchweb', 'tem', 'servicerequest', 'expathiring', 'plat', 'cpbrandindia', 'radionovigrad', 'techdan', 'mentoring', 'hzffuhptogj', '20paggies', 'atmagencja', 'pll', 'boutiquell', 'ggus', 'annalynndanh', '148onepw', 'bigbagtrever', 'viewtradeorder', 'cortorzga', 'httpswww', 'nb20gjbv', '0forums', 'cbautocare', 'sitio', 'dropboxbyemail', 'rozup', 'confirmphone', 'momtazit', 'eurofeeke', 'pojejena', 'indezx', 'remove', 'xmlprc', 'ingegnere', 'vozq', 'goupdatecoords', 'myhostcenter', 'homezone', 'darknightpress', 's2mgmt', 'jjscdc', 'upn', 'mobatory', 'newbas', 'kiltonmotor', 'fundacionmoya', 'twoofus', 'transemea', 'wws', 'arcftp', 'idyllicmyanmar', 'duplicator', 'ttus', 'noul', 'u9reuamq9k', 'sdi', '20document', '26upsid', 'thombas', 'uphero', 'hhmunlxtxjpv', 'pplhmed', 'forschermaeuse', 'pravo', 'wellsfargoo', 'owo', 'tuo', 'mpu', 'nabacdesign', 'pescaycia', 'fisica', 'appleworldwide', 'sigin', 'gemont', 'dionnewarwick', 'lensstrap', 'dizaynasansor', 'naqycirefujppa', 'iintx', 'altfarm', 'thamrinnine', 'servepics', 'dodon', 'lose', 'oranjetours', 'gdocmolee', 'mowebplus', '2fams1', 'phpsessid', 'eruku', 'droneview', '360antivirus', 'cifkvluxh', 'redset', 'problem', 'theprojectowns', 'appr', 'auth', '26source', 'cbce', 'exms', 'regione', 'cum', 'ngate', 'helpaccaunts', 'equieplinkedin', 'intra', 'gifv', 'nealychy', 'rnjnj77rfrf', 'imge', 'hnqcctat', 'sunjsc', 'filmimg', 'sayyahat', 'rdovicia', 'kjghkjdfjhdc', 'nice', 'wibcjkwrk', 'waka22', 'colf', 'duckdns', 'sunaarise', 'jobss', 'ryangraber', 'dm7', 'tender', 'mundoescolarrd', 'cq2', 'institutocgr', 'googledrive', 'welcomeback', 'kenntnis', 'zxpos', 'cpc', 'dados', 'uo7', 'mapharma', '09uhv65hg', 'dwt', 'secure2z', 'noenoehawaii', 'site88', 'siteid', 'damascusbureau', 'fotos', 'namesoizze', 'nazwa', 'iverwo', 'comoj', 'unimetrika', 'nembi', 'redhongan', 'owow', 'sabedingcal', 'm5mfew2gy3', 'googledrv', 'sylogin', 'platinum', 'bakkenoil', 'gaseyes', 'asbbank', 'seastnergy', 'tokenid', 'tuars', 'liyantang2008', 'mebuser', 'bit', 'furehoqa', 'potbnb', 'euroreport24', 'emaildominion', 'ronaldolacerda', 'scupwail', 'tecportais', 'htaccess', 'laizan', 'confi', 'accountcom', 'uydikuo', 'supportpaypal', 'emlinvite', 'loginerror', 'msydispatch', 'tryton', 'pakfreewebs', 'mbstring', 'g6sa54f65asdf', 'replacecurrent', 'foodmoiet514', 'bofs', 'freedompay', 'securecode1', 'cargando', 'fusionx', '20global', 'xxyy111', 'grabbah', '2ccf', 'boaa', 'verify1', 'usupdate', 'd6jdhr', 'nameoncard', 'ecoledesalsa', 'nvmoy', 'canadapaypal', 'secure9a', 'pacworld', 'plo5xide', 'helpers', 'homeupdate', 'accessadress', 'requests', 'blueprint', 'hnhus', 'cmdhome', 'metatur', 'jobgroup', 'elainedirollo', 'd3wowaccount', 'oldweb', 'webmaillogon', 'loca', 'badminton2008', 'fflogin', 'dqpacific', 'roflingleugh', 'totalh', 'pma', 'alltimefacts', '9u8jreve', '02ipad', 'ceazivie', 'importarmas', 'teratv', 'sdoc22', 'balticspark', 'espacesrevenus', 'school76', 'webid', '3utilities', 'hotelsirius', 'googledrivez', 'zboard', 'rightbusiness', 'ascarz', 'upupup', 'thumb', '26flv', 'ls6', 'yl54uh', 'striking', 'tytswirl', 'nflwallpaper', 'thisnspeel', 'yoxi', 'wnordisk', 'bincgi', 'hikonefabebppp', 'sowhatresearch', 'dmslcfwq', 'wpp', 'visaluxemburg', 'autoyoung', 'vetchsoda', 'sicurezza', 'sab', 'kolonker', 'tozosei', 'palpay', 'bancoestado', 'functions', 'hikonefabebppw', 'thumbs', 'activate', 'ucmattress', 'versus', '20network', 'rusarmy', 'pmmetrix', 'bilbaopisos', 'sicher', 'aspirehomes', 'ggvfv2', 'blizzard', 'raimint', 'emiratee', 'websamrat', 'womenwan', 'twup', 'pageimages', 'jupgrade', 'comen', 'serv', 'nazuka', 'talyavylyt', 'rapidfeeds', 'wcontents', 'drooppbx', 'disk', 'ammalewth', 'in3h', 'decoinonline', 'ihbp', 'hsbc', 'demisetoken', 'sunyes', 'inp6', 'purebanquet', 'contain', 'advertisers', 'jpeg', 'o2zerogravity', 'joeinfo', 'securelogin', 'tncbio', 'mostafaahmadi', 'able', 'anarchyvapor', 'mediaalias', 'szyft', 'swlqkwbfo', 'myshop', 'goodleader', '20banking', 'ncore', 'webroot', 'jar', 'mgsmedia', 'commondem', 'berryescott', 'dotf', 'stylelikeours', 'tmdhosting310', 'webcambild', 'sec1', 'merlyna', 'gdriveother', 'privaces', 'beineinu', 'robtozier', 'gdxjabh', 'deanstum', 'zaaqw', 'mache', 'memo', 'mobunykedapd', 'bbt', 'claukrus', 'mailboxfud', 'missaoyahweh', 'eaglemouth', 'confermation', 'ukontentowanie', 'studiomancini', 'avaco', 'passe', 'topic77', 'datec24', 'jayshreeindia', 'jce', 'rembrandtcs', 'db2', 'encryptedmail', 'hqpsvwa', 'autokover', 'wkamgyqqy', 'sape', 'sitestate', 'logina', 'googupps', '7fg3g', 'dtree', 'fsdsff', 'framework', 'bonus', 'hamed', '26fpr', 'besaba', 'onlybest76', 'permit', 'securedocument', 'onlinettcopy', 'bandarepudio', 'daedalus', 'qvwu4f', 'lopatinamarina', 'those', 'yyeu', 'licence', 'neimucher', 'neysn', 'boosterpc', 'zonalzone', 'mamama', 'deactivation', 'jotm', 'storegate', 'rbunxcgi', 'shobhanvijay', 'jmetalloysllp']\n"
     ]
    }
   ],
   "source": [
    "def read_words_from_file(file_name):\n",
    "  with open(file_name, 'r') as file:\n",
    "    words = [line.strip().split(',')[0].strip(\"('\") for line in file]\n",
    "  return words\n",
    "\n",
    "def combine_lists(list1, list2):\n",
    "  return list(set(list1 + list2))\n",
    "\n",
    "words_only_in_bad_urls_file = '../extracted_information/bad_url/words_only_in_bad_urls.txt'\n",
    "words_in_common_greater_than_70_file = '../extracted_information/bad_url/words_in_common_greater_than_70.txt'\n",
    "\n",
    "# Read words from both files\n",
    "words_only_in_bad_urls = read_words_from_file(words_only_in_bad_urls_file)\n",
    "words_in_common_greater_than_70 = read_words_from_file(words_in_common_greater_than_70_file)\n",
    "\n",
    "# Combine the lists\n",
    "all_words_list = combine_lists(words_only_in_bad_urls, words_in_common_greater_than_70)\n",
    "\n",
    "print(all_words_list)"
   ]
  },
  {
   "cell_type": "markdown",
   "metadata": {},
   "source": [
    "### Adding New Column For Count Of Bad URL Words Present in the URL"
   ]
  },
  {
   "cell_type": "code",
   "execution_count": 20,
   "metadata": {},
   "outputs": [],
   "source": [
    "def count_words_in_list(words_list, all_words_list):\n",
    "    count = 0\n",
    "    for word in words_list:\n",
    "        if word in all_words_list:\n",
    "            count += 1\n",
    "    return count\n",
    "\n",
    "# Create a new column with word counts for each URL string\n",
    "dataset['word_count'] = dataset['URL'].apply(lambda url_string: re.split(r\"[/,.,?,-,+,=,&,~,!,@,#,$,%,_,;]\", url_string))\n",
    "dataset['word_count'] = dataset['word_count'].apply(lambda words_list: count_words_in_list(words_list, all_words_list))\n",
    "\n",
    "# Now 'dataset' will have a new column 'word_count' with the count of words from 'all_words_list' for each URL string\n",
    "# Reorder the columns in the DataFrame\n",
    "desired_column_order = list(dataset.columns[:-2]) + ['word_count'] + [dataset.columns[-2]]\n",
    "dataset = dataset[desired_column_order]"
   ]
  },
  {
   "cell_type": "markdown",
   "metadata": {},
   "source": [
    "## Importing Top Level Domain in Bad URLs"
   ]
  },
  {
   "cell_type": "markdown",
   "metadata": {},
   "source": [
    "### Importing Data From Text Files and Storing in List"
   ]
  },
  {
   "cell_type": "code",
   "execution_count": 21,
   "metadata": {},
   "outputs": [
    {
     "name": "stdout",
     "output_type": "stream",
     "text": [
      "[('com', 361638), ('org', 48631), ('net', 23436), ('ca', 10886), ('edu', 10060), ('uk', 8479), ('ru', 6193), ('info', 4366), ('br', 4129), ('au', 4081), ('de', 3185), ('gov', 3038), ('pl', 2686), ('biz', 2319), ('in', 2186), ('it', 2114), ('us', 1851), ('cn', 1800), ('fr', 1747), ('mx', 1508), ('nl', 1463), ('ro', 1290), ('cl', 1196), ('eu', 1155), ('za', 1045), ('asia', 953), ('tk', 950), ('cz', 833), ('es', 790), ('fm', 782), ('top', 750), ('se', 714), ('ar', 691), ('be', 686), ('xyz', 644), ('pw', 633), ('su', 583), ('nz', 580), ('jp', 577), ('ua', 538), ('co', 534), ('hu', 526), ('at', 520), ('me', 513), ('ch', 510), ('dk', 505), ('gr', 440), ('ly', 421), ('tv', 415), ('ir', 413), ('vn', 390), ('cc', 375), ('id', 373), ('work', 373), ('tr', 355), ('ie', 351), ('name', 348), ('to', 341), ('kr', 316), ('pt', 310), ('ws', 292), ('click', 281), ('no', 256), ('by', 253), ('il', 251), ('my', 247), ('kz', 246), ('fi', 233), ('sk', 232), ('si', 211), ('mil', 205), ('mobi', 192), ('com ', 190), ('th', 186), ('pk', 185), ('sg', 176), ('ph', 175), ('hk', 164), ('lt', 162), ('mn', 161), ('tw', 160), ('rs', 156), ('online', 153), ('gl', 140), ('ae', 132), ('pe', 126), ('nu', 124), ('ve', 117), ('ke', 116), ('bd', 111), ('ma', 96), ('cf', 96), ('ga', 95), ('mu', 92), ('bg', 91), ('cx', 84), ('onion', 82), ('club', 80), ('lk', 78), ('ml', 78), ('host', 76), ('bo', 74), ('ms', 70), ('ee', 70), ('pro', 69), ('np', 68), ('ng', 67), ('lv', 67), ('cc ', 66), ('ga ', 64), ('gq', 63), ('is', 62), ('uy', 62), ('ge', 61), ('cm', 60), ('am', 59), ('ba', 58), ('COM', 58), ('int', 56), ('hr', 54), ('bid', 54), ('tf', 51), ('xn--p1ai', 51), ('travel', 51), ('vu', 50), ('info ', 50), ('org ', 48), ('tc', 47), ('wang', 45), ('website ', 44), ('co ', 44), ('link', 41), ('ht', 40), ('jobs', 39), ('cat', 38), ('ac', 38), (' net', 38), ('uk ', 38), ('net ', 38), ('tk ', 38), ('az', 36), ('site', 36), ('html', 36), ('gdn', 36), ('io', 35), ('gt', 35), ('space', 35), ('uz', 33), ('so', 33), ('lu', 32), ('sv', 32), ('mk', 32), ('md', 32), ('mz', 32), ('party', 32), ('de ', 30), ('bz', 29), ('ec', 28), ('li', 28), ('tz', 28), ('tn', 27), ('nf', 26), ('py', 26), ('online ', 26), ('gs', 25), ('la', 24), (' biz', 24), (' com', 24), (' co', 24), ('vc', 23), ('ug', 23), ('tech', 22), ('rw', 22), (' ch', 22), ('tl', 21), ('zw', 21), ('coop', 21), ('tt', 21), ('do', 20), ('pn', 20), ('cr', 20), ('sa', 20), ('cy', 20), ('lb', 20), ('win', 19), ('legal', 19), ('kh', 18), ('im', 18), ('exe', 18), ('news', 18), ('al', 17), ('cab', 17), ('gg', 16), ('church', 16), ('tj', 15), ('com:80', 15), ('tel', 14), ('support', 14), ('st', 13), ('aero', 13), ('sy', 13), ('website', 13), ('date', 13), ('ai', 12), ('mt', 12), ('bw', 12), ('org:81', 12), ('swf', 12), ('yt', 12), ('kg', 10), ('sn', 10), ('mp', 10), ('\\\\u200acom\\\\u200a', 10), ('class', 10), ('ftp:', 10), ('cgi-bin', 10), ('aspx?e1=', 10), ('aspx?i5=', 10), ('ORG', 10), ('NET', 9), ('ao', 9), ('expert', 9), ('ad', 8), ('ps', 8), ('nr', 8), ('vg', 8), ('hm', 8), ('com:81', 8), ('photo', 8), ('api', 8), ('science', 8), ('lol', 8), ('cd', 7), ('eg', 7), ('bt', 7), ('af', 7), ('download', 7), ('vacations', 7), ('as', 6), ('gd', 6), ('ni', 6), ('faith', 6), ('biz:81', 6), ('hxxp:', 6), ('city', 6), ('tm', 5), ('sh', 5), ('na', 5), ('je', 5), ('mw', 5), ('trade', 5), ('jm', 5), ('mg', 5), ('va', 5), ('com:82', 4), ('sd', 4), ('edu:81', 4), ('bb', 4), ('com:98', 4), ('review', 4), ('one', 4), ('global', 4), ('re', 4), ('biz:88', 4), (' at', 4), ('\\\\u200anet\\\\u200a', 4), ('mm', 4), ('sx', 4), ('win32', 4), ('Data', 4), ('rocks', 4), ('webcam', 4), ('INFO', 4), ('loan', 4), ('alsace', 4), ('moe', 4), ('bf', 3), ('ci', 3), ('net:84', 3), ('bm', 3), ('fj', 3), ('media', 3), ('cloud', 3), ('clinic', 3), ('museum', 3), ('an', 2), ('gh', 2), ('zm', 2), ('tg', 2), ('bin', 2), ('com:84', 2), ('net:83', 2), ('om', 2), ('mc', 2), ('org:70', 2), ('live', 2), ('buzz', 2), ('sc', 2), ('today', 2), ('bs', 2), ('ink', 2), ('life', 2), ('services', 2), ('casa', 2), ('org:', 2), ('dj', 2), ('vi', 2), ('asp', 2), ('aspx', 2), ('micro', 2), ('biz:86', 2), ('org:82', 2), ('org:83', 2), ('info:82', 2), ('org:85', 2), ('org:88', 2), ('info:1', 2), ('institute', 2), ('jpg', 2), ('asp?act=', 2), (' hu', 2), ('netsync1', 2), ('netex1', 2), ('netsync2', 2), ('bak', 2), ('products', 2), ('xxx', 2), ('apple=', 2), ('js', 2), ('php?win=1', 2), ('php?win=4', 2), ('http\\\\u200a:', 2), ('\\\\u200atw\\\\u200a', 2), ('com - GET', 2), ('net - GET', 2), ('dll', 2), ('mcr', 2), ('htpp:', 2), ('pm', 2), ('info:443', 2), (']com', 2), ('225slave', 2), ('systems', 2), ('http: ', 2), ('coupons', 2), ('blog', 2), ('mapquest', 2), ('ftpbc', 2), ('ccgrabber', 2), ('ccrc=', 2), ('ut=User', 2), ('php', 2), ('localip=', 2), ('winver=', 2), ('jar', 2), ('qa', 2), ('gift', 2), ('images', 2), ('Mozilla', 2), ('agency', 2), ('london', 2), ('xz', 2), ('mo', 2), ('racing', 2), ('CO', 2), ('RU', 2), ('help', 2), ('coffee', 2), ('rip', 2), ('tips', 2), ('tftp:', 2), ('wiki', 2), ('UK', 2), ('US', 2), ('big', 2), ('bi', 1), ('js?', 1), ('et', 1), ('lc', 1), ('pa', 1), ('com?', 1), ('ky', 1), ('ck', 1), ('net:81', 1), ('fo', 1), ('care', 1), ('equipment', 1), ('press', 1), ('builders', 1), ('run', 1), ('tools', 1), ('tax', 1), ('market', 1), ('world', 1), ('pg', 1), ('gm', 1), ('computer', 1), ('pf', 1), ('catering', 1), ('ZA', 1), ('#NAME?', 1), ('sz', 1), ('bh', 1), ('cu', 1), ('bj', 1)]\n"
     ]
    }
   ],
   "source": [
    "#NEW \n",
    "def read_tuples_from_file(file_path):\n",
    "  with open(file_path, 'r') as file:\n",
    "    lines = file.readlines()\n",
    "  \n",
    "  tuples_list = []\n",
    "  for line in lines:\n",
    "    # Remove parentheses and split the line by comma and whitespace\n",
    "    word, frequency = line.strip('()\\n').split(', ')\n",
    "    # Remove extra single quotes from the word\n",
    "    word = word.strip(\"'\")  \n",
    "    frequency = int(frequency)\n",
    "    tuples_list.append((word, frequency))\n",
    "\n",
    "  return tuples_list\n",
    "\n",
    "file_path = '../extracted_information/bad_url/bad_url_top_level_domains_with_frequency.txt'\n",
    "tuples_list = read_tuples_from_file(file_path)\n",
    "\n",
    "print(tuples_list)\n"
   ]
  },
  {
   "cell_type": "markdown",
   "metadata": {},
   "source": [
    "### Filter Words having Frequency >= 15"
   ]
  },
  {
   "cell_type": "code",
   "execution_count": 22,
   "metadata": {},
   "outputs": [],
   "source": [
    "def filter_words_by_frequency(tuples_list, min_frequency):\n",
    "  filtered_words = []\n",
    "  for word, frequency in tuples_list:\n",
    "    if frequency > min_frequency:\n",
    "      filtered_words.append(word)\n",
    "  return filtered_words"
   ]
  },
  {
   "cell_type": "code",
   "execution_count": 23,
   "metadata": {},
   "outputs": [
    {
     "name": "stdout",
     "output_type": "stream",
     "text": [
      "['com', 'org', 'net', 'ca', 'edu', 'uk', 'ru', 'info', 'br', 'au', 'de', 'gov', 'pl', 'biz', 'in', 'it', 'us', 'cn', 'fr', 'mx', 'nl', 'ro', 'cl', 'eu', 'za', 'asia', 'tk', 'cz', 'es', 'fm', 'top', 'se', 'ar', 'be', 'xyz', 'pw', 'su', 'nz', 'jp', 'ua', 'co', 'hu', 'at', 'me', 'ch', 'dk', 'gr', 'ly', 'tv', 'ir', 'vn', 'cc', 'id', 'work', 'tr', 'ie', 'name', 'to', 'kr', 'pt', 'ws', 'click', 'no', 'by', 'il', 'my', 'kz', 'fi', 'sk', 'si', 'mil', 'mobi', 'com ', 'th', 'pk', 'sg', 'ph', 'hk', 'lt', 'mn', 'tw', 'rs', 'online', 'gl', 'ae', 'pe', 'nu', 've', 'ke', 'bd', 'ma', 'cf', 'ga', 'mu', 'bg', 'cx', 'onion', 'club', 'lk', 'ml', 'host', 'bo', 'ms', 'ee', 'pro', 'np', 'ng', 'lv', 'cc ', 'ga ', 'gq', 'is', 'uy', 'ge', 'cm', 'am', 'ba', 'COM', 'int', 'hr', 'bid', 'tf', 'xn--p1ai', 'travel', 'vu', 'info ', 'org ', 'tc', 'wang', 'website ', 'co ', 'link', 'ht', 'jobs', 'cat', 'ac', ' net', 'uk ', 'net ', 'tk ', 'az', 'site', 'html', 'gdn', 'io', 'gt', 'space', 'uz', 'so', 'lu', 'sv', 'mk', 'md', 'mz', 'party', 'de ', 'bz', 'ec', 'li', 'tz', 'tn', 'nf', 'py', 'online ', 'gs', 'la', ' biz', ' com', ' co', 'vc', 'ug', 'tech', 'rw', ' ch', 'tl', 'zw', 'coop', 'tt', 'do', 'pn', 'cr', 'sa', 'cy', 'lb', 'win', 'legal', 'kh', 'im', 'exe', 'news', 'al', 'cab', 'gg', 'church', 'tj', 'com:80']\n"
     ]
    }
   ],
   "source": [
    "min_frequency = 14\n",
    "filtered_words_list = filter_words_by_frequency(tuples_list, min_frequency)\n",
    "print(filtered_words_list)"
   ]
  },
  {
   "cell_type": "markdown",
   "metadata": {},
   "source": [
    "### Adding New Column For Count of Top Level Domain in path_rest"
   ]
  },
  {
   "cell_type": "code",
   "execution_count": 24,
   "metadata": {},
   "outputs": [
    {
     "name": "stdout",
     "output_type": "stream",
     "text": [
      "                                                    URL  \\\n",
      "0     ztipptops.org/pCntrlde/webscr.php?cmd_=session...   \n",
      "1     krotzons.com/aG9tb3RoLmhub0B0LW9ubGluZS5kZQ==/...   \n",
      "2     www.gorconsul.ru/plugins/paypal.com/webscr/m/e...   \n",
      "3     krotzons.com/am9iYWJlcm5lckB0LW9ubGluZS5kZQ==/...   \n",
      "4     paypal.us.xn-----vldfgifeq7dua2hckj.net/webscr...   \n",
      "...                                                 ...   \n",
      "2428  ztipptops.org/pCntrlde/webscr.php?cmd_=session...   \n",
      "2429  krotzon.biz/pCntrlde/webscr.php?cmd_=session.s...   \n",
      "2430  ztipptops.org/pCntrlde/webscr.php?cmd_=session...   \n",
      "2431  ztipptops.org/pCntrlde/webscr.php?cmd_=session...   \n",
      "2432  krotzons.com/pCntrlde/webscr.php?cmd_=session....   \n",
      "\n",
      "                                       domain  tld  \\\n",
      "0                               ztipptops.org  org   \n",
      "1                                krotzons.com  com   \n",
      "2                            www.gorconsul.ru   ru   \n",
      "3                                krotzons.com  com   \n",
      "4     paypal.us.xn-----vldfgifeq7dua2hckj.net  net   \n",
      "...                                       ...  ...   \n",
      "2428                            ztipptops.org  org   \n",
      "2429                              krotzon.biz  biz   \n",
      "2430                            ztipptops.org  org   \n",
      "2431                            ztipptops.org  org   \n",
      "2432                             krotzons.com  com   \n",
      "\n",
      "                                              path_rest  url_length  \\\n",
      "0     pCntrlde/webscr.php.com?cmd_=session.start&amp...          98   \n",
      "1     aG9tb3RoLmhub0B0LW9ubGluZS5kZQ==/DEsdR/cgi1unp...          70   \n",
      "2     plugins/paypal.com/webscr/m/e/q/p/z/x/j/id=102...          77   \n",
      "3     am9iYWJlcm5lckB0LW9ubGluZS5kZQ==/DEsdR/cgiq5pd...          70   \n",
      "4     webscr.php?cmd=_login-run&dispatch=5885d80a13c...         203   \n",
      "...                                                 ...         ...   \n",
      "2428  pCntrlde/webscr.php?cmd_=session.start&amp;sdr...          98   \n",
      "2429  pCntrlde/webscr.php?cmd_=session.start&amp;sdr...          92   \n",
      "2430  pCntrlde/webscr.php?cmd_=session.start&amp;sdr...          98   \n",
      "2431  pCntrlde/webscr.php?cmd_=session.start&amp;sdr...          94   \n",
      "2432  pCntrlde/webscr.php?cmd_=session.start&sdr01=a...          93   \n",
      "\n",
      "      path_rest_length  num_spcs_chars  domain_entropy  domain_age  \\\n",
      "0                   84               0          3.0270        -1.0   \n",
      "1                   57               0          3.1887        -1.0   \n",
      "2                   60               0          3.2028        -1.0   \n",
      "3                   57               0          3.1887        -1.0   \n",
      "4                  163               0          4.3849        -1.0   \n",
      "...                ...             ...             ...         ...   \n",
      "2428                84               0          3.0270        -1.0   \n",
      "2429                80               0          3.0958        -1.0   \n",
      "2430                84               0          3.0270        -1.0   \n",
      "2431                80               0          3.0270        -1.0   \n",
      "2432                80               0          3.1887        -1.0   \n",
      "\n",
      "      created_year  updated_year  expires_year country_code  word_count  \\\n",
      "0               -1            -1            -1           -1           6   \n",
      "1               -1            -1            -1           -1           1   \n",
      "2               -1            -1            -1           -1           4   \n",
      "3               -1            -1            -1           -1           1   \n",
      "4               -1            -1            -1           -1           4   \n",
      "...            ...           ...           ...          ...         ...   \n",
      "2428            -1            -1            -1           -1           6   \n",
      "2429            -1            -1            -1           -1           6   \n",
      "2430            -1            -1            -1           -1           6   \n",
      "2431            -1            -1            -1           -1           6   \n",
      "2432            -1            -1            -1           -1           5   \n",
      "\n",
      "      tld_in_path_rest Label  \n",
      "0                    1   bad  \n",
      "1                    0   bad  \n",
      "2                    3   bad  \n",
      "3                    0   bad  \n",
      "4                    0   bad  \n",
      "...                ...   ...  \n",
      "2428                 0   bad  \n",
      "2429                 0   bad  \n",
      "2430                 0   bad  \n",
      "2431                 0   bad  \n",
      "2432                 0   bad  \n",
      "\n",
      "[2406 rows x 16 columns]\n"
     ]
    }
   ],
   "source": [
    "def count_words_in_list(words_list, all_words_list):\n",
    "    count = 0\n",
    "    for word in words_list:\n",
    "        # Additional condition to check word length\n",
    "        if len(word) > 1 and len(word) < 10:\n",
    "            if word in all_words_list:\n",
    "                count += 1\n",
    "    return count\n",
    "\n",
    "def count_words_in_dataframe(dataframe, filtered_words_list):\n",
    "    try:\n",
    "        # Create a new column with word counts for each URL string\n",
    "        dataframe['tld_in_path_rest'] = dataframe['path_rest'].apply(lambda url_string: re.split(r\"[/,.,?,-,+,=,&,~,!,@,#,$,%,_,;]\", str(url_string)))\n",
    "        dataframe['tld_in_path_rest'] = dataframe['tld_in_path_rest'].apply(lambda words_list: count_words_in_list(words_list, filtered_words_list))\n",
    "\n",
    "    except TypeError:\n",
    "        # Handle the TypeError when encountering 'NAType' (missing or null values)\n",
    "        dataframe['tld_in_path_rest'] = 0\n",
    "\n",
    "    # Reorder the columns in the DataFrame\n",
    "    desired_column_order = list(dataframe.columns[:-2]) + ['tld_in_path_rest'] + [dataframe.columns[-2]]\n",
    "    dataframe = dataframe[desired_column_order]\n",
    "\n",
    "    return dataframe\n",
    "\n",
    "dataset = count_words_in_dataframe(dataset, filtered_words_list)"
   ]
  },
  {
   "cell_type": "code",
   "execution_count": 26,
   "metadata": {},
   "outputs": [
    {
     "data": {
      "text/plain": [
       "' def count_words_in_dataframe(dataframe, filtered_words_list):\\n    # Initialize an empty DataFrame to store the counts\\n    result_df = pd.DataFrame()\\n\\n    # Iterate over each row in the \\'path_rest\\' column\\n    for index, row in dataframe.iterrows():\\n        path_rest = row[\\'path_rest\\']\\n        \\n        try:\\n            # Split the string based on the specified characters into a list of words\\n            words_list = re.split(r\"[/,.,?,-,+,=,&,~,!,@,#,$,%,_,;]\", path_rest)\\n\\n            # Initialize a counter to keep track of occurrences of words from filtered_words_list\\n            counter = 0\\n            # Iterate over each word in the words_list\\n            for word in words_list:\\n                if len(word)>1 and len(word)<10:\\n                    if word in filtered_words_list:\\n                        counter += 1\\n\\n        except TypeError:\\n            # Handle the TypeError when encountering \\'NAType\\' (missing or null values)\\n            counter = 0\\n\\n        # Create a temporary DataFrame to store the count for the current row\\n        temp_df = pd.DataFrame({\\'Word_Count\\': [counter]})\\n        \\n        # Concatenate the temporary DataFrame with the result_df\\n        result_df = pd.concat([result_df, temp_df], ignore_index=True)\\n\\n    # Concatenate the result_df with the original dataframe\\n    dataframe_with_counts = pd.concat([dataframe.reset_index(drop=True), result_df], axis=1)\\n\\n    return dataframe_with_counts\\n\\n# Assuming you have a DataFrame named \\'original_dataframe\\' containing the \\'path_rest\\' column\\n# filtered_words_list contains the list of words from the previous step\\nresult_dataframe = count_words_in_dataframe(dataset, filtered_words_list)\\n\\nprint(result_dataframe)\\n '"
      ]
     },
     "execution_count": 26,
     "metadata": {},
     "output_type": "execute_result"
    }
   ],
   "source": [
    "\"\"\" def count_words_in_dataframe(dataframe, filtered_words_list):\n",
    "    # Initialize an empty DataFrame to store the counts\n",
    "    result_df = pd.DataFrame()\n",
    "\n",
    "    # Iterate over each row in the 'path_rest' column\n",
    "    for index, row in dataframe.iterrows():\n",
    "        path_rest = row['path_rest']\n",
    "        \n",
    "        try:\n",
    "            # Split the string based on the specified characters into a list of words\n",
    "            words_list = re.split(r\"[/,.,?,-,+,=,&,~,!,@,#,$,%,_,;]\", path_rest)\n",
    "\n",
    "            # Initialize a counter to keep track of occurrences of words from filtered_words_list\n",
    "            counter = 0\n",
    "            # Iterate over each word in the words_list\n",
    "            for word in words_list:\n",
    "                if len(word)>1 and len(word)<10:\n",
    "                    if word in filtered_words_list:\n",
    "                        counter += 1\n",
    "\n",
    "        except TypeError:\n",
    "            # Handle the TypeError when encountering 'NAType' (missing or null values)\n",
    "            counter = 0\n",
    "\n",
    "        # Create a temporary DataFrame to store the count for the current row\n",
    "        temp_df = pd.DataFrame({'Word_Count': [counter]})\n",
    "        \n",
    "        # Concatenate the temporary DataFrame with the result_df\n",
    "        result_df = pd.concat([result_df, temp_df], ignore_index=True)\n",
    "\n",
    "    # Concatenate the result_df with the original dataframe\n",
    "    dataframe_with_counts = pd.concat([dataframe.reset_index(drop=True), result_df], axis=1)\n",
    "\n",
    "    return dataframe_with_counts\n",
    "\n",
    "# Assuming you have a DataFrame named 'original_dataframe' containing the 'path_rest' column\n",
    "# filtered_words_list contains the list of words from the previous step\n",
    "result_dataframe = count_words_in_dataframe(dataset, filtered_words_list)\n",
    "\n",
    "print(result_dataframe)\n",
    " \"\"\""
   ]
  }
 ],
 "metadata": {
  "kernelspec": {
   "display_name": "venv",
   "language": "python",
   "name": "python3"
  },
  "language_info": {
   "codemirror_mode": {
    "name": "ipython",
    "version": 3
   },
   "file_extension": ".py",
   "mimetype": "text/x-python",
   "name": "python",
   "nbconvert_exporter": "python",
   "pygments_lexer": "ipython3",
   "version": "3.11.0"
  },
  "orig_nbformat": 4
 },
 "nbformat": 4,
 "nbformat_minor": 2
}
