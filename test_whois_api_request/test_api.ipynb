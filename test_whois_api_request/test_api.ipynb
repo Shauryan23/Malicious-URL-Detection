{
 "cells": [
  {
   "cell_type": "code",
   "execution_count": 1,
   "metadata": {},
   "outputs": [],
   "source": [
    "import pandas as pd\n",
    "import re\n",
    "import math\n",
    "import requests\n",
    "import json"
   ]
  },
  {
   "cell_type": "code",
   "execution_count": 2,
   "metadata": {},
   "outputs": [
    {
     "data": {
      "text/html": [
       "<div>\n",
       "<style scoped>\n",
       "    .dataframe tbody tr th:only-of-type {\n",
       "        vertical-align: middle;\n",
       "    }\n",
       "\n",
       "    .dataframe tbody tr th {\n",
       "        vertical-align: top;\n",
       "    }\n",
       "\n",
       "    .dataframe thead th {\n",
       "        text-align: right;\n",
       "    }\n",
       "</style>\n",
       "<table border=\"1\" class=\"dataframe\">\n",
       "  <thead>\n",
       "    <tr style=\"text-align: right;\">\n",
       "      <th></th>\n",
       "      <th>URL</th>\n",
       "      <th>Label</th>\n",
       "    </tr>\n",
       "  </thead>\n",
       "  <tbody>\n",
       "    <tr>\n",
       "      <th>0</th>\n",
       "      <td>nobell.it/70ffb52d079109dca5664cce6f317373782/...</td>\n",
       "      <td>bad</td>\n",
       "    </tr>\n",
       "    <tr>\n",
       "      <th>1</th>\n",
       "      <td>www.dghjdgf.com/paypal.co.uk/cycgi-bin/webscrc...</td>\n",
       "      <td>bad</td>\n",
       "    </tr>\n",
       "    <tr>\n",
       "      <th>2</th>\n",
       "      <td>avalanche.nhl.com/club/player.htm?id=8456933</td>\n",
       "      <td>good</td>\n",
       "    </tr>\n",
       "    <tr>\n",
       "      <th>3</th>\n",
       "      <td>serviciosbys.com/paypal.cgi.bin.get-into.herf....</td>\n",
       "      <td>bad</td>\n",
       "    </tr>\n",
       "    <tr>\n",
       "      <th>4</th>\n",
       "      <td>mail.printakid.com/www.online.americanexpress....</td>\n",
       "      <td>bad</td>\n",
       "    </tr>\n",
       "  </tbody>\n",
       "</table>\n",
       "</div>"
      ],
      "text/plain": [
       "                                                 URL Label\n",
       "0  nobell.it/70ffb52d079109dca5664cce6f317373782/...   bad\n",
       "1  www.dghjdgf.com/paypal.co.uk/cycgi-bin/webscrc...   bad\n",
       "2       avalanche.nhl.com/club/player.htm?id=8456933  good\n",
       "3  serviciosbys.com/paypal.cgi.bin.get-into.herf....   bad\n",
       "4  mail.printakid.com/www.online.americanexpress....   bad"
      ]
     },
     "execution_count": 2,
     "metadata": {},
     "output_type": "execute_result"
    }
   ],
   "source": [
    "df = pd.read_csv('test_urls.csv')\n",
    "df.head()"
   ]
  },
  {
   "cell_type": "code",
   "execution_count": 6,
   "metadata": {},
   "outputs": [],
   "source": [
    "# https://www.whoisxmlapi.com/whoisserver/WhoisService?apiKey=at_BGLU4RpM0fcKHpqsqHAYRWFl4bIt2&domainName=facebook.com\n",
    "\n",
    "# API Key: at_BGLU4RpM0fcKHpqsqHAYRWFl4bIt2\n",
    "# Rapid API Key: d2592fe48dmsh190428470dadf9cp1bf762jsnf40816e6115e (Shauryansingh23102001@gmail.com)\n",
    "\n",
    "def whois_api_request(domain_url):\n",
    "    url = \"https://whoisapi-whois-v2-v1.p.rapidapi.com/whoisserver/WhoisService\"\n",
    "\n",
    "    headers = {\n",
    "\t    \"X-RapidAPI-Key\": \"d2592fe48dmsh190428470dadf9cp1bf762jsnf40816e6115e\",\n",
    "\t    \"X-RapidAPI-Host\": \"whoisapi-whois-v2-v1.p.rapidapi.com\"\n",
    "    }\n",
    "\n",
    "    querystring = {\n",
    "        \"domainName\":domain_url,\n",
    "        \"apiKey\":\"at_BGLU4RpM0fcKHpqsqHAYRWFl4bIt2\",\n",
    "        \"outputFormat\":\"JSON\",\n",
    "        \"da\":\"0\",\n",
    "        \"ipwhois\":\"1\",\n",
    "        \"thinWhois\":\"0\",\n",
    "        \"_parse\":\"0\",\n",
    "        \"preferfresh\":\"1\",\n",
    "        \"checkproxydata\":\"0\",\n",
    "        \"ip\":\"1\"\n",
    "    }\n",
    "    \n",
    "    response = requests.get(url, headers=headers, params=querystring)\n",
    "    response_text = response.text\n",
    "\n",
    "    response_dict = {\"JSON_OBJ\": response, \"STRING_OBJ\": response_text}\n",
    "\n",
    "    return response_dict"
   ]
  },
  {
   "cell_type": "code",
   "execution_count": 3,
   "metadata": {},
   "outputs": [],
   "source": [
    "def count_digits(word):\n",
    "  return len(re.findall('[0-9]', word))\n",
    "\n",
    "def count_alphabets(word):\n",
    "  return len(re.findall('[A-z]', word))\n",
    "def remove_special_characters(input_string):\n",
    "  # Pattern to match any non-alphanumeric and non-space character\n",
    "  pattern = r'[^a-zA-Z0-9\\s]'  \n",
    "  return re.sub(pattern, '', input_string)\n",
    "def calculate_entropy(word):\n",
    "  if len(word) == 0:\n",
    "    return 0\n",
    "\n",
    "  entropy = 0\n",
    "  word_length = len(word)\n",
    "  char_count = {}\n",
    "\n",
    "  for char in word:\n",
    "    if char in char_count:\n",
    "      char_count[char] += 1\n",
    "    else:\n",
    "      char_count[char] = 1\n",
    "\n",
    "  for char in char_count:\n",
    "    probability = char_count[char] / word_length\n",
    "    entropy += -probability * math.log2(probability)\n",
    "\n",
    "  return round(entropy, 2)"
   ]
  },
  {
   "cell_type": "code",
   "execution_count": 16,
   "metadata": {},
   "outputs": [],
   "source": [
    "def count_special_characters(input_string):\n",
    "  special_characters = \"!@#$%^&*()-_=+[]{}|;:',.<>/?\"\n",
    "  count = 0\n",
    "\n",
    "  for char in input_string:\n",
    "    if char not in special_characters and not char.isalnum():\n",
    "      count += 1\n",
    "\n",
    "  return count\n"
   ]
  },
  {
   "cell_type": "code",
   "execution_count": 4,
   "metadata": {},
   "outputs": [],
   "source": [
    "DATA = []\n",
    "DATA1 = []\n",
    "DATA2 = []"
   ]
  },
  {
   "cell_type": "code",
   "execution_count": 5,
   "metadata": {},
   "outputs": [],
   "source": [
    "# Remember you have to write logic to check if the data returned by who is api has Data error or missing fields\n",
    "for index, row in df.iterrows():\n",
    "\n",
    "  if(index == 3):\n",
    "    break\n",
    "\n",
    "  URL = row[\"URL\"]\n",
    "  label = row[\"Label\"]\n",
    "\n",
    "  domain = URL.split(\"/\")[0]\n",
    "  url_length = len(URL)\n",
    "  domain_entropy = calculate_entropy(domain)\n",
    "\n",
    "  temp = URL.split(\"/\")\n",
    "  subdomain = temp[0].split(\".\")[-1]\n",
    "  path_rest = \"/\".join(temp[1:])\n",
    "  path_rest_length = len(path_rest)\n",
    "\n",
    "  words_list = re.split(\"[/,.,?,-,+,=,&,~,!,@,#,$,%,_,;]\", path_rest)\n",
    "\n",
    "  tld = domain.split(\".\")[-1]\n",
    "  tld_length = len(tld)\n",
    "  tld = tld.split(\":\")[0]\n",
    "  tld = tld.split(\"-\")[0]\n",
    "\n",
    "  num_spcs_chars = count_special_characters(path_rest)\n",
    "\n",
    "  df1_data = [\n",
    "    domain,\n",
    "    subdomain,\n",
    "    path_rest,\n",
    "    url_length,\n",
    "    path_rest_length,\n",
    "    domain_entropy,\n",
    "  ]\n",
    "  \n",
    "  DATA1.append(df1_data)\n",
    "\n",
    "  url = \"https://whoisapi-whois-v2-v1.p.rapidapi.com/whoisserver/WhoisService\"\n",
    "\n",
    "  domain_url_name = \"youtube.com\"\n",
    "\n",
    "  querystring = {\n",
    "    \"domainName\":domain,\n",
    "    \"apiKey\":\"at_BGLU4RpM0fcKHpqsqHAYRWFl4bIt2\",\n",
    "    \"outputFormat\":\"JSON\",\n",
    "    \"da\":\"0\",\n",
    "    \"ipwhois\":\"1\",\n",
    "    \"thinWhois\":\"0\",\n",
    "    \"_parse\":\"0\",\n",
    "    \"preferfresh\":\"1\",\n",
    "    \"checkproxydata\":\"0\",\n",
    "    \"ip\":\"1\"\n",
    "    }\n",
    "\n",
    "  headers = {\n",
    "    \"X-RapidAPI-Key\": \"d2592fe48dmsh190428470dadf9cp1bf762jsnf40816e6115e\",\n",
    "    \"X-RapidAPI-Host\": \"whoisapi-whois-v2-v1.p.rapidapi.com\"\n",
    "  }\n",
    "\n",
    "  response = requests.get(url, headers=headers, params=querystring)\n",
    "\n",
    "  print(response.json())"
   ]
  },
  {
   "cell_type": "code",
   "execution_count": 6,
   "metadata": {},
   "outputs": [],
   "source": [
    "df1 = pd.DataFrame(DATA1, columns=[\"domain\", \"url_length\", \"subdomain_length\", \"domain_entropy\"])"
   ]
  },
  {
   "cell_type": "code",
   "execution_count": 9,
   "metadata": {},
   "outputs": [],
   "source": [
    "import json\n",
    "\n",
    "# Assuming you have a file named 'data.json' containing the JSON data\n",
    "with open('output.json') as file:\n",
    "  parsed_data = json.load(file)\n",
    "\n",
    "print(parsed_data[\"WhoisRecord\"][\"createdDate\"][0:4])\n",
    "\n",
    "created_year = int(parsed_data[\"WhoisRecord\"][\"createdDate\"][0:4])\n",
    "updated_year = int(parsed_data[\"WhoisRecord\"][\"updatedDate\"][0:4])\n",
    "expires_year = int(parsed_data[\"WhoisRecord\"][\"expiresDate\"][0:4])\n",
    "country_code = parsed_data[\"WhoisRecord\"][\"registrant\"][\"countryCode\"]\n",
    "domain_age = int(parsed_data[\"WhoisRecord\"][\"estimatedDomainAge\"])"
   ]
  },
  {
   "cell_type": "code",
   "execution_count": 11,
   "metadata": {},
   "outputs": [],
   "source": [
    "temp = [\n",
    "  domain_age,\n",
    "  created_year,\n",
    "  updated_year,\n",
    "  expires_year,\n",
    "  country_code,\n",
    "]\n",
    "\n",
    "DATA2.append(temp)\n",
    "DATA2.append(temp)\n",
    "DATA2.append(temp)\n",
    "DATA2.append(temp)\n",
    "DATA2.append(temp)\n",
    "DATA2.append(temp)\n",
    "DATA2.append(temp)\n",
    "DATA2.append(temp)\n",
    "DATA2.append(temp)\n",
    "DATA2.append(temp)"
   ]
  },
  {
   "cell_type": "code",
   "execution_count": 12,
   "metadata": {},
   "outputs": [],
   "source": [
    "df2 = pd.DataFrame(DATA2, columns=[\"domain_age\", \"created_year\", \"updated_year\", \"expires_year\", \"country_code\"])"
   ]
  },
  {
   "cell_type": "code",
   "execution_count": 14,
   "metadata": {},
   "outputs": [
    {
     "name": "stdout",
     "output_type": "stream",
     "text": [
      "                    domain  url_length  subdomain_length  domain_entropy  \\\n",
      "0                nobell.it         225               215        2.947703   \n",
      "1          www.dghjdgf.com          81                65        3.189898   \n",
      "2        avalanche.nhl.com          44                26        3.219528   \n",
      "3         serviciosbys.com         177               160        3.327820   \n",
      "4       mail.printakid.com          60                41        3.572431   \n",
      "5           connect.in.com          52                37        2.842371   \n",
      "6  autremaroc.blogspot.com          47                23        3.653997   \n",
      "7      thewhiskeydregs.com         116                96        3.787144   \n",
      "8         en.wikipedia.org          45                28        3.452820   \n",
      "9   automotive.einnews.com          45                22        3.572624   \n",
      "\n",
      "   domain_age  created_year  updated_year  expires_year country_code  \n",
      "0        9602          1997          2023          2032           US  \n",
      "1        9602          1997          2023          2032           US  \n",
      "2        9602          1997          2023          2032           US  \n",
      "3        9602          1997          2023          2032           US  \n",
      "4        9602          1997          2023          2032           US  \n",
      "5        9602          1997          2023          2032           US  \n",
      "6        9602          1997          2023          2032           US  \n",
      "7        9602          1997          2023          2032           US  \n",
      "8        9602          1997          2023          2032           US  \n",
      "9        9602          1997          2023          2032           US  \n"
     ]
    }
   ],
   "source": [
    "result_horizontal = pd.concat([df1, df2], axis=1)\n",
    "print(result_horizontal)"
   ]
  },
  {
   "cell_type": "code",
   "execution_count": 15,
   "metadata": {},
   "outputs": [],
   "source": [
    "result_horizontal.to_csv('test_csv.csv', index=False)"
   ]
  }
 ],
 "metadata": {
  "kernelspec": {
   "display_name": "venv",
   "language": "python",
   "name": "python3"
  },
  "language_info": {
   "codemirror_mode": {
    "name": "ipython",
    "version": 3
   },
   "file_extension": ".py",
   "mimetype": "text/x-python",
   "name": "python",
   "nbconvert_exporter": "python",
   "pygments_lexer": "ipython3",
   "version": "3.11.0"
  },
  "orig_nbformat": 4
 },
 "nbformat": 4,
 "nbformat_minor": 2
}
