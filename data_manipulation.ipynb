{
 "cells": [
  {
   "cell_type": "code",
   "execution_count": 1,
   "metadata": {},
   "outputs": [],
   "source": [
    "import pandas as pd\n",
    "import re\n",
    "import math\n",
    "import requests"
   ]
  },
  {
   "cell_type": "code",
   "execution_count": 3,
   "metadata": {},
   "outputs": [
    {
     "data": {
      "text/html": [
       "<div>\n",
       "<style scoped>\n",
       "    .dataframe tbody tr th:only-of-type {\n",
       "        vertical-align: middle;\n",
       "    }\n",
       "\n",
       "    .dataframe tbody tr th {\n",
       "        vertical-align: top;\n",
       "    }\n",
       "\n",
       "    .dataframe thead th {\n",
       "        text-align: right;\n",
       "    }\n",
       "</style>\n",
       "<table border=\"1\" class=\"dataframe\">\n",
       "  <thead>\n",
       "    <tr style=\"text-align: right;\">\n",
       "      <th></th>\n",
       "      <th>URL</th>\n",
       "      <th>Label</th>\n",
       "    </tr>\n",
       "  </thead>\n",
       "  <tbody>\n",
       "    <tr>\n",
       "      <th>0</th>\n",
       "      <td>nobell.it/70ffb52d079109dca5664cce6f317373782/...</td>\n",
       "      <td>bad</td>\n",
       "    </tr>\n",
       "    <tr>\n",
       "      <th>1</th>\n",
       "      <td>www.dghjdgf.com/paypal.co.uk/cycgi-bin/webscrc...</td>\n",
       "      <td>bad</td>\n",
       "    </tr>\n",
       "    <tr>\n",
       "      <th>2</th>\n",
       "      <td>serviciosbys.com/paypal.cgi.bin.get-into.herf....</td>\n",
       "      <td>bad</td>\n",
       "    </tr>\n",
       "    <tr>\n",
       "      <th>3</th>\n",
       "      <td>mail.printakid.com/www.online.americanexpress....</td>\n",
       "      <td>bad</td>\n",
       "    </tr>\n",
       "    <tr>\n",
       "      <th>4</th>\n",
       "      <td>thewhiskeydregs.com/wp-content/themes/widescre...</td>\n",
       "      <td>bad</td>\n",
       "    </tr>\n",
       "  </tbody>\n",
       "</table>\n",
       "</div>"
      ],
      "text/plain": [
       "                                                 URL Label\n",
       "0  nobell.it/70ffb52d079109dca5664cce6f317373782/...   bad\n",
       "1  www.dghjdgf.com/paypal.co.uk/cycgi-bin/webscrc...   bad\n",
       "2  serviciosbys.com/paypal.cgi.bin.get-into.herf....   bad\n",
       "3  mail.printakid.com/www.online.americanexpress....   bad\n",
       "4  thewhiskeydregs.com/wp-content/themes/widescre...   bad"
      ]
     },
     "execution_count": 3,
     "metadata": {},
     "output_type": "execute_result"
    }
   ],
   "source": [
    "df = pd.read_csv('phishing_site_urls.csv')\n",
    "df.head()"
   ]
  },
  {
   "cell_type": "code",
   "execution_count": 4,
   "metadata": {},
   "outputs": [],
   "source": [
    "tldSet = set()\n",
    "word_frequency = {}\n",
    "sensitive_words = []"
   ]
  },
  {
   "cell_type": "code",
   "execution_count": 5,
   "metadata": {},
   "outputs": [],
   "source": [
    "def remove_special_characters(input_string):\n",
    "  # Pattern to match any non-alphanumeric and non-space character\n",
    "  pattern = r'[^a-zA-Z0-9\\s]'  \n",
    "  return re.sub(pattern, '', input_string)"
   ]
  },
  {
   "cell_type": "code",
   "execution_count": null,
   "metadata": {},
   "outputs": [],
   "source": [
    "def calculate_entropy(word):\n",
    "  if len(word) == 0:\n",
    "    return 0\n",
    "\n",
    "  entropy = 0\n",
    "  word_length = len(word)\n",
    "  char_count = {}\n",
    "\n",
    "  for char in word:\n",
    "    if char in char_count:\n",
    "      char_count[char] += 1\n",
    "    else:\n",
    "      char_count[char] = 1\n",
    "\n",
    "  for char in char_count:\n",
    "    probability = char_count[char] / word_length\n",
    "    entropy += -probability * math.log2(probability)\n",
    "\n",
    "  return entropy"
   ]
  },
  {
   "cell_type": "code",
   "execution_count": 7,
   "metadata": {},
   "outputs": [],
   "source": [
    "# Iterate all rows using DataFrame.iterrows()\n",
    "for index, row in df.iterrows():\n",
    "  # if(index == 250):\n",
    "  #   break\n",
    "\n",
    "  URL = row[\"URL\"]\n",
    "  domain = URL.split(\"/\")[0]\n",
    "  tld = domain.split(\".\")[-1]\n",
    "  tld_length = len(tld)\n",
    "  url_length = len(URL)\n",
    "\n",
    "  tldSet.add(tld)\n",
    "\n",
    "  if row[\"Label\"] == \"bad\":\n",
    "    temp = URL.split(\"/\")\n",
    "    subdomain = \"/\".join(temp[1:])\n",
    "\n",
    "    words_list = re.split(\"[/,.,?,-,+,=,&,~,!,@,#,$,%,_,;]\", subdomain)\n",
    "    for word in words_list:\n",
    "      word = word.strip().lower()\n",
    "      word = remove_special_characters(word)\n",
    "      digs = len(re.findall('[0-9]', word))\n",
    "      alps = len(re.findall('[A-z]', word))\n",
    "      if(len(word) < 2 or len(word) > 15 or digs > alps):\n",
    "        continue\n",
    "      if word in word_frequency:\n",
    "        word_frequency[word] += 1\n",
    "      else:\n",
    "        word_frequency[word] = 1"
   ]
  },
  {
   "cell_type": "code",
   "execution_count": null,
   "metadata": {},
   "outputs": [],
   "source": [
    "sorted_word_frequency = sorted(word_frequency.items(), key=lambda x:x[1], reverse=True)\n",
    "\n",
    "for it in sorted_word_frequency:\n",
    "  if(it[1] > 5):\n",
    "    sensitive_words.append(it)\n",
    "\n",
    "#### *** Export Sensitive Words to a file. Only the words sensitive_words[0] *** ###\n",
    "#### *** Loop through good label rows to export their TLD to a file *** ###"
   ]
  },
  {
   "cell_type": "code",
   "execution_count": null,
   "metadata": {},
   "outputs": [],
   "source": [
    "for it in sensitive_words:\n",
    "  print(it[0], \" : \", it[1], \"\\n\")"
   ]
  },
  {
   "cell_type": "code",
   "execution_count": null,
   "metadata": {},
   "outputs": [],
   "source": [
    "with open('output.txt', 'w') as file:\n",
    "  for item in sensitive_words:\n",
    "    file.write(str(item) + '\\n')"
   ]
  },
  {
   "cell_type": "code",
   "execution_count": null,
   "metadata": {},
   "outputs": [],
   "source": [
    "# https://www.whoisxmlapi.com/whoisserver/WhoisService?apiKey=at_BGLU4RpM0fcKHpqsqHAYRWFl4bIt2&domainName=facebook.com\n",
    "\n",
    "# API Key: at_BGLU4RpM0fcKHpqsqHAYRWFl4bIt2\n",
    "# Rapid API Key: d2592fe48dmsh190428470dadf9cp1bf762jsnf40816e6115e (Shauryansingh23102001@gm)\n",
    "\n",
    "url = \"https://whoisapi-whois-v2-v1.p.rapidapi.com/whoisserver/WhoisService\"\n",
    "\n",
    "querystring = {\"domainName\":\"codechef.com\",\n",
    "              \"apiKey\":\"at_BGLU4RpM0fcKHpqsqHAYRWFl4bIt2\",\n",
    "              \"outputFormat\":\"JSON\",\n",
    "              \"da\":\"0\",\n",
    "              \"ipwhois\":\"1\",\n",
    "              \"thinWhois\":\"0\",\n",
    "              \"_parse\":\"0\",\n",
    "              \"preferfresh\":\"1\",\n",
    "              \"checkproxydata\":\"0\",\n",
    "              \"ip\":\"1\"\n",
    "              }\n",
    "\n",
    "headers = {\n",
    "\t\"X-RapidAPI-Key\": \"d2592fe48dmsh190428470dadf9cp1bf762jsnf40816e6115e\",\n",
    "\t\"X-RapidAPI-Host\": \"whoisapi-whois-v2-v1.p.rapidapi.com\"\n",
    "}\n",
    "\n",
    "response = requests.get(url, headers=headers, params=querystring)\n",
    "\n",
    "print(response.json())"
   ]
  },
  {
   "cell_type": "markdown",
   "metadata": {},
   "source": [
    "### Important Attributes From WHOIS API\n",
    "---\n",
    "createdDate: Date Format String\n",
    "\n",
    "updatedDate: Date Format String\n",
    "\n",
    "expiresDate: Date Format String\n",
    "\n",
    "registrant.countryCode : String\n",
    "\n",
    "registrarName: String\n",
    "\n",
    "domainNameExt: String\n",
    "\n",
    "estimatedDomainAge : Int\n",
    "\n",
    "ips : Array[STRING]\n",
    "\n",
    "registrarIANAID\n",
    "\n",
    "Nameservers: \n",
    "\n",
    "Cheack if nameservers are from reputable hosting providers"
   ]
  },
  {
   "cell_type": "code",
   "execution_count": null,
   "metadata": {},
   "outputs": [],
   "source": [
    "response_text = response.text"
   ]
  },
  {
   "cell_type": "code",
   "execution_count": null,
   "metadata": {},
   "outputs": [],
   "source": [
    "with open(\"output2.json\", \"w\") as file:\n",
    "  # Write the response content to the file\n",
    "  file.write(response_text)"
   ]
  }
 ],
 "metadata": {
  "kernelspec": {
   "display_name": "venv",
   "language": "python",
   "name": "python3"
  },
  "language_info": {
   "codemirror_mode": {
    "name": "ipython",
    "version": 3
   },
   "file_extension": ".py",
   "mimetype": "text/x-python",
   "name": "python",
   "nbconvert_exporter": "python",
   "pygments_lexer": "ipython3",
   "version": "3.11.0"
  },
  "orig_nbformat": 4
 },
 "nbformat": 4,
 "nbformat_minor": 2
}
